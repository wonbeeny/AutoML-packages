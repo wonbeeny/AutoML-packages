{
 "cells": [
  {
   "cell_type": "markdown",
   "metadata": {},
   "source": [
    "# Pycaret "
   ]
  },
  {
   "cell_type": "markdown",
   "metadata": {},
   "source": [
    "<img src=\"https://pycaret.org/wp-content/uploads/2020/07/1.png\" width=\"60%\">"
   ]
  },
  {
   "cell_type": "markdown",
   "metadata": {},
   "source": [
    "# Index"
   ]
  },
  {
   "cell_type": "markdown",
   "metadata": {},
   "source": [
    "## 0. Introduction & Installation of Pycaret"
   ]
  },
  {
   "cell_type": "markdown",
   "metadata": {},
   "source": [
    "### 0-0. What is Pycaret?"
   ]
  },
  {
   "cell_type": "markdown",
   "metadata": {},
   "source": [
    "<img src=\"https://miro.medium.com/max/875/1*wT0m1kx8WjY_P7hrM6KDbA.png\" width=\"50%\">"
   ]
  },
  {
   "cell_type": "markdown",
   "metadata": {},
   "source": [
    "##### concepts\n",
    "- An open source, low-code machine learning library in Python\n",
    "- It automates machine learning workflow\n",
    "- An end-to-end machine learning and model managemnet tool that speeds up machine learning experiment cycle\n",
    "- It aims to reduce the cycle time from hypothesis to insights\n",
    "- It makes us more productive"
   ]
  },
  {
   "cell_type": "markdown",
   "metadata": {},
   "source": [
    "- Low-code\n",
    "    - 기존의 수동 코딩 컴퓨터 프로그래밍 대신 그래픽 사용자 인터페이스 및 구성을 통해 응용 프로그램 소프트웨어를 만드는데 사용되는 개발 환경을 제공하는 소프트웨어"
   ]
  },
  {
   "cell_type": "markdown",
   "metadata": {},
   "source": [
    "### 0-1. Installing Pycaret"
   ]
  },
  {
   "cell_type": "code",
   "execution_count": null,
   "metadata": {},
   "outputs": [],
   "source": [
    "!pip install pycaret==2.0"
   ]
  },
  {
   "cell_type": "markdown",
   "metadata": {},
   "source": [
    "## 1. Initialize"
   ]
  },
  {
   "cell_type": "markdown",
   "metadata": {},
   "source": [
    "### 1-1. Packages"
   ]
  },
  {
   "cell_type": "code",
   "execution_count": 1,
   "metadata": {},
   "outputs": [],
   "source": [
    "## Basic module\n",
    "import pandas as pd\n",
    "import numpy as np\n",
    "\n",
    "## Pycaret classification module\n",
    "from pycaret.classification import *"
   ]
  },
  {
   "cell_type": "markdown",
   "metadata": {},
   "source": [
    "### 1-2. Load Data"
   ]
  },
  {
   "cell_type": "markdown",
   "metadata": {},
   "source": [
    "#### Data 및 target 소개\n",
    "    - Data : Safe Driver Prediction\n",
    "    - Shape : (30,240, 17)\n",
    "    - Target : 회사가 자동차 보험료를 지불하는지 여부(0 / 1)\n",
    "    - 해당 데이터에서는 target이 0과 1로 인코딩 되어있음\n",
    "    - 0 : 회사는 자동차 보험료를 지불함 / 1 : 회사는 자동차 보험료를 지불하지 않음\n",
    "    - 비용 차원에서 생각하면 회사는 자동차 보험료를 지불하지 않는 것이 이득\n",
    "    - Binary Classification data"
   ]
  },
  {
   "cell_type": "markdown",
   "metadata": {},
   "source": [
    "#### 1-2-1. What is Binary Classification?\n",
    "    - a supervised machine learning technique where the goal is to predict categorical class labels \n",
    "    - which are discrete and unoredered such as Pass/Fail, Positive/Negative\n",
    "\n"
   ]
  },
  {
   "cell_type": "code",
   "execution_count": 3,
   "metadata": {},
   "outputs": [],
   "source": [
    "import os\n",
    "os.chdir(\"/home/advice/HYJ/\")"
   ]
  },
  {
   "cell_type": "code",
   "execution_count": 4,
   "metadata": {},
   "outputs": [
    {
     "data": {
      "text/html": [
       "<div>\n",
       "<style scoped>\n",
       "    .dataframe tbody tr th:only-of-type {\n",
       "        vertical-align: middle;\n",
       "    }\n",
       "\n",
       "    .dataframe tbody tr th {\n",
       "        vertical-align: top;\n",
       "    }\n",
       "\n",
       "    .dataframe thead th {\n",
       "        text-align: right;\n",
       "    }\n",
       "</style>\n",
       "<table border=\"1\" class=\"dataframe\">\n",
       "  <thead>\n",
       "    <tr style=\"text-align: right;\">\n",
       "      <th></th>\n",
       "      <th>ID</th>\n",
       "      <th>target</th>\n",
       "      <th>Gender</th>\n",
       "      <th>EngineHP</th>\n",
       "      <th>credit_history</th>\n",
       "      <th>Years_Experience</th>\n",
       "      <th>annual_claims</th>\n",
       "      <th>Marital_Status</th>\n",
       "      <th>Vehical_type</th>\n",
       "      <th>Miles_driven_annually</th>\n",
       "      <th>size_of_family</th>\n",
       "      <th>Age_bucket</th>\n",
       "      <th>EngineHP_bucket</th>\n",
       "      <th>Years_Experience_bucket</th>\n",
       "      <th>Miles_driven_annually_bucket</th>\n",
       "      <th>credit_history_bucket</th>\n",
       "      <th>State</th>\n",
       "    </tr>\n",
       "  </thead>\n",
       "  <tbody>\n",
       "    <tr>\n",
       "      <th>0</th>\n",
       "      <td>1</td>\n",
       "      <td>1</td>\n",
       "      <td>F</td>\n",
       "      <td>522</td>\n",
       "      <td>656</td>\n",
       "      <td>1</td>\n",
       "      <td>0</td>\n",
       "      <td>Married</td>\n",
       "      <td>Car</td>\n",
       "      <td>14749.0</td>\n",
       "      <td>5</td>\n",
       "      <td>&lt;18</td>\n",
       "      <td>&gt;350</td>\n",
       "      <td>&lt;3</td>\n",
       "      <td>&lt;15k</td>\n",
       "      <td>Fair</td>\n",
       "      <td>IL</td>\n",
       "    </tr>\n",
       "    <tr>\n",
       "      <th>1</th>\n",
       "      <td>2</td>\n",
       "      <td>1</td>\n",
       "      <td>F</td>\n",
       "      <td>691</td>\n",
       "      <td>704</td>\n",
       "      <td>16</td>\n",
       "      <td>0</td>\n",
       "      <td>Married</td>\n",
       "      <td>Car</td>\n",
       "      <td>15389.0</td>\n",
       "      <td>6</td>\n",
       "      <td>28-34</td>\n",
       "      <td>&gt;350</td>\n",
       "      <td>15-30</td>\n",
       "      <td>15k-25k</td>\n",
       "      <td>Good</td>\n",
       "      <td>NJ</td>\n",
       "    </tr>\n",
       "    <tr>\n",
       "      <th>2</th>\n",
       "      <td>3</td>\n",
       "      <td>1</td>\n",
       "      <td>M</td>\n",
       "      <td>133</td>\n",
       "      <td>691</td>\n",
       "      <td>15</td>\n",
       "      <td>0</td>\n",
       "      <td>Married</td>\n",
       "      <td>Van</td>\n",
       "      <td>9956.0</td>\n",
       "      <td>3</td>\n",
       "      <td>&gt;40</td>\n",
       "      <td>90-160</td>\n",
       "      <td>15-30</td>\n",
       "      <td>&lt;15k</td>\n",
       "      <td>Good</td>\n",
       "      <td>CT</td>\n",
       "    </tr>\n",
       "    <tr>\n",
       "      <th>3</th>\n",
       "      <td>4</td>\n",
       "      <td>1</td>\n",
       "      <td>M</td>\n",
       "      <td>146</td>\n",
       "      <td>720</td>\n",
       "      <td>9</td>\n",
       "      <td>0</td>\n",
       "      <td>Married</td>\n",
       "      <td>Van</td>\n",
       "      <td>77323.0</td>\n",
       "      <td>3</td>\n",
       "      <td>18-27</td>\n",
       "      <td>90-160</td>\n",
       "      <td>9-14'</td>\n",
       "      <td>&gt;25k</td>\n",
       "      <td>Good</td>\n",
       "      <td>CT</td>\n",
       "    </tr>\n",
       "    <tr>\n",
       "      <th>4</th>\n",
       "      <td>5</td>\n",
       "      <td>1</td>\n",
       "      <td>M</td>\n",
       "      <td>128</td>\n",
       "      <td>771</td>\n",
       "      <td>33</td>\n",
       "      <td>1</td>\n",
       "      <td>Married</td>\n",
       "      <td>Van</td>\n",
       "      <td>14183.0</td>\n",
       "      <td>4</td>\n",
       "      <td>&gt;40</td>\n",
       "      <td>90-160</td>\n",
       "      <td>&gt;30</td>\n",
       "      <td>&lt;15k</td>\n",
       "      <td>Very Good</td>\n",
       "      <td>WY</td>\n",
       "    </tr>\n",
       "  </tbody>\n",
       "</table>\n",
       "</div>"
      ],
      "text/plain": [
       "   ID  target Gender  EngineHP  credit_history  Years_Experience  \\\n",
       "0   1       1      F       522             656                 1   \n",
       "1   2       1      F       691             704                16   \n",
       "2   3       1      M       133             691                15   \n",
       "3   4       1      M       146             720                 9   \n",
       "4   5       1      M       128             771                33   \n",
       "\n",
       "   annual_claims Marital_Status Vehical_type  Miles_driven_annually  \\\n",
       "0              0        Married          Car                14749.0   \n",
       "1              0        Married          Car                15389.0   \n",
       "2              0        Married          Van                 9956.0   \n",
       "3              0        Married          Van                77323.0   \n",
       "4              1        Married          Van                14183.0   \n",
       "\n",
       "   size_of_family Age_bucket EngineHP_bucket Years_Experience_bucket  \\\n",
       "0               5        <18            >350                      <3   \n",
       "1               6      28-34            >350                   15-30   \n",
       "2               3        >40          90-160                   15-30   \n",
       "3               3      18-27          90-160                   9-14'   \n",
       "4               4        >40          90-160                     >30   \n",
       "\n",
       "  Miles_driven_annually_bucket credit_history_bucket State  \n",
       "0                         <15k                  Fair    IL  \n",
       "1                      15k-25k                  Good    NJ  \n",
       "2                         <15k                  Good    CT  \n",
       "3                         >25k                  Good    CT  \n",
       "4                         <15k             Very Good    WY  "
      ]
     },
     "execution_count": 4,
     "metadata": {},
     "output_type": "execute_result"
    }
   ],
   "source": [
    "driver = pd.read_csv(\"./data/drvier.csv\")\n",
    "driver.head()"
   ]
  },
  {
   "cell_type": "markdown",
   "metadata": {},
   "source": [
    "### 1-3. Processing Data\n",
    "    - 데이터 내 특수 기호 처리를 위한 전처리 과정\n",
    "    - 모델링 시 문제가 되는 특수 기호를 다른 기호로 처리"
   ]
  },
  {
   "cell_type": "code",
   "execution_count": 5,
   "metadata": {},
   "outputs": [],
   "source": [
    "col1 = driver['Age_bucket']\n",
    "col2 = driver['EngineHP_bucket']\n",
    "col3 = driver['Years_Experience_bucket']\n",
    "col4 = driver['Miles_driven_annually_bucket']"
   ]
  },
  {
   "cell_type": "code",
   "execution_count": 6,
   "metadata": {},
   "outputs": [],
   "source": [
    "col1_new = col1.replace('>40', '40~')\n",
    "col1_new = col1_new.replace('<18', '~18')\n",
    "\n",
    "col2_new = col2.replace('>350', '350~')\n",
    "col2_new = col2_new.replace('<90', '~90')\n",
    "\n",
    "col3_new = col3.replace('<3', '3~')\n",
    "col3_new = col3_new.replace('>30', '30~')\n",
    "col3_new = col3_new.replace(\"3-8'\", '3-8')\n",
    "col3_new = col3_new.replace(\"9-14'\", '9-14')\n",
    "\n",
    "col4_new = col4.replace('<15k', '~15k')\n",
    "col4_new = col4_new.replace('>25k', '25k~')"
   ]
  },
  {
   "cell_type": "code",
   "execution_count": 7,
   "metadata": {
    "scrolled": true
   },
   "outputs": [
    {
     "data": {
      "text/html": [
       "<div>\n",
       "<style scoped>\n",
       "    .dataframe tbody tr th:only-of-type {\n",
       "        vertical-align: middle;\n",
       "    }\n",
       "\n",
       "    .dataframe tbody tr th {\n",
       "        vertical-align: top;\n",
       "    }\n",
       "\n",
       "    .dataframe thead th {\n",
       "        text-align: right;\n",
       "    }\n",
       "</style>\n",
       "<table border=\"1\" class=\"dataframe\">\n",
       "  <thead>\n",
       "    <tr style=\"text-align: right;\">\n",
       "      <th></th>\n",
       "      <th>ID</th>\n",
       "      <th>target</th>\n",
       "      <th>Gender</th>\n",
       "      <th>EngineHP</th>\n",
       "      <th>credit_history</th>\n",
       "      <th>Years_Experience</th>\n",
       "      <th>annual_claims</th>\n",
       "      <th>Marital_Status</th>\n",
       "      <th>Vehical_type</th>\n",
       "      <th>Miles_driven_annually</th>\n",
       "      <th>size_of_family</th>\n",
       "      <th>Age_bucket</th>\n",
       "      <th>EngineHP_bucket</th>\n",
       "      <th>Years_Experience_bucket</th>\n",
       "      <th>Miles_driven_annually_bucket</th>\n",
       "      <th>credit_history_bucket</th>\n",
       "      <th>State</th>\n",
       "    </tr>\n",
       "  </thead>\n",
       "  <tbody>\n",
       "    <tr>\n",
       "      <th>0</th>\n",
       "      <td>1</td>\n",
       "      <td>1</td>\n",
       "      <td>F</td>\n",
       "      <td>522</td>\n",
       "      <td>656</td>\n",
       "      <td>1</td>\n",
       "      <td>0</td>\n",
       "      <td>Married</td>\n",
       "      <td>Car</td>\n",
       "      <td>14749.0</td>\n",
       "      <td>5</td>\n",
       "      <td>~18</td>\n",
       "      <td>350~</td>\n",
       "      <td>3~</td>\n",
       "      <td>~15k</td>\n",
       "      <td>Fair</td>\n",
       "      <td>IL</td>\n",
       "    </tr>\n",
       "    <tr>\n",
       "      <th>1</th>\n",
       "      <td>2</td>\n",
       "      <td>1</td>\n",
       "      <td>F</td>\n",
       "      <td>691</td>\n",
       "      <td>704</td>\n",
       "      <td>16</td>\n",
       "      <td>0</td>\n",
       "      <td>Married</td>\n",
       "      <td>Car</td>\n",
       "      <td>15389.0</td>\n",
       "      <td>6</td>\n",
       "      <td>28-34</td>\n",
       "      <td>350~</td>\n",
       "      <td>15-30</td>\n",
       "      <td>15k-25k</td>\n",
       "      <td>Good</td>\n",
       "      <td>NJ</td>\n",
       "    </tr>\n",
       "    <tr>\n",
       "      <th>2</th>\n",
       "      <td>3</td>\n",
       "      <td>1</td>\n",
       "      <td>M</td>\n",
       "      <td>133</td>\n",
       "      <td>691</td>\n",
       "      <td>15</td>\n",
       "      <td>0</td>\n",
       "      <td>Married</td>\n",
       "      <td>Van</td>\n",
       "      <td>9956.0</td>\n",
       "      <td>3</td>\n",
       "      <td>40~</td>\n",
       "      <td>90-160</td>\n",
       "      <td>15-30</td>\n",
       "      <td>~15k</td>\n",
       "      <td>Good</td>\n",
       "      <td>CT</td>\n",
       "    </tr>\n",
       "    <tr>\n",
       "      <th>3</th>\n",
       "      <td>4</td>\n",
       "      <td>1</td>\n",
       "      <td>M</td>\n",
       "      <td>146</td>\n",
       "      <td>720</td>\n",
       "      <td>9</td>\n",
       "      <td>0</td>\n",
       "      <td>Married</td>\n",
       "      <td>Van</td>\n",
       "      <td>77323.0</td>\n",
       "      <td>3</td>\n",
       "      <td>18-27</td>\n",
       "      <td>90-160</td>\n",
       "      <td>9-14</td>\n",
       "      <td>25k~</td>\n",
       "      <td>Good</td>\n",
       "      <td>CT</td>\n",
       "    </tr>\n",
       "    <tr>\n",
       "      <th>4</th>\n",
       "      <td>5</td>\n",
       "      <td>1</td>\n",
       "      <td>M</td>\n",
       "      <td>128</td>\n",
       "      <td>771</td>\n",
       "      <td>33</td>\n",
       "      <td>1</td>\n",
       "      <td>Married</td>\n",
       "      <td>Van</td>\n",
       "      <td>14183.0</td>\n",
       "      <td>4</td>\n",
       "      <td>40~</td>\n",
       "      <td>90-160</td>\n",
       "      <td>30~</td>\n",
       "      <td>~15k</td>\n",
       "      <td>Very Good</td>\n",
       "      <td>WY</td>\n",
       "    </tr>\n",
       "  </tbody>\n",
       "</table>\n",
       "</div>"
      ],
      "text/plain": [
       "   ID  target Gender  EngineHP  credit_history  Years_Experience  \\\n",
       "0   1       1      F       522             656                 1   \n",
       "1   2       1      F       691             704                16   \n",
       "2   3       1      M       133             691                15   \n",
       "3   4       1      M       146             720                 9   \n",
       "4   5       1      M       128             771                33   \n",
       "\n",
       "   annual_claims Marital_Status Vehical_type  Miles_driven_annually  \\\n",
       "0              0        Married          Car                14749.0   \n",
       "1              0        Married          Car                15389.0   \n",
       "2              0        Married          Van                 9956.0   \n",
       "3              0        Married          Van                77323.0   \n",
       "4              1        Married          Van                14183.0   \n",
       "\n",
       "   size_of_family Age_bucket EngineHP_bucket Years_Experience_bucket  \\\n",
       "0               5        ~18            350~                      3~   \n",
       "1               6      28-34            350~                   15-30   \n",
       "2               3        40~          90-160                   15-30   \n",
       "3               3      18-27          90-160                    9-14   \n",
       "4               4        40~          90-160                     30~   \n",
       "\n",
       "  Miles_driven_annually_bucket credit_history_bucket State  \n",
       "0                         ~15k                  Fair    IL  \n",
       "1                      15k-25k                  Good    NJ  \n",
       "2                         ~15k                  Good    CT  \n",
       "3                         25k~                  Good    CT  \n",
       "4                         ~15k             Very Good    WY  "
      ]
     },
     "execution_count": 7,
     "metadata": {},
     "output_type": "execute_result"
    }
   ],
   "source": [
    "driver['Age_bucket'] = col1_new\n",
    "driver['EngineHP_bucket'] = col2_new\n",
    "driver['Years_Experience_bucket'] = col3_new\n",
    "driver['Miles_driven_annually_bucket'] = col4_new\n",
    "\n",
    "driver.head()"
   ]
  },
  {
   "cell_type": "markdown",
   "metadata": {},
   "source": [
    "### 1-4. Setting up\n",
    "\n",
    "#### - 모델링을 위한 데이터를 준비하기 위해 transforamtion pipeline을 생성하는 과정\n",
    "#### - Mandatory Parameter\n",
    "    - Pandas Dataframe\n",
    "    - Name of the \"target\" colunm\n",
    "#### - setup(data, target = \"target_name\")\n",
    "#### - Initialize the setup in other environment\n",
    "    - (In Non-Notebook env) : setup(data, target, html = False)\n",
    "    - (Remote runs like Kaggle of Github actions) : setup(data, target, silent = True)\n",
    "#### - setup() 함수 내에서 사용할 수 있는 다양한 옵션 및 파라미터에 대한 설명\n",
    "    - pycaret.org 참고"
   ]
  },
  {
   "cell_type": "code",
   "execution_count": 25,
   "metadata": {},
   "outputs": [
    {
     "name": "stdout",
     "output_type": "stream",
     "text": [
      "Setup Succesfully Completed!\n"
     ]
    },
    {
     "data": {
      "text/html": [
       "<style  type=\"text/css\" >\n",
       "    #T_d7e0c998_e5f9_11ea_8e80_04d9f5515528row4_col1 {\n",
       "            background-color:  lightgreen;\n",
       "        }</style><table id=\"T_d7e0c998_e5f9_11ea_8e80_04d9f5515528\" ><thead>    <tr>        <th class=\"blank level0\" ></th>        <th class=\"col_heading level0 col0\" >Description</th>        <th class=\"col_heading level0 col1\" >Value</th>    </tr></thead><tbody>\n",
       "                <tr>\n",
       "                        <th id=\"T_d7e0c998_e5f9_11ea_8e80_04d9f5515528level0_row0\" class=\"row_heading level0 row0\" >0</th>\n",
       "                        <td id=\"T_d7e0c998_e5f9_11ea_8e80_04d9f5515528row0_col0\" class=\"data row0 col0\" >session_id</td>\n",
       "                        <td id=\"T_d7e0c998_e5f9_11ea_8e80_04d9f5515528row0_col1\" class=\"data row0 col1\" >1004</td>\n",
       "            </tr>\n",
       "            <tr>\n",
       "                        <th id=\"T_d7e0c998_e5f9_11ea_8e80_04d9f5515528level0_row1\" class=\"row_heading level0 row1\" >1</th>\n",
       "                        <td id=\"T_d7e0c998_e5f9_11ea_8e80_04d9f5515528row1_col0\" class=\"data row1 col0\" >Target Type</td>\n",
       "                        <td id=\"T_d7e0c998_e5f9_11ea_8e80_04d9f5515528row1_col1\" class=\"data row1 col1\" >Binary</td>\n",
       "            </tr>\n",
       "            <tr>\n",
       "                        <th id=\"T_d7e0c998_e5f9_11ea_8e80_04d9f5515528level0_row2\" class=\"row_heading level0 row2\" >2</th>\n",
       "                        <td id=\"T_d7e0c998_e5f9_11ea_8e80_04d9f5515528row2_col0\" class=\"data row2 col0\" >Label Encoded</td>\n",
       "                        <td id=\"T_d7e0c998_e5f9_11ea_8e80_04d9f5515528row2_col1\" class=\"data row2 col1\" >None</td>\n",
       "            </tr>\n",
       "            <tr>\n",
       "                        <th id=\"T_d7e0c998_e5f9_11ea_8e80_04d9f5515528level0_row3\" class=\"row_heading level0 row3\" >3</th>\n",
       "                        <td id=\"T_d7e0c998_e5f9_11ea_8e80_04d9f5515528row3_col0\" class=\"data row3 col0\" >Original Data</td>\n",
       "                        <td id=\"T_d7e0c998_e5f9_11ea_8e80_04d9f5515528row3_col1\" class=\"data row3 col1\" >(30240, 17)</td>\n",
       "            </tr>\n",
       "            <tr>\n",
       "                        <th id=\"T_d7e0c998_e5f9_11ea_8e80_04d9f5515528level0_row4\" class=\"row_heading level0 row4\" >4</th>\n",
       "                        <td id=\"T_d7e0c998_e5f9_11ea_8e80_04d9f5515528row4_col0\" class=\"data row4 col0\" >Missing Values </td>\n",
       "                        <td id=\"T_d7e0c998_e5f9_11ea_8e80_04d9f5515528row4_col1\" class=\"data row4 col1\" >True</td>\n",
       "            </tr>\n",
       "            <tr>\n",
       "                        <th id=\"T_d7e0c998_e5f9_11ea_8e80_04d9f5515528level0_row5\" class=\"row_heading level0 row5\" >5</th>\n",
       "                        <td id=\"T_d7e0c998_e5f9_11ea_8e80_04d9f5515528row5_col0\" class=\"data row5 col0\" >Numeric Features </td>\n",
       "                        <td id=\"T_d7e0c998_e5f9_11ea_8e80_04d9f5515528row5_col1\" class=\"data row5 col1\" >5</td>\n",
       "            </tr>\n",
       "            <tr>\n",
       "                        <th id=\"T_d7e0c998_e5f9_11ea_8e80_04d9f5515528level0_row6\" class=\"row_heading level0 row6\" >6</th>\n",
       "                        <td id=\"T_d7e0c998_e5f9_11ea_8e80_04d9f5515528row6_col0\" class=\"data row6 col0\" >Categorical Features </td>\n",
       "                        <td id=\"T_d7e0c998_e5f9_11ea_8e80_04d9f5515528row6_col1\" class=\"data row6 col1\" >11</td>\n",
       "            </tr>\n",
       "            <tr>\n",
       "                        <th id=\"T_d7e0c998_e5f9_11ea_8e80_04d9f5515528level0_row7\" class=\"row_heading level0 row7\" >7</th>\n",
       "                        <td id=\"T_d7e0c998_e5f9_11ea_8e80_04d9f5515528row7_col0\" class=\"data row7 col0\" >Ordinal Features </td>\n",
       "                        <td id=\"T_d7e0c998_e5f9_11ea_8e80_04d9f5515528row7_col1\" class=\"data row7 col1\" >False</td>\n",
       "            </tr>\n",
       "            <tr>\n",
       "                        <th id=\"T_d7e0c998_e5f9_11ea_8e80_04d9f5515528level0_row8\" class=\"row_heading level0 row8\" >8</th>\n",
       "                        <td id=\"T_d7e0c998_e5f9_11ea_8e80_04d9f5515528row8_col0\" class=\"data row8 col0\" >High Cardinality Features </td>\n",
       "                        <td id=\"T_d7e0c998_e5f9_11ea_8e80_04d9f5515528row8_col1\" class=\"data row8 col1\" >False</td>\n",
       "            </tr>\n",
       "            <tr>\n",
       "                        <th id=\"T_d7e0c998_e5f9_11ea_8e80_04d9f5515528level0_row9\" class=\"row_heading level0 row9\" >9</th>\n",
       "                        <td id=\"T_d7e0c998_e5f9_11ea_8e80_04d9f5515528row9_col0\" class=\"data row9 col0\" >High Cardinality Method </td>\n",
       "                        <td id=\"T_d7e0c998_e5f9_11ea_8e80_04d9f5515528row9_col1\" class=\"data row9 col1\" >None</td>\n",
       "            </tr>\n",
       "            <tr>\n",
       "                        <th id=\"T_d7e0c998_e5f9_11ea_8e80_04d9f5515528level0_row10\" class=\"row_heading level0 row10\" >10</th>\n",
       "                        <td id=\"T_d7e0c998_e5f9_11ea_8e80_04d9f5515528row10_col0\" class=\"data row10 col0\" >Sampled Data</td>\n",
       "                        <td id=\"T_d7e0c998_e5f9_11ea_8e80_04d9f5515528row10_col1\" class=\"data row10 col1\" >(30240, 17)</td>\n",
       "            </tr>\n",
       "            <tr>\n",
       "                        <th id=\"T_d7e0c998_e5f9_11ea_8e80_04d9f5515528level0_row11\" class=\"row_heading level0 row11\" >11</th>\n",
       "                        <td id=\"T_d7e0c998_e5f9_11ea_8e80_04d9f5515528row11_col0\" class=\"data row11 col0\" >Transformed Train Set</td>\n",
       "                        <td id=\"T_d7e0c998_e5f9_11ea_8e80_04d9f5515528row11_col1\" class=\"data row11 col1\" >(21167, 98)</td>\n",
       "            </tr>\n",
       "            <tr>\n",
       "                        <th id=\"T_d7e0c998_e5f9_11ea_8e80_04d9f5515528level0_row12\" class=\"row_heading level0 row12\" >12</th>\n",
       "                        <td id=\"T_d7e0c998_e5f9_11ea_8e80_04d9f5515528row12_col0\" class=\"data row12 col0\" >Transformed Test Set</td>\n",
       "                        <td id=\"T_d7e0c998_e5f9_11ea_8e80_04d9f5515528row12_col1\" class=\"data row12 col1\" >(9073, 98)</td>\n",
       "            </tr>\n",
       "            <tr>\n",
       "                        <th id=\"T_d7e0c998_e5f9_11ea_8e80_04d9f5515528level0_row13\" class=\"row_heading level0 row13\" >13</th>\n",
       "                        <td id=\"T_d7e0c998_e5f9_11ea_8e80_04d9f5515528row13_col0\" class=\"data row13 col0\" >Numeric Imputer </td>\n",
       "                        <td id=\"T_d7e0c998_e5f9_11ea_8e80_04d9f5515528row13_col1\" class=\"data row13 col1\" >mean</td>\n",
       "            </tr>\n",
       "            <tr>\n",
       "                        <th id=\"T_d7e0c998_e5f9_11ea_8e80_04d9f5515528level0_row14\" class=\"row_heading level0 row14\" >14</th>\n",
       "                        <td id=\"T_d7e0c998_e5f9_11ea_8e80_04d9f5515528row14_col0\" class=\"data row14 col0\" >Categorical Imputer </td>\n",
       "                        <td id=\"T_d7e0c998_e5f9_11ea_8e80_04d9f5515528row14_col1\" class=\"data row14 col1\" >constant</td>\n",
       "            </tr>\n",
       "            <tr>\n",
       "                        <th id=\"T_d7e0c998_e5f9_11ea_8e80_04d9f5515528level0_row15\" class=\"row_heading level0 row15\" >15</th>\n",
       "                        <td id=\"T_d7e0c998_e5f9_11ea_8e80_04d9f5515528row15_col0\" class=\"data row15 col0\" >Normalize </td>\n",
       "                        <td id=\"T_d7e0c998_e5f9_11ea_8e80_04d9f5515528row15_col1\" class=\"data row15 col1\" >False</td>\n",
       "            </tr>\n",
       "            <tr>\n",
       "                        <th id=\"T_d7e0c998_e5f9_11ea_8e80_04d9f5515528level0_row16\" class=\"row_heading level0 row16\" >16</th>\n",
       "                        <td id=\"T_d7e0c998_e5f9_11ea_8e80_04d9f5515528row16_col0\" class=\"data row16 col0\" >Normalize Method </td>\n",
       "                        <td id=\"T_d7e0c998_e5f9_11ea_8e80_04d9f5515528row16_col1\" class=\"data row16 col1\" >None</td>\n",
       "            </tr>\n",
       "            <tr>\n",
       "                        <th id=\"T_d7e0c998_e5f9_11ea_8e80_04d9f5515528level0_row17\" class=\"row_heading level0 row17\" >17</th>\n",
       "                        <td id=\"T_d7e0c998_e5f9_11ea_8e80_04d9f5515528row17_col0\" class=\"data row17 col0\" >Transformation </td>\n",
       "                        <td id=\"T_d7e0c998_e5f9_11ea_8e80_04d9f5515528row17_col1\" class=\"data row17 col1\" >False</td>\n",
       "            </tr>\n",
       "            <tr>\n",
       "                        <th id=\"T_d7e0c998_e5f9_11ea_8e80_04d9f5515528level0_row18\" class=\"row_heading level0 row18\" >18</th>\n",
       "                        <td id=\"T_d7e0c998_e5f9_11ea_8e80_04d9f5515528row18_col0\" class=\"data row18 col0\" >Transformation Method </td>\n",
       "                        <td id=\"T_d7e0c998_e5f9_11ea_8e80_04d9f5515528row18_col1\" class=\"data row18 col1\" >None</td>\n",
       "            </tr>\n",
       "            <tr>\n",
       "                        <th id=\"T_d7e0c998_e5f9_11ea_8e80_04d9f5515528level0_row19\" class=\"row_heading level0 row19\" >19</th>\n",
       "                        <td id=\"T_d7e0c998_e5f9_11ea_8e80_04d9f5515528row19_col0\" class=\"data row19 col0\" >PCA </td>\n",
       "                        <td id=\"T_d7e0c998_e5f9_11ea_8e80_04d9f5515528row19_col1\" class=\"data row19 col1\" >False</td>\n",
       "            </tr>\n",
       "            <tr>\n",
       "                        <th id=\"T_d7e0c998_e5f9_11ea_8e80_04d9f5515528level0_row20\" class=\"row_heading level0 row20\" >20</th>\n",
       "                        <td id=\"T_d7e0c998_e5f9_11ea_8e80_04d9f5515528row20_col0\" class=\"data row20 col0\" >PCA Method </td>\n",
       "                        <td id=\"T_d7e0c998_e5f9_11ea_8e80_04d9f5515528row20_col1\" class=\"data row20 col1\" >None</td>\n",
       "            </tr>\n",
       "            <tr>\n",
       "                        <th id=\"T_d7e0c998_e5f9_11ea_8e80_04d9f5515528level0_row21\" class=\"row_heading level0 row21\" >21</th>\n",
       "                        <td id=\"T_d7e0c998_e5f9_11ea_8e80_04d9f5515528row21_col0\" class=\"data row21 col0\" >PCA Components </td>\n",
       "                        <td id=\"T_d7e0c998_e5f9_11ea_8e80_04d9f5515528row21_col1\" class=\"data row21 col1\" >None</td>\n",
       "            </tr>\n",
       "            <tr>\n",
       "                        <th id=\"T_d7e0c998_e5f9_11ea_8e80_04d9f5515528level0_row22\" class=\"row_heading level0 row22\" >22</th>\n",
       "                        <td id=\"T_d7e0c998_e5f9_11ea_8e80_04d9f5515528row22_col0\" class=\"data row22 col0\" >Ignore Low Variance </td>\n",
       "                        <td id=\"T_d7e0c998_e5f9_11ea_8e80_04d9f5515528row22_col1\" class=\"data row22 col1\" >False</td>\n",
       "            </tr>\n",
       "            <tr>\n",
       "                        <th id=\"T_d7e0c998_e5f9_11ea_8e80_04d9f5515528level0_row23\" class=\"row_heading level0 row23\" >23</th>\n",
       "                        <td id=\"T_d7e0c998_e5f9_11ea_8e80_04d9f5515528row23_col0\" class=\"data row23 col0\" >Combine Rare Levels </td>\n",
       "                        <td id=\"T_d7e0c998_e5f9_11ea_8e80_04d9f5515528row23_col1\" class=\"data row23 col1\" >False</td>\n",
       "            </tr>\n",
       "            <tr>\n",
       "                        <th id=\"T_d7e0c998_e5f9_11ea_8e80_04d9f5515528level0_row24\" class=\"row_heading level0 row24\" >24</th>\n",
       "                        <td id=\"T_d7e0c998_e5f9_11ea_8e80_04d9f5515528row24_col0\" class=\"data row24 col0\" >Rare Level Threshold </td>\n",
       "                        <td id=\"T_d7e0c998_e5f9_11ea_8e80_04d9f5515528row24_col1\" class=\"data row24 col1\" >None</td>\n",
       "            </tr>\n",
       "            <tr>\n",
       "                        <th id=\"T_d7e0c998_e5f9_11ea_8e80_04d9f5515528level0_row25\" class=\"row_heading level0 row25\" >25</th>\n",
       "                        <td id=\"T_d7e0c998_e5f9_11ea_8e80_04d9f5515528row25_col0\" class=\"data row25 col0\" >Numeric Binning </td>\n",
       "                        <td id=\"T_d7e0c998_e5f9_11ea_8e80_04d9f5515528row25_col1\" class=\"data row25 col1\" >False</td>\n",
       "            </tr>\n",
       "            <tr>\n",
       "                        <th id=\"T_d7e0c998_e5f9_11ea_8e80_04d9f5515528level0_row26\" class=\"row_heading level0 row26\" >26</th>\n",
       "                        <td id=\"T_d7e0c998_e5f9_11ea_8e80_04d9f5515528row26_col0\" class=\"data row26 col0\" >Remove Outliers </td>\n",
       "                        <td id=\"T_d7e0c998_e5f9_11ea_8e80_04d9f5515528row26_col1\" class=\"data row26 col1\" >False</td>\n",
       "            </tr>\n",
       "            <tr>\n",
       "                        <th id=\"T_d7e0c998_e5f9_11ea_8e80_04d9f5515528level0_row27\" class=\"row_heading level0 row27\" >27</th>\n",
       "                        <td id=\"T_d7e0c998_e5f9_11ea_8e80_04d9f5515528row27_col0\" class=\"data row27 col0\" >Outliers Threshold </td>\n",
       "                        <td id=\"T_d7e0c998_e5f9_11ea_8e80_04d9f5515528row27_col1\" class=\"data row27 col1\" >None</td>\n",
       "            </tr>\n",
       "            <tr>\n",
       "                        <th id=\"T_d7e0c998_e5f9_11ea_8e80_04d9f5515528level0_row28\" class=\"row_heading level0 row28\" >28</th>\n",
       "                        <td id=\"T_d7e0c998_e5f9_11ea_8e80_04d9f5515528row28_col0\" class=\"data row28 col0\" >Remove Multicollinearity </td>\n",
       "                        <td id=\"T_d7e0c998_e5f9_11ea_8e80_04d9f5515528row28_col1\" class=\"data row28 col1\" >False</td>\n",
       "            </tr>\n",
       "            <tr>\n",
       "                        <th id=\"T_d7e0c998_e5f9_11ea_8e80_04d9f5515528level0_row29\" class=\"row_heading level0 row29\" >29</th>\n",
       "                        <td id=\"T_d7e0c998_e5f9_11ea_8e80_04d9f5515528row29_col0\" class=\"data row29 col0\" >Multicollinearity Threshold </td>\n",
       "                        <td id=\"T_d7e0c998_e5f9_11ea_8e80_04d9f5515528row29_col1\" class=\"data row29 col1\" >None</td>\n",
       "            </tr>\n",
       "            <tr>\n",
       "                        <th id=\"T_d7e0c998_e5f9_11ea_8e80_04d9f5515528level0_row30\" class=\"row_heading level0 row30\" >30</th>\n",
       "                        <td id=\"T_d7e0c998_e5f9_11ea_8e80_04d9f5515528row30_col0\" class=\"data row30 col0\" >Clustering </td>\n",
       "                        <td id=\"T_d7e0c998_e5f9_11ea_8e80_04d9f5515528row30_col1\" class=\"data row30 col1\" >False</td>\n",
       "            </tr>\n",
       "            <tr>\n",
       "                        <th id=\"T_d7e0c998_e5f9_11ea_8e80_04d9f5515528level0_row31\" class=\"row_heading level0 row31\" >31</th>\n",
       "                        <td id=\"T_d7e0c998_e5f9_11ea_8e80_04d9f5515528row31_col0\" class=\"data row31 col0\" >Clustering Iteration </td>\n",
       "                        <td id=\"T_d7e0c998_e5f9_11ea_8e80_04d9f5515528row31_col1\" class=\"data row31 col1\" >None</td>\n",
       "            </tr>\n",
       "            <tr>\n",
       "                        <th id=\"T_d7e0c998_e5f9_11ea_8e80_04d9f5515528level0_row32\" class=\"row_heading level0 row32\" >32</th>\n",
       "                        <td id=\"T_d7e0c998_e5f9_11ea_8e80_04d9f5515528row32_col0\" class=\"data row32 col0\" >Polynomial Features </td>\n",
       "                        <td id=\"T_d7e0c998_e5f9_11ea_8e80_04d9f5515528row32_col1\" class=\"data row32 col1\" >False</td>\n",
       "            </tr>\n",
       "            <tr>\n",
       "                        <th id=\"T_d7e0c998_e5f9_11ea_8e80_04d9f5515528level0_row33\" class=\"row_heading level0 row33\" >33</th>\n",
       "                        <td id=\"T_d7e0c998_e5f9_11ea_8e80_04d9f5515528row33_col0\" class=\"data row33 col0\" >Polynomial Degree </td>\n",
       "                        <td id=\"T_d7e0c998_e5f9_11ea_8e80_04d9f5515528row33_col1\" class=\"data row33 col1\" >None</td>\n",
       "            </tr>\n",
       "            <tr>\n",
       "                        <th id=\"T_d7e0c998_e5f9_11ea_8e80_04d9f5515528level0_row34\" class=\"row_heading level0 row34\" >34</th>\n",
       "                        <td id=\"T_d7e0c998_e5f9_11ea_8e80_04d9f5515528row34_col0\" class=\"data row34 col0\" >Trignometry Features </td>\n",
       "                        <td id=\"T_d7e0c998_e5f9_11ea_8e80_04d9f5515528row34_col1\" class=\"data row34 col1\" >False</td>\n",
       "            </tr>\n",
       "            <tr>\n",
       "                        <th id=\"T_d7e0c998_e5f9_11ea_8e80_04d9f5515528level0_row35\" class=\"row_heading level0 row35\" >35</th>\n",
       "                        <td id=\"T_d7e0c998_e5f9_11ea_8e80_04d9f5515528row35_col0\" class=\"data row35 col0\" >Polynomial Threshold </td>\n",
       "                        <td id=\"T_d7e0c998_e5f9_11ea_8e80_04d9f5515528row35_col1\" class=\"data row35 col1\" >None</td>\n",
       "            </tr>\n",
       "            <tr>\n",
       "                        <th id=\"T_d7e0c998_e5f9_11ea_8e80_04d9f5515528level0_row36\" class=\"row_heading level0 row36\" >36</th>\n",
       "                        <td id=\"T_d7e0c998_e5f9_11ea_8e80_04d9f5515528row36_col0\" class=\"data row36 col0\" >Group Features </td>\n",
       "                        <td id=\"T_d7e0c998_e5f9_11ea_8e80_04d9f5515528row36_col1\" class=\"data row36 col1\" >False</td>\n",
       "            </tr>\n",
       "            <tr>\n",
       "                        <th id=\"T_d7e0c998_e5f9_11ea_8e80_04d9f5515528level0_row37\" class=\"row_heading level0 row37\" >37</th>\n",
       "                        <td id=\"T_d7e0c998_e5f9_11ea_8e80_04d9f5515528row37_col0\" class=\"data row37 col0\" >Feature Selection </td>\n",
       "                        <td id=\"T_d7e0c998_e5f9_11ea_8e80_04d9f5515528row37_col1\" class=\"data row37 col1\" >False</td>\n",
       "            </tr>\n",
       "            <tr>\n",
       "                        <th id=\"T_d7e0c998_e5f9_11ea_8e80_04d9f5515528level0_row38\" class=\"row_heading level0 row38\" >38</th>\n",
       "                        <td id=\"T_d7e0c998_e5f9_11ea_8e80_04d9f5515528row38_col0\" class=\"data row38 col0\" >Features Selection Threshold </td>\n",
       "                        <td id=\"T_d7e0c998_e5f9_11ea_8e80_04d9f5515528row38_col1\" class=\"data row38 col1\" >None</td>\n",
       "            </tr>\n",
       "            <tr>\n",
       "                        <th id=\"T_d7e0c998_e5f9_11ea_8e80_04d9f5515528level0_row39\" class=\"row_heading level0 row39\" >39</th>\n",
       "                        <td id=\"T_d7e0c998_e5f9_11ea_8e80_04d9f5515528row39_col0\" class=\"data row39 col0\" >Feature Interaction </td>\n",
       "                        <td id=\"T_d7e0c998_e5f9_11ea_8e80_04d9f5515528row39_col1\" class=\"data row39 col1\" >False</td>\n",
       "            </tr>\n",
       "            <tr>\n",
       "                        <th id=\"T_d7e0c998_e5f9_11ea_8e80_04d9f5515528level0_row40\" class=\"row_heading level0 row40\" >40</th>\n",
       "                        <td id=\"T_d7e0c998_e5f9_11ea_8e80_04d9f5515528row40_col0\" class=\"data row40 col0\" >Feature Ratio </td>\n",
       "                        <td id=\"T_d7e0c998_e5f9_11ea_8e80_04d9f5515528row40_col1\" class=\"data row40 col1\" >False</td>\n",
       "            </tr>\n",
       "            <tr>\n",
       "                        <th id=\"T_d7e0c998_e5f9_11ea_8e80_04d9f5515528level0_row41\" class=\"row_heading level0 row41\" >41</th>\n",
       "                        <td id=\"T_d7e0c998_e5f9_11ea_8e80_04d9f5515528row41_col0\" class=\"data row41 col0\" >Interaction Threshold </td>\n",
       "                        <td id=\"T_d7e0c998_e5f9_11ea_8e80_04d9f5515528row41_col1\" class=\"data row41 col1\" >None</td>\n",
       "            </tr>\n",
       "            <tr>\n",
       "                        <th id=\"T_d7e0c998_e5f9_11ea_8e80_04d9f5515528level0_row42\" class=\"row_heading level0 row42\" >42</th>\n",
       "                        <td id=\"T_d7e0c998_e5f9_11ea_8e80_04d9f5515528row42_col0\" class=\"data row42 col0\" >Fix Imbalance</td>\n",
       "                        <td id=\"T_d7e0c998_e5f9_11ea_8e80_04d9f5515528row42_col1\" class=\"data row42 col1\" >False</td>\n",
       "            </tr>\n",
       "            <tr>\n",
       "                        <th id=\"T_d7e0c998_e5f9_11ea_8e80_04d9f5515528level0_row43\" class=\"row_heading level0 row43\" >43</th>\n",
       "                        <td id=\"T_d7e0c998_e5f9_11ea_8e80_04d9f5515528row43_col0\" class=\"data row43 col0\" >Fix Imbalance Method</td>\n",
       "                        <td id=\"T_d7e0c998_e5f9_11ea_8e80_04d9f5515528row43_col1\" class=\"data row43 col1\" >SMOTE</td>\n",
       "            </tr>\n",
       "    </tbody></table>"
      ],
      "text/plain": [
       "<pandas.io.formats.style.Styler at 0x7f908c9a91d0>"
      ]
     },
     "metadata": {},
     "output_type": "display_data"
    }
   ],
   "source": [
    "#intialize the setup (in Notebook env)\n",
    "exp_clf = setup(driver, target = 'target', ignore_features=[\"ID\"], session_id=1004)"
   ]
  },
  {
   "cell_type": "markdown",
   "metadata": {},
   "source": [
    "## 2. Model Training"
   ]
  },
  {
   "cell_type": "markdown",
   "metadata": {},
   "source": [
    "### 2-1. Compare models\n",
    "\n",
    "#### - 특정 모델을 생성하기 이전에 model library 안에 있는 모든 모델을 비교해보는 과정\n",
    "\n",
    "#### - Model Library안에 있는 모든 모델들을 학습시킨 후 CV(Cross Validation) 값으로 스코어를 냄\n",
    "\n",
    "#### - Output은 Accuracy, AUC, Recall, Precision, F1, Kappa 등을 score grid 형태로 보여줌\n",
    "\n",
    "#### - compare_models()\n",
    "\n",
    "#### - Other options\n",
    "    - Return best model based on specific score(ex. Recall)\n",
    "        - compare_models(sort = 'Recall') ## default is 'Accuracy'\n",
    "    - Compare all models on 5 fold cross validation\n",
    "        - compare_models(fold = 5)"
   ]
  },
  {
   "cell_type": "code",
   "execution_count": 11,
   "metadata": {
    "scrolled": false
   },
   "outputs": [
    {
     "data": {
      "text/html": [
       "<style  type=\"text/css\" >\n",
       "    #T_6aec6c6e_e5f6_11ea_8e80_04d9f5515528 th {\n",
       "          text-align: left;\n",
       "    }    #T_6aec6c6e_e5f6_11ea_8e80_04d9f5515528row0_col0 {\n",
       "            text-align:  left;\n",
       "        }    #T_6aec6c6e_e5f6_11ea_8e80_04d9f5515528row0_col1 {\n",
       "            background-color:  yellow;\n",
       "            text-align:  left;\n",
       "        }    #T_6aec6c6e_e5f6_11ea_8e80_04d9f5515528row0_col2 {\n",
       "            : ;\n",
       "            text-align:  left;\n",
       "        }    #T_6aec6c6e_e5f6_11ea_8e80_04d9f5515528row0_col3 {\n",
       "            background-color:  yellow;\n",
       "            text-align:  left;\n",
       "        }    #T_6aec6c6e_e5f6_11ea_8e80_04d9f5515528row0_col4 {\n",
       "            : ;\n",
       "            text-align:  left;\n",
       "        }    #T_6aec6c6e_e5f6_11ea_8e80_04d9f5515528row0_col5 {\n",
       "            background-color:  yellow;\n",
       "            text-align:  left;\n",
       "        }    #T_6aec6c6e_e5f6_11ea_8e80_04d9f5515528row0_col6 {\n",
       "            : ;\n",
       "            text-align:  left;\n",
       "        }    #T_6aec6c6e_e5f6_11ea_8e80_04d9f5515528row0_col7 {\n",
       "            : ;\n",
       "            text-align:  left;\n",
       "        }    #T_6aec6c6e_e5f6_11ea_8e80_04d9f5515528row0_col8 {\n",
       "            background-color:  lightgrey;\n",
       "            text-align:  left;\n",
       "        }    #T_6aec6c6e_e5f6_11ea_8e80_04d9f5515528row1_col0 {\n",
       "            text-align:  left;\n",
       "        }    #T_6aec6c6e_e5f6_11ea_8e80_04d9f5515528row1_col1 {\n",
       "            background-color:  yellow;\n",
       "            text-align:  left;\n",
       "        }    #T_6aec6c6e_e5f6_11ea_8e80_04d9f5515528row1_col2 {\n",
       "            : ;\n",
       "            text-align:  left;\n",
       "        }    #T_6aec6c6e_e5f6_11ea_8e80_04d9f5515528row1_col3 {\n",
       "            background-color:  yellow;\n",
       "            text-align:  left;\n",
       "        }    #T_6aec6c6e_e5f6_11ea_8e80_04d9f5515528row1_col4 {\n",
       "            : ;\n",
       "            text-align:  left;\n",
       "        }    #T_6aec6c6e_e5f6_11ea_8e80_04d9f5515528row1_col5 {\n",
       "            background-color:  yellow;\n",
       "            text-align:  left;\n",
       "        }    #T_6aec6c6e_e5f6_11ea_8e80_04d9f5515528row1_col6 {\n",
       "            : ;\n",
       "            text-align:  left;\n",
       "        }    #T_6aec6c6e_e5f6_11ea_8e80_04d9f5515528row1_col7 {\n",
       "            : ;\n",
       "            text-align:  left;\n",
       "        }    #T_6aec6c6e_e5f6_11ea_8e80_04d9f5515528row1_col8 {\n",
       "            background-color:  lightgrey;\n",
       "            text-align:  left;\n",
       "        }    #T_6aec6c6e_e5f6_11ea_8e80_04d9f5515528row2_col0 {\n",
       "            text-align:  left;\n",
       "        }    #T_6aec6c6e_e5f6_11ea_8e80_04d9f5515528row2_col1 {\n",
       "            background-color:  yellow;\n",
       "            text-align:  left;\n",
       "        }    #T_6aec6c6e_e5f6_11ea_8e80_04d9f5515528row2_col2 {\n",
       "            : ;\n",
       "            text-align:  left;\n",
       "        }    #T_6aec6c6e_e5f6_11ea_8e80_04d9f5515528row2_col3 {\n",
       "            background-color:  yellow;\n",
       "            text-align:  left;\n",
       "        }    #T_6aec6c6e_e5f6_11ea_8e80_04d9f5515528row2_col4 {\n",
       "            : ;\n",
       "            text-align:  left;\n",
       "        }    #T_6aec6c6e_e5f6_11ea_8e80_04d9f5515528row2_col5 {\n",
       "            background-color:  yellow;\n",
       "            text-align:  left;\n",
       "        }    #T_6aec6c6e_e5f6_11ea_8e80_04d9f5515528row2_col6 {\n",
       "            : ;\n",
       "            text-align:  left;\n",
       "        }    #T_6aec6c6e_e5f6_11ea_8e80_04d9f5515528row2_col7 {\n",
       "            : ;\n",
       "            text-align:  left;\n",
       "        }    #T_6aec6c6e_e5f6_11ea_8e80_04d9f5515528row2_col8 {\n",
       "            background-color:  lightgrey;\n",
       "            text-align:  left;\n",
       "        }    #T_6aec6c6e_e5f6_11ea_8e80_04d9f5515528row3_col0 {\n",
       "            text-align:  left;\n",
       "        }    #T_6aec6c6e_e5f6_11ea_8e80_04d9f5515528row3_col1 {\n",
       "            : ;\n",
       "            text-align:  left;\n",
       "        }    #T_6aec6c6e_e5f6_11ea_8e80_04d9f5515528row3_col2 {\n",
       "            : ;\n",
       "            text-align:  left;\n",
       "        }    #T_6aec6c6e_e5f6_11ea_8e80_04d9f5515528row3_col3 {\n",
       "            : ;\n",
       "            text-align:  left;\n",
       "        }    #T_6aec6c6e_e5f6_11ea_8e80_04d9f5515528row3_col4 {\n",
       "            : ;\n",
       "            text-align:  left;\n",
       "        }    #T_6aec6c6e_e5f6_11ea_8e80_04d9f5515528row3_col5 {\n",
       "            : ;\n",
       "            text-align:  left;\n",
       "        }    #T_6aec6c6e_e5f6_11ea_8e80_04d9f5515528row3_col6 {\n",
       "            : ;\n",
       "            text-align:  left;\n",
       "        }    #T_6aec6c6e_e5f6_11ea_8e80_04d9f5515528row3_col7 {\n",
       "            : ;\n",
       "            text-align:  left;\n",
       "        }    #T_6aec6c6e_e5f6_11ea_8e80_04d9f5515528row3_col8 {\n",
       "            background-color:  lightgrey;\n",
       "            text-align:  left;\n",
       "        }    #T_6aec6c6e_e5f6_11ea_8e80_04d9f5515528row4_col0 {\n",
       "            text-align:  left;\n",
       "        }    #T_6aec6c6e_e5f6_11ea_8e80_04d9f5515528row4_col1 {\n",
       "            : ;\n",
       "            text-align:  left;\n",
       "        }    #T_6aec6c6e_e5f6_11ea_8e80_04d9f5515528row4_col2 {\n",
       "            background-color:  yellow;\n",
       "            text-align:  left;\n",
       "        }    #T_6aec6c6e_e5f6_11ea_8e80_04d9f5515528row4_col3 {\n",
       "            : ;\n",
       "            text-align:  left;\n",
       "        }    #T_6aec6c6e_e5f6_11ea_8e80_04d9f5515528row4_col4 {\n",
       "            : ;\n",
       "            text-align:  left;\n",
       "        }    #T_6aec6c6e_e5f6_11ea_8e80_04d9f5515528row4_col5 {\n",
       "            : ;\n",
       "            text-align:  left;\n",
       "        }    #T_6aec6c6e_e5f6_11ea_8e80_04d9f5515528row4_col6 {\n",
       "            : ;\n",
       "            text-align:  left;\n",
       "        }    #T_6aec6c6e_e5f6_11ea_8e80_04d9f5515528row4_col7 {\n",
       "            : ;\n",
       "            text-align:  left;\n",
       "        }    #T_6aec6c6e_e5f6_11ea_8e80_04d9f5515528row4_col8 {\n",
       "            background-color:  lightgrey;\n",
       "            text-align:  left;\n",
       "        }    #T_6aec6c6e_e5f6_11ea_8e80_04d9f5515528row5_col0 {\n",
       "            text-align:  left;\n",
       "        }    #T_6aec6c6e_e5f6_11ea_8e80_04d9f5515528row5_col1 {\n",
       "            : ;\n",
       "            text-align:  left;\n",
       "        }    #T_6aec6c6e_e5f6_11ea_8e80_04d9f5515528row5_col2 {\n",
       "            : ;\n",
       "            text-align:  left;\n",
       "        }    #T_6aec6c6e_e5f6_11ea_8e80_04d9f5515528row5_col3 {\n",
       "            : ;\n",
       "            text-align:  left;\n",
       "        }    #T_6aec6c6e_e5f6_11ea_8e80_04d9f5515528row5_col4 {\n",
       "            : ;\n",
       "            text-align:  left;\n",
       "        }    #T_6aec6c6e_e5f6_11ea_8e80_04d9f5515528row5_col5 {\n",
       "            : ;\n",
       "            text-align:  left;\n",
       "        }    #T_6aec6c6e_e5f6_11ea_8e80_04d9f5515528row5_col6 {\n",
       "            : ;\n",
       "            text-align:  left;\n",
       "        }    #T_6aec6c6e_e5f6_11ea_8e80_04d9f5515528row5_col7 {\n",
       "            background-color:  yellow;\n",
       "            text-align:  left;\n",
       "        }    #T_6aec6c6e_e5f6_11ea_8e80_04d9f5515528row5_col8 {\n",
       "            background-color:  lightgrey;\n",
       "            text-align:  left;\n",
       "        }    #T_6aec6c6e_e5f6_11ea_8e80_04d9f5515528row6_col0 {\n",
       "            text-align:  left;\n",
       "        }    #T_6aec6c6e_e5f6_11ea_8e80_04d9f5515528row6_col1 {\n",
       "            : ;\n",
       "            text-align:  left;\n",
       "        }    #T_6aec6c6e_e5f6_11ea_8e80_04d9f5515528row6_col2 {\n",
       "            : ;\n",
       "            text-align:  left;\n",
       "        }    #T_6aec6c6e_e5f6_11ea_8e80_04d9f5515528row6_col3 {\n",
       "            : ;\n",
       "            text-align:  left;\n",
       "        }    #T_6aec6c6e_e5f6_11ea_8e80_04d9f5515528row6_col4 {\n",
       "            : ;\n",
       "            text-align:  left;\n",
       "        }    #T_6aec6c6e_e5f6_11ea_8e80_04d9f5515528row6_col5 {\n",
       "            : ;\n",
       "            text-align:  left;\n",
       "        }    #T_6aec6c6e_e5f6_11ea_8e80_04d9f5515528row6_col6 {\n",
       "            : ;\n",
       "            text-align:  left;\n",
       "        }    #T_6aec6c6e_e5f6_11ea_8e80_04d9f5515528row6_col7 {\n",
       "            : ;\n",
       "            text-align:  left;\n",
       "        }    #T_6aec6c6e_e5f6_11ea_8e80_04d9f5515528row6_col8 {\n",
       "            background-color:  lightgrey;\n",
       "            text-align:  left;\n",
       "        }    #T_6aec6c6e_e5f6_11ea_8e80_04d9f5515528row7_col0 {\n",
       "            text-align:  left;\n",
       "        }    #T_6aec6c6e_e5f6_11ea_8e80_04d9f5515528row7_col1 {\n",
       "            : ;\n",
       "            text-align:  left;\n",
       "        }    #T_6aec6c6e_e5f6_11ea_8e80_04d9f5515528row7_col2 {\n",
       "            : ;\n",
       "            text-align:  left;\n",
       "        }    #T_6aec6c6e_e5f6_11ea_8e80_04d9f5515528row7_col3 {\n",
       "            : ;\n",
       "            text-align:  left;\n",
       "        }    #T_6aec6c6e_e5f6_11ea_8e80_04d9f5515528row7_col4 {\n",
       "            : ;\n",
       "            text-align:  left;\n",
       "        }    #T_6aec6c6e_e5f6_11ea_8e80_04d9f5515528row7_col5 {\n",
       "            : ;\n",
       "            text-align:  left;\n",
       "        }    #T_6aec6c6e_e5f6_11ea_8e80_04d9f5515528row7_col6 {\n",
       "            : ;\n",
       "            text-align:  left;\n",
       "        }    #T_6aec6c6e_e5f6_11ea_8e80_04d9f5515528row7_col7 {\n",
       "            : ;\n",
       "            text-align:  left;\n",
       "        }    #T_6aec6c6e_e5f6_11ea_8e80_04d9f5515528row7_col8 {\n",
       "            background-color:  lightgrey;\n",
       "            text-align:  left;\n",
       "        }    #T_6aec6c6e_e5f6_11ea_8e80_04d9f5515528row8_col0 {\n",
       "            text-align:  left;\n",
       "        }    #T_6aec6c6e_e5f6_11ea_8e80_04d9f5515528row8_col1 {\n",
       "            : ;\n",
       "            text-align:  left;\n",
       "        }    #T_6aec6c6e_e5f6_11ea_8e80_04d9f5515528row8_col2 {\n",
       "            : ;\n",
       "            text-align:  left;\n",
       "        }    #T_6aec6c6e_e5f6_11ea_8e80_04d9f5515528row8_col3 {\n",
       "            : ;\n",
       "            text-align:  left;\n",
       "        }    #T_6aec6c6e_e5f6_11ea_8e80_04d9f5515528row8_col4 {\n",
       "            : ;\n",
       "            text-align:  left;\n",
       "        }    #T_6aec6c6e_e5f6_11ea_8e80_04d9f5515528row8_col5 {\n",
       "            : ;\n",
       "            text-align:  left;\n",
       "        }    #T_6aec6c6e_e5f6_11ea_8e80_04d9f5515528row8_col6 {\n",
       "            : ;\n",
       "            text-align:  left;\n",
       "        }    #T_6aec6c6e_e5f6_11ea_8e80_04d9f5515528row8_col7 {\n",
       "            : ;\n",
       "            text-align:  left;\n",
       "        }    #T_6aec6c6e_e5f6_11ea_8e80_04d9f5515528row8_col8 {\n",
       "            background-color:  lightgrey;\n",
       "            text-align:  left;\n",
       "        }    #T_6aec6c6e_e5f6_11ea_8e80_04d9f5515528row9_col0 {\n",
       "            text-align:  left;\n",
       "        }    #T_6aec6c6e_e5f6_11ea_8e80_04d9f5515528row9_col1 {\n",
       "            : ;\n",
       "            text-align:  left;\n",
       "        }    #T_6aec6c6e_e5f6_11ea_8e80_04d9f5515528row9_col2 {\n",
       "            : ;\n",
       "            text-align:  left;\n",
       "        }    #T_6aec6c6e_e5f6_11ea_8e80_04d9f5515528row9_col3 {\n",
       "            : ;\n",
       "            text-align:  left;\n",
       "        }    #T_6aec6c6e_e5f6_11ea_8e80_04d9f5515528row9_col4 {\n",
       "            : ;\n",
       "            text-align:  left;\n",
       "        }    #T_6aec6c6e_e5f6_11ea_8e80_04d9f5515528row9_col5 {\n",
       "            : ;\n",
       "            text-align:  left;\n",
       "        }    #T_6aec6c6e_e5f6_11ea_8e80_04d9f5515528row9_col6 {\n",
       "            : ;\n",
       "            text-align:  left;\n",
       "        }    #T_6aec6c6e_e5f6_11ea_8e80_04d9f5515528row9_col7 {\n",
       "            : ;\n",
       "            text-align:  left;\n",
       "        }    #T_6aec6c6e_e5f6_11ea_8e80_04d9f5515528row9_col8 {\n",
       "            background-color:  lightgrey;\n",
       "            text-align:  left;\n",
       "        }    #T_6aec6c6e_e5f6_11ea_8e80_04d9f5515528row10_col0 {\n",
       "            text-align:  left;\n",
       "        }    #T_6aec6c6e_e5f6_11ea_8e80_04d9f5515528row10_col1 {\n",
       "            : ;\n",
       "            text-align:  left;\n",
       "        }    #T_6aec6c6e_e5f6_11ea_8e80_04d9f5515528row10_col2 {\n",
       "            : ;\n",
       "            text-align:  left;\n",
       "        }    #T_6aec6c6e_e5f6_11ea_8e80_04d9f5515528row10_col3 {\n",
       "            : ;\n",
       "            text-align:  left;\n",
       "        }    #T_6aec6c6e_e5f6_11ea_8e80_04d9f5515528row10_col4 {\n",
       "            : ;\n",
       "            text-align:  left;\n",
       "        }    #T_6aec6c6e_e5f6_11ea_8e80_04d9f5515528row10_col5 {\n",
       "            : ;\n",
       "            text-align:  left;\n",
       "        }    #T_6aec6c6e_e5f6_11ea_8e80_04d9f5515528row10_col6 {\n",
       "            : ;\n",
       "            text-align:  left;\n",
       "        }    #T_6aec6c6e_e5f6_11ea_8e80_04d9f5515528row10_col7 {\n",
       "            : ;\n",
       "            text-align:  left;\n",
       "        }    #T_6aec6c6e_e5f6_11ea_8e80_04d9f5515528row10_col8 {\n",
       "            background-color:  lightgrey;\n",
       "            text-align:  left;\n",
       "        }    #T_6aec6c6e_e5f6_11ea_8e80_04d9f5515528row11_col0 {\n",
       "            text-align:  left;\n",
       "        }    #T_6aec6c6e_e5f6_11ea_8e80_04d9f5515528row11_col1 {\n",
       "            : ;\n",
       "            text-align:  left;\n",
       "        }    #T_6aec6c6e_e5f6_11ea_8e80_04d9f5515528row11_col2 {\n",
       "            : ;\n",
       "            text-align:  left;\n",
       "        }    #T_6aec6c6e_e5f6_11ea_8e80_04d9f5515528row11_col3 {\n",
       "            : ;\n",
       "            text-align:  left;\n",
       "        }    #T_6aec6c6e_e5f6_11ea_8e80_04d9f5515528row11_col4 {\n",
       "            : ;\n",
       "            text-align:  left;\n",
       "        }    #T_6aec6c6e_e5f6_11ea_8e80_04d9f5515528row11_col5 {\n",
       "            : ;\n",
       "            text-align:  left;\n",
       "        }    #T_6aec6c6e_e5f6_11ea_8e80_04d9f5515528row11_col6 {\n",
       "            : ;\n",
       "            text-align:  left;\n",
       "        }    #T_6aec6c6e_e5f6_11ea_8e80_04d9f5515528row11_col7 {\n",
       "            : ;\n",
       "            text-align:  left;\n",
       "        }    #T_6aec6c6e_e5f6_11ea_8e80_04d9f5515528row11_col8 {\n",
       "            background-color:  lightgrey;\n",
       "            text-align:  left;\n",
       "        }    #T_6aec6c6e_e5f6_11ea_8e80_04d9f5515528row12_col0 {\n",
       "            text-align:  left;\n",
       "        }    #T_6aec6c6e_e5f6_11ea_8e80_04d9f5515528row12_col1 {\n",
       "            : ;\n",
       "            text-align:  left;\n",
       "        }    #T_6aec6c6e_e5f6_11ea_8e80_04d9f5515528row12_col2 {\n",
       "            : ;\n",
       "            text-align:  left;\n",
       "        }    #T_6aec6c6e_e5f6_11ea_8e80_04d9f5515528row12_col3 {\n",
       "            : ;\n",
       "            text-align:  left;\n",
       "        }    #T_6aec6c6e_e5f6_11ea_8e80_04d9f5515528row12_col4 {\n",
       "            : ;\n",
       "            text-align:  left;\n",
       "        }    #T_6aec6c6e_e5f6_11ea_8e80_04d9f5515528row12_col5 {\n",
       "            : ;\n",
       "            text-align:  left;\n",
       "        }    #T_6aec6c6e_e5f6_11ea_8e80_04d9f5515528row12_col6 {\n",
       "            : ;\n",
       "            text-align:  left;\n",
       "        }    #T_6aec6c6e_e5f6_11ea_8e80_04d9f5515528row12_col7 {\n",
       "            : ;\n",
       "            text-align:  left;\n",
       "        }    #T_6aec6c6e_e5f6_11ea_8e80_04d9f5515528row12_col8 {\n",
       "            background-color:  lightgrey;\n",
       "            text-align:  left;\n",
       "        }    #T_6aec6c6e_e5f6_11ea_8e80_04d9f5515528row13_col0 {\n",
       "            text-align:  left;\n",
       "        }    #T_6aec6c6e_e5f6_11ea_8e80_04d9f5515528row13_col1 {\n",
       "            : ;\n",
       "            text-align:  left;\n",
       "        }    #T_6aec6c6e_e5f6_11ea_8e80_04d9f5515528row13_col2 {\n",
       "            : ;\n",
       "            text-align:  left;\n",
       "        }    #T_6aec6c6e_e5f6_11ea_8e80_04d9f5515528row13_col3 {\n",
       "            : ;\n",
       "            text-align:  left;\n",
       "        }    #T_6aec6c6e_e5f6_11ea_8e80_04d9f5515528row13_col4 {\n",
       "            background-color:  yellow;\n",
       "            text-align:  left;\n",
       "        }    #T_6aec6c6e_e5f6_11ea_8e80_04d9f5515528row13_col5 {\n",
       "            : ;\n",
       "            text-align:  left;\n",
       "        }    #T_6aec6c6e_e5f6_11ea_8e80_04d9f5515528row13_col6 {\n",
       "            : ;\n",
       "            text-align:  left;\n",
       "        }    #T_6aec6c6e_e5f6_11ea_8e80_04d9f5515528row13_col7 {\n",
       "            : ;\n",
       "            text-align:  left;\n",
       "        }    #T_6aec6c6e_e5f6_11ea_8e80_04d9f5515528row13_col8 {\n",
       "            background-color:  lightgrey;\n",
       "            text-align:  left;\n",
       "        }    #T_6aec6c6e_e5f6_11ea_8e80_04d9f5515528row14_col0 {\n",
       "            text-align:  left;\n",
       "        }    #T_6aec6c6e_e5f6_11ea_8e80_04d9f5515528row14_col1 {\n",
       "            : ;\n",
       "            text-align:  left;\n",
       "        }    #T_6aec6c6e_e5f6_11ea_8e80_04d9f5515528row14_col2 {\n",
       "            : ;\n",
       "            text-align:  left;\n",
       "        }    #T_6aec6c6e_e5f6_11ea_8e80_04d9f5515528row14_col3 {\n",
       "            : ;\n",
       "            text-align:  left;\n",
       "        }    #T_6aec6c6e_e5f6_11ea_8e80_04d9f5515528row14_col4 {\n",
       "            : ;\n",
       "            text-align:  left;\n",
       "        }    #T_6aec6c6e_e5f6_11ea_8e80_04d9f5515528row14_col5 {\n",
       "            : ;\n",
       "            text-align:  left;\n",
       "        }    #T_6aec6c6e_e5f6_11ea_8e80_04d9f5515528row14_col6 {\n",
       "            background-color:  yellow;\n",
       "            text-align:  left;\n",
       "        }    #T_6aec6c6e_e5f6_11ea_8e80_04d9f5515528row14_col7 {\n",
       "            : ;\n",
       "            text-align:  left;\n",
       "        }    #T_6aec6c6e_e5f6_11ea_8e80_04d9f5515528row14_col8 {\n",
       "            background-color:  lightgrey;\n",
       "            text-align:  left;\n",
       "        }</style><table id=\"T_6aec6c6e_e5f6_11ea_8e80_04d9f5515528\" ><thead>    <tr>        <th class=\"blank level0\" ></th>        <th class=\"col_heading level0 col0\" >Model</th>        <th class=\"col_heading level0 col1\" >Accuracy</th>        <th class=\"col_heading level0 col2\" >AUC</th>        <th class=\"col_heading level0 col3\" >Recall</th>        <th class=\"col_heading level0 col4\" >Prec.</th>        <th class=\"col_heading level0 col5\" >F1</th>        <th class=\"col_heading level0 col6\" >Kappa</th>        <th class=\"col_heading level0 col7\" >MCC</th>        <th class=\"col_heading level0 col8\" >TT (Sec)</th>    </tr></thead><tbody>\n",
       "                <tr>\n",
       "                        <th id=\"T_6aec6c6e_e5f6_11ea_8e80_04d9f5515528level0_row0\" class=\"row_heading level0 row0\" >0</th>\n",
       "                        <td id=\"T_6aec6c6e_e5f6_11ea_8e80_04d9f5515528row0_col0\" class=\"data row0 col0\" >Logistic Regression</td>\n",
       "                        <td id=\"T_6aec6c6e_e5f6_11ea_8e80_04d9f5515528row0_col1\" class=\"data row0 col1\" >0.7075</td>\n",
       "                        <td id=\"T_6aec6c6e_e5f6_11ea_8e80_04d9f5515528row0_col2\" class=\"data row0 col2\" >0.4976</td>\n",
       "                        <td id=\"T_6aec6c6e_e5f6_11ea_8e80_04d9f5515528row0_col3\" class=\"data row0 col3\" >1</td>\n",
       "                        <td id=\"T_6aec6c6e_e5f6_11ea_8e80_04d9f5515528row0_col4\" class=\"data row0 col4\" >0.7075</td>\n",
       "                        <td id=\"T_6aec6c6e_e5f6_11ea_8e80_04d9f5515528row0_col5\" class=\"data row0 col5\" >0.8287</td>\n",
       "                        <td id=\"T_6aec6c6e_e5f6_11ea_8e80_04d9f5515528row0_col6\" class=\"data row0 col6\" >0</td>\n",
       "                        <td id=\"T_6aec6c6e_e5f6_11ea_8e80_04d9f5515528row0_col7\" class=\"data row0 col7\" >0</td>\n",
       "                        <td id=\"T_6aec6c6e_e5f6_11ea_8e80_04d9f5515528row0_col8\" class=\"data row0 col8\" >0.0963</td>\n",
       "            </tr>\n",
       "            <tr>\n",
       "                        <th id=\"T_6aec6c6e_e5f6_11ea_8e80_04d9f5515528level0_row1\" class=\"row_heading level0 row1\" >1</th>\n",
       "                        <td id=\"T_6aec6c6e_e5f6_11ea_8e80_04d9f5515528row1_col0\" class=\"data row1 col0\" >Ridge Classifier</td>\n",
       "                        <td id=\"T_6aec6c6e_e5f6_11ea_8e80_04d9f5515528row1_col1\" class=\"data row1 col1\" >0.7075</td>\n",
       "                        <td id=\"T_6aec6c6e_e5f6_11ea_8e80_04d9f5515528row1_col2\" class=\"data row1 col2\" >0</td>\n",
       "                        <td id=\"T_6aec6c6e_e5f6_11ea_8e80_04d9f5515528row1_col3\" class=\"data row1 col3\" >1</td>\n",
       "                        <td id=\"T_6aec6c6e_e5f6_11ea_8e80_04d9f5515528row1_col4\" class=\"data row1 col4\" >0.7075</td>\n",
       "                        <td id=\"T_6aec6c6e_e5f6_11ea_8e80_04d9f5515528row1_col5\" class=\"data row1 col5\" >0.8287</td>\n",
       "                        <td id=\"T_6aec6c6e_e5f6_11ea_8e80_04d9f5515528row1_col6\" class=\"data row1 col6\" >0</td>\n",
       "                        <td id=\"T_6aec6c6e_e5f6_11ea_8e80_04d9f5515528row1_col7\" class=\"data row1 col7\" >0</td>\n",
       "                        <td id=\"T_6aec6c6e_e5f6_11ea_8e80_04d9f5515528row1_col8\" class=\"data row1 col8\" >0.0805</td>\n",
       "            </tr>\n",
       "            <tr>\n",
       "                        <th id=\"T_6aec6c6e_e5f6_11ea_8e80_04d9f5515528level0_row2\" class=\"row_heading level0 row2\" >2</th>\n",
       "                        <td id=\"T_6aec6c6e_e5f6_11ea_8e80_04d9f5515528row2_col0\" class=\"data row2 col0\" >Linear Discriminant Analysis</td>\n",
       "                        <td id=\"T_6aec6c6e_e5f6_11ea_8e80_04d9f5515528row2_col1\" class=\"data row2 col1\" >0.7075</td>\n",
       "                        <td id=\"T_6aec6c6e_e5f6_11ea_8e80_04d9f5515528row2_col2\" class=\"data row2 col2\" >0.5046</td>\n",
       "                        <td id=\"T_6aec6c6e_e5f6_11ea_8e80_04d9f5515528row2_col3\" class=\"data row2 col3\" >1</td>\n",
       "                        <td id=\"T_6aec6c6e_e5f6_11ea_8e80_04d9f5515528row2_col4\" class=\"data row2 col4\" >0.7075</td>\n",
       "                        <td id=\"T_6aec6c6e_e5f6_11ea_8e80_04d9f5515528row2_col5\" class=\"data row2 col5\" >0.8287</td>\n",
       "                        <td id=\"T_6aec6c6e_e5f6_11ea_8e80_04d9f5515528row2_col6\" class=\"data row2 col6\" >0</td>\n",
       "                        <td id=\"T_6aec6c6e_e5f6_11ea_8e80_04d9f5515528row2_col7\" class=\"data row2 col7\" >0</td>\n",
       "                        <td id=\"T_6aec6c6e_e5f6_11ea_8e80_04d9f5515528row2_col8\" class=\"data row2 col8\" >0.28</td>\n",
       "            </tr>\n",
       "            <tr>\n",
       "                        <th id=\"T_6aec6c6e_e5f6_11ea_8e80_04d9f5515528level0_row3\" class=\"row_heading level0 row3\" >3</th>\n",
       "                        <td id=\"T_6aec6c6e_e5f6_11ea_8e80_04d9f5515528row3_col0\" class=\"data row3 col0\" >Ada Boost Classifier</td>\n",
       "                        <td id=\"T_6aec6c6e_e5f6_11ea_8e80_04d9f5515528row3_col1\" class=\"data row3 col1\" >0.7072</td>\n",
       "                        <td id=\"T_6aec6c6e_e5f6_11ea_8e80_04d9f5515528row3_col2\" class=\"data row3 col2\" >0.5045</td>\n",
       "                        <td id=\"T_6aec6c6e_e5f6_11ea_8e80_04d9f5515528row3_col3\" class=\"data row3 col3\" >0.9989</td>\n",
       "                        <td id=\"T_6aec6c6e_e5f6_11ea_8e80_04d9f5515528row3_col4\" class=\"data row3 col4\" >0.7076</td>\n",
       "                        <td id=\"T_6aec6c6e_e5f6_11ea_8e80_04d9f5515528row3_col5\" class=\"data row3 col5\" >0.8284</td>\n",
       "                        <td id=\"T_6aec6c6e_e5f6_11ea_8e80_04d9f5515528row3_col6\" class=\"data row3 col6\" >0.0008</td>\n",
       "                        <td id=\"T_6aec6c6e_e5f6_11ea_8e80_04d9f5515528row3_col7\" class=\"data row3 col7\" >0.0072</td>\n",
       "                        <td id=\"T_6aec6c6e_e5f6_11ea_8e80_04d9f5515528row3_col8\" class=\"data row3 col8\" >1.168</td>\n",
       "            </tr>\n",
       "            <tr>\n",
       "                        <th id=\"T_6aec6c6e_e5f6_11ea_8e80_04d9f5515528level0_row4\" class=\"row_heading level0 row4\" >4</th>\n",
       "                        <td id=\"T_6aec6c6e_e5f6_11ea_8e80_04d9f5515528row4_col0\" class=\"data row4 col0\" >Naive Bayes</td>\n",
       "                        <td id=\"T_6aec6c6e_e5f6_11ea_8e80_04d9f5515528row4_col1\" class=\"data row4 col1\" >0.7069</td>\n",
       "                        <td id=\"T_6aec6c6e_e5f6_11ea_8e80_04d9f5515528row4_col2\" class=\"data row4 col2\" >0.5082</td>\n",
       "                        <td id=\"T_6aec6c6e_e5f6_11ea_8e80_04d9f5515528row4_col3\" class=\"data row4 col3\" >0.9981</td>\n",
       "                        <td id=\"T_6aec6c6e_e5f6_11ea_8e80_04d9f5515528row4_col4\" class=\"data row4 col4\" >0.7076</td>\n",
       "                        <td id=\"T_6aec6c6e_e5f6_11ea_8e80_04d9f5515528row4_col5\" class=\"data row4 col5\" >0.8281</td>\n",
       "                        <td id=\"T_6aec6c6e_e5f6_11ea_8e80_04d9f5515528row4_col6\" class=\"data row4 col6\" >0.0005</td>\n",
       "                        <td id=\"T_6aec6c6e_e5f6_11ea_8e80_04d9f5515528row4_col7\" class=\"data row4 col7\" >0.0025</td>\n",
       "                        <td id=\"T_6aec6c6e_e5f6_11ea_8e80_04d9f5515528row4_col8\" class=\"data row4 col8\" >0.0225</td>\n",
       "            </tr>\n",
       "            <tr>\n",
       "                        <th id=\"T_6aec6c6e_e5f6_11ea_8e80_04d9f5515528level0_row5\" class=\"row_heading level0 row5\" >5</th>\n",
       "                        <td id=\"T_6aec6c6e_e5f6_11ea_8e80_04d9f5515528row5_col0\" class=\"data row5 col0\" >Gradient Boosting Classifier</td>\n",
       "                        <td id=\"T_6aec6c6e_e5f6_11ea_8e80_04d9f5515528row5_col1\" class=\"data row5 col1\" >0.7069</td>\n",
       "                        <td id=\"T_6aec6c6e_e5f6_11ea_8e80_04d9f5515528row5_col2\" class=\"data row5 col2\" >0.5062</td>\n",
       "                        <td id=\"T_6aec6c6e_e5f6_11ea_8e80_04d9f5515528row5_col3\" class=\"data row5 col3\" >0.9971</td>\n",
       "                        <td id=\"T_6aec6c6e_e5f6_11ea_8e80_04d9f5515528row5_col4\" class=\"data row5 col4\" >0.708</td>\n",
       "                        <td id=\"T_6aec6c6e_e5f6_11ea_8e80_04d9f5515528row5_col5\" class=\"data row5 col5\" >0.828</td>\n",
       "                        <td id=\"T_6aec6c6e_e5f6_11ea_8e80_04d9f5515528row5_col6\" class=\"data row5 col6\" >0.003</td>\n",
       "                        <td id=\"T_6aec6c6e_e5f6_11ea_8e80_04d9f5515528row5_col7\" class=\"data row5 col7\" >0.0167</td>\n",
       "                        <td id=\"T_6aec6c6e_e5f6_11ea_8e80_04d9f5515528row5_col8\" class=\"data row5 col8\" >4.259</td>\n",
       "            </tr>\n",
       "            <tr>\n",
       "                        <th id=\"T_6aec6c6e_e5f6_11ea_8e80_04d9f5515528level0_row6\" class=\"row_heading level0 row6\" >6</th>\n",
       "                        <td id=\"T_6aec6c6e_e5f6_11ea_8e80_04d9f5515528row6_col0\" class=\"data row6 col0\" >CatBoost Classifier</td>\n",
       "                        <td id=\"T_6aec6c6e_e5f6_11ea_8e80_04d9f5515528row6_col1\" class=\"data row6 col1\" >0.7055</td>\n",
       "                        <td id=\"T_6aec6c6e_e5f6_11ea_8e80_04d9f5515528row6_col2\" class=\"data row6 col2\" >0.5067</td>\n",
       "                        <td id=\"T_6aec6c6e_e5f6_11ea_8e80_04d9f5515528row6_col3\" class=\"data row6 col3\" >0.9929</td>\n",
       "                        <td id=\"T_6aec6c6e_e5f6_11ea_8e80_04d9f5515528row6_col4\" class=\"data row6 col4\" >0.7082</td>\n",
       "                        <td id=\"T_6aec6c6e_e5f6_11ea_8e80_04d9f5515528row6_col5\" class=\"data row6 col5\" >0.8267</td>\n",
       "                        <td id=\"T_6aec6c6e_e5f6_11ea_8e80_04d9f5515528row6_col6\" class=\"data row6 col6\" >0.0045</td>\n",
       "                        <td id=\"T_6aec6c6e_e5f6_11ea_8e80_04d9f5515528row6_col7\" class=\"data row6 col7\" >0.0166</td>\n",
       "                        <td id=\"T_6aec6c6e_e5f6_11ea_8e80_04d9f5515528row6_col8\" class=\"data row6 col8\" >14.73</td>\n",
       "            </tr>\n",
       "            <tr>\n",
       "                        <th id=\"T_6aec6c6e_e5f6_11ea_8e80_04d9f5515528level0_row7\" class=\"row_heading level0 row7\" >7</th>\n",
       "                        <td id=\"T_6aec6c6e_e5f6_11ea_8e80_04d9f5515528row7_col0\" class=\"data row7 col0\" >Light Gradient Boosting Machine</td>\n",
       "                        <td id=\"T_6aec6c6e_e5f6_11ea_8e80_04d9f5515528row7_col1\" class=\"data row7 col1\" >0.7048</td>\n",
       "                        <td id=\"T_6aec6c6e_e5f6_11ea_8e80_04d9f5515528row7_col2\" class=\"data row7 col2\" >0.5039</td>\n",
       "                        <td id=\"T_6aec6c6e_e5f6_11ea_8e80_04d9f5515528row7_col3\" class=\"data row7 col3\" >0.9933</td>\n",
       "                        <td id=\"T_6aec6c6e_e5f6_11ea_8e80_04d9f5515528row7_col4\" class=\"data row7 col4\" >0.7076</td>\n",
       "                        <td id=\"T_6aec6c6e_e5f6_11ea_8e80_04d9f5515528row7_col5\" class=\"data row7 col5\" >0.8264</td>\n",
       "                        <td id=\"T_6aec6c6e_e5f6_11ea_8e80_04d9f5515528row7_col6\" class=\"data row7 col6\" >0.0005</td>\n",
       "                        <td id=\"T_6aec6c6e_e5f6_11ea_8e80_04d9f5515528row7_col7\" class=\"data row7 col7\" >0.0007</td>\n",
       "                        <td id=\"T_6aec6c6e_e5f6_11ea_8e80_04d9f5515528row7_col8\" class=\"data row7 col8\" >0.2966</td>\n",
       "            </tr>\n",
       "            <tr>\n",
       "                        <th id=\"T_6aec6c6e_e5f6_11ea_8e80_04d9f5515528level0_row8\" class=\"row_heading level0 row8\" >8</th>\n",
       "                        <td id=\"T_6aec6c6e_e5f6_11ea_8e80_04d9f5515528row8_col0\" class=\"data row8 col0\" >Extreme Gradient Boosting</td>\n",
       "                        <td id=\"T_6aec6c6e_e5f6_11ea_8e80_04d9f5515528row8_col1\" class=\"data row8 col1\" >0.6898</td>\n",
       "                        <td id=\"T_6aec6c6e_e5f6_11ea_8e80_04d9f5515528row8_col2\" class=\"data row8 col2\" >0.5063</td>\n",
       "                        <td id=\"T_6aec6c6e_e5f6_11ea_8e80_04d9f5515528row8_col3\" class=\"data row8 col3\" >0.9556</td>\n",
       "                        <td id=\"T_6aec6c6e_e5f6_11ea_8e80_04d9f5515528row8_col4\" class=\"data row8 col4\" >0.708</td>\n",
       "                        <td id=\"T_6aec6c6e_e5f6_11ea_8e80_04d9f5515528row8_col5\" class=\"data row8 col5\" >0.8134</td>\n",
       "                        <td id=\"T_6aec6c6e_e5f6_11ea_8e80_04d9f5515528row8_col6\" class=\"data row8 col6\" >0.003</td>\n",
       "                        <td id=\"T_6aec6c6e_e5f6_11ea_8e80_04d9f5515528row8_col7\" class=\"data row8 col7\" >0.0052</td>\n",
       "                        <td id=\"T_6aec6c6e_e5f6_11ea_8e80_04d9f5515528row8_col8\" class=\"data row8 col8\" >5.901</td>\n",
       "            </tr>\n",
       "            <tr>\n",
       "                        <th id=\"T_6aec6c6e_e5f6_11ea_8e80_04d9f5515528level0_row9\" class=\"row_heading level0 row9\" >9</th>\n",
       "                        <td id=\"T_6aec6c6e_e5f6_11ea_8e80_04d9f5515528row9_col0\" class=\"data row9 col0\" >Extra Trees Classifier</td>\n",
       "                        <td id=\"T_6aec6c6e_e5f6_11ea_8e80_04d9f5515528row9_col1\" class=\"data row9 col1\" >0.6606</td>\n",
       "                        <td id=\"T_6aec6c6e_e5f6_11ea_8e80_04d9f5515528row9_col2\" class=\"data row9 col2\" >0.4992</td>\n",
       "                        <td id=\"T_6aec6c6e_e5f6_11ea_8e80_04d9f5515528row9_col3\" class=\"data row9 col3\" >0.8913</td>\n",
       "                        <td id=\"T_6aec6c6e_e5f6_11ea_8e80_04d9f5515528row9_col4\" class=\"data row9 col4\" >0.7061</td>\n",
       "                        <td id=\"T_6aec6c6e_e5f6_11ea_8e80_04d9f5515528row9_col5\" class=\"data row9 col5\" >0.7879</td>\n",
       "                        <td id=\"T_6aec6c6e_e5f6_11ea_8e80_04d9f5515528row9_col6\" class=\"data row9 col6\" >-0.0075</td>\n",
       "                        <td id=\"T_6aec6c6e_e5f6_11ea_8e80_04d9f5515528row9_col7\" class=\"data row9 col7\" >-0.0088</td>\n",
       "                        <td id=\"T_6aec6c6e_e5f6_11ea_8e80_04d9f5515528row9_col8\" class=\"data row9 col8\" >0.5056</td>\n",
       "            </tr>\n",
       "            <tr>\n",
       "                        <th id=\"T_6aec6c6e_e5f6_11ea_8e80_04d9f5515528level0_row10\" class=\"row_heading level0 row10\" >10</th>\n",
       "                        <td id=\"T_6aec6c6e_e5f6_11ea_8e80_04d9f5515528row10_col0\" class=\"data row10 col0\" >K Neighbors Classifier</td>\n",
       "                        <td id=\"T_6aec6c6e_e5f6_11ea_8e80_04d9f5515528row10_col1\" class=\"data row10 col1\" >0.644</td>\n",
       "                        <td id=\"T_6aec6c6e_e5f6_11ea_8e80_04d9f5515528row10_col2\" class=\"data row10 col2\" >0.4936</td>\n",
       "                        <td id=\"T_6aec6c6e_e5f6_11ea_8e80_04d9f5515528row10_col3\" class=\"data row10 col3\" >0.8492</td>\n",
       "                        <td id=\"T_6aec6c6e_e5f6_11ea_8e80_04d9f5515528row10_col4\" class=\"data row10 col4\" >0.7067</td>\n",
       "                        <td id=\"T_6aec6c6e_e5f6_11ea_8e80_04d9f5515528row10_col5\" class=\"data row10 col5\" >0.7714</td>\n",
       "                        <td id=\"T_6aec6c6e_e5f6_11ea_8e80_04d9f5515528row10_col6\" class=\"data row10 col6\" >-0.0037</td>\n",
       "                        <td id=\"T_6aec6c6e_e5f6_11ea_8e80_04d9f5515528row10_col7\" class=\"data row10 col7\" >-0.004</td>\n",
       "                        <td id=\"T_6aec6c6e_e5f6_11ea_8e80_04d9f5515528row10_col8\" class=\"data row10 col8\" >0.2028</td>\n",
       "            </tr>\n",
       "            <tr>\n",
       "                        <th id=\"T_6aec6c6e_e5f6_11ea_8e80_04d9f5515528level0_row11\" class=\"row_heading level0 row11\" >11</th>\n",
       "                        <td id=\"T_6aec6c6e_e5f6_11ea_8e80_04d9f5515528row11_col0\" class=\"data row11 col0\" >Random Forest Classifier</td>\n",
       "                        <td id=\"T_6aec6c6e_e5f6_11ea_8e80_04d9f5515528row11_col1\" class=\"data row11 col1\" >0.6334</td>\n",
       "                        <td id=\"T_6aec6c6e_e5f6_11ea_8e80_04d9f5515528row11_col2\" class=\"data row11 col2\" >0.4973</td>\n",
       "                        <td id=\"T_6aec6c6e_e5f6_11ea_8e80_04d9f5515528row11_col3\" class=\"data row11 col3\" >0.8231</td>\n",
       "                        <td id=\"T_6aec6c6e_e5f6_11ea_8e80_04d9f5515528row11_col4\" class=\"data row11 col4\" >0.707</td>\n",
       "                        <td id=\"T_6aec6c6e_e5f6_11ea_8e80_04d9f5515528row11_col5\" class=\"data row11 col5\" >0.7606</td>\n",
       "                        <td id=\"T_6aec6c6e_e5f6_11ea_8e80_04d9f5515528row11_col6\" class=\"data row11 col6\" >-0.0025</td>\n",
       "                        <td id=\"T_6aec6c6e_e5f6_11ea_8e80_04d9f5515528row11_col7\" class=\"data row11 col7\" >-0.0027</td>\n",
       "                        <td id=\"T_6aec6c6e_e5f6_11ea_8e80_04d9f5515528row11_col8\" class=\"data row11 col8\" >0.1527</td>\n",
       "            </tr>\n",
       "            <tr>\n",
       "                        <th id=\"T_6aec6c6e_e5f6_11ea_8e80_04d9f5515528level0_row12\" class=\"row_heading level0 row12\" >12</th>\n",
       "                        <td id=\"T_6aec6c6e_e5f6_11ea_8e80_04d9f5515528row12_col0\" class=\"data row12 col0\" >SVM - Linear Kernel</td>\n",
       "                        <td id=\"T_6aec6c6e_e5f6_11ea_8e80_04d9f5515528row12_col1\" class=\"data row12 col1\" >0.6245</td>\n",
       "                        <td id=\"T_6aec6c6e_e5f6_11ea_8e80_04d9f5515528row12_col2\" class=\"data row12 col2\" >0</td>\n",
       "                        <td id=\"T_6aec6c6e_e5f6_11ea_8e80_04d9f5515528row12_col3\" class=\"data row12 col3\" >0.8</td>\n",
       "                        <td id=\"T_6aec6c6e_e5f6_11ea_8e80_04d9f5515528row12_col4\" class=\"data row12 col4\" >0.566</td>\n",
       "                        <td id=\"T_6aec6c6e_e5f6_11ea_8e80_04d9f5515528row12_col5\" class=\"data row12 col5\" >0.663</td>\n",
       "                        <td id=\"T_6aec6c6e_e5f6_11ea_8e80_04d9f5515528row12_col6\" class=\"data row12 col6\" >0</td>\n",
       "                        <td id=\"T_6aec6c6e_e5f6_11ea_8e80_04d9f5515528row12_col7\" class=\"data row12 col7\" >0</td>\n",
       "                        <td id=\"T_6aec6c6e_e5f6_11ea_8e80_04d9f5515528row12_col8\" class=\"data row12 col8\" >0.8277</td>\n",
       "            </tr>\n",
       "            <tr>\n",
       "                        <th id=\"T_6aec6c6e_e5f6_11ea_8e80_04d9f5515528level0_row13\" class=\"row_heading level0 row13\" >13</th>\n",
       "                        <td id=\"T_6aec6c6e_e5f6_11ea_8e80_04d9f5515528row13_col0\" class=\"data row13 col0\" >Quadratic Discriminant Analysis</td>\n",
       "                        <td id=\"T_6aec6c6e_e5f6_11ea_8e80_04d9f5515528row13_col1\" class=\"data row13 col1\" >0.6182</td>\n",
       "                        <td id=\"T_6aec6c6e_e5f6_11ea_8e80_04d9f5515528row13_col2\" class=\"data row13 col2\" >0.5006</td>\n",
       "                        <td id=\"T_6aec6c6e_e5f6_11ea_8e80_04d9f5515528row13_col3\" class=\"data row13 col3\" >0.7834</td>\n",
       "                        <td id=\"T_6aec6c6e_e5f6_11ea_8e80_04d9f5515528row13_col4\" class=\"data row13 col4\" >0.7331</td>\n",
       "                        <td id=\"T_6aec6c6e_e5f6_11ea_8e80_04d9f5515528row13_col5\" class=\"data row13 col5\" >0.6581</td>\n",
       "                        <td id=\"T_6aec6c6e_e5f6_11ea_8e80_04d9f5515528row13_col6\" class=\"data row13 col6\" >0.0024</td>\n",
       "                        <td id=\"T_6aec6c6e_e5f6_11ea_8e80_04d9f5515528row13_col7\" class=\"data row13 col7\" >0.0045</td>\n",
       "                        <td id=\"T_6aec6c6e_e5f6_11ea_8e80_04d9f5515528row13_col8\" class=\"data row13 col8\" >0.0936</td>\n",
       "            </tr>\n",
       "            <tr>\n",
       "                        <th id=\"T_6aec6c6e_e5f6_11ea_8e80_04d9f5515528level0_row14\" class=\"row_heading level0 row14\" >14</th>\n",
       "                        <td id=\"T_6aec6c6e_e5f6_11ea_8e80_04d9f5515528row14_col0\" class=\"data row14 col0\" >Decision Tree Classifier</td>\n",
       "                        <td id=\"T_6aec6c6e_e5f6_11ea_8e80_04d9f5515528row14_col1\" class=\"data row14 col1\" >0.5846</td>\n",
       "                        <td id=\"T_6aec6c6e_e5f6_11ea_8e80_04d9f5515528row14_col2\" class=\"data row14 col2\" >0.5031</td>\n",
       "                        <td id=\"T_6aec6c6e_e5f6_11ea_8e80_04d9f5515528row14_col3\" class=\"data row14 col3\" >0.6994</td>\n",
       "                        <td id=\"T_6aec6c6e_e5f6_11ea_8e80_04d9f5515528row14_col4\" class=\"data row14 col4\" >0.7094</td>\n",
       "                        <td id=\"T_6aec6c6e_e5f6_11ea_8e80_04d9f5515528row14_col5\" class=\"data row14 col5\" >0.7043</td>\n",
       "                        <td id=\"T_6aec6c6e_e5f6_11ea_8e80_04d9f5515528row14_col6\" class=\"data row14 col6\" >0.0061</td>\n",
       "                        <td id=\"T_6aec6c6e_e5f6_11ea_8e80_04d9f5515528row14_col7\" class=\"data row14 col7\" >0.0061</td>\n",
       "                        <td id=\"T_6aec6c6e_e5f6_11ea_8e80_04d9f5515528row14_col8\" class=\"data row14 col8\" >0.3836</td>\n",
       "            </tr>\n",
       "    </tbody></table>"
      ],
      "text/plain": [
       "<pandas.io.formats.style.Styler at 0x7f908d000518>"
      ]
     },
     "metadata": {},
     "output_type": "display_data"
    }
   ],
   "source": [
    "best = compare_models()"
   ]
  },
  {
   "cell_type": "markdown",
   "metadata": {},
   "source": [
    "#### 2-1-1. Compare specific models"
   ]
  },
  {
   "cell_type": "markdown",
   "metadata": {},
   "source": [
    "##### * Blacklist certarin models\n",
    "    - compare_models(blacklist = ['model1', 'model2'])"
   ]
  },
  {
   "cell_type": "code",
   "execution_count": null,
   "metadata": {},
   "outputs": [],
   "source": [
    "black_list = compare_models(blacklist = ['dt', 'svm'])"
   ]
  },
  {
   "cell_type": "markdown",
   "metadata": {},
   "source": [
    "##### * Compare specific models\n",
    "    - compare_models(whitelist = ['model1', 'model2'])"
   ]
  },
  {
   "cell_type": "code",
   "execution_count": null,
   "metadata": {},
   "outputs": [],
   "source": [
    "best_specific = compare_models(whitelist = ['lr', 'lda', 'ridge'])"
   ]
  },
  {
   "cell_type": "markdown",
   "metadata": {},
   "source": [
    "##### * Return top 3 models based on Accuracy\n",
    "    - compare_models(n_select = 3)"
   ]
  },
  {
   "cell_type": "code",
   "execution_count": null,
   "metadata": {},
   "outputs": [],
   "source": [
    "top3 = compare_models(sort = 'AUC', n_select = 3) # default is 'Accuracy'"
   ]
  },
  {
   "cell_type": "markdown",
   "metadata": {},
   "source": [
    "### 2.2 Create model\n",
    "\n",
    "#### - 원하는 특정 모델 생성\n",
    "\n",
    "#### - create_model('model_name')\n",
    "\n",
    "#### - Other options\n",
    "    - train model using 5 fold CV\n",
    "        - creat_model('model', fold = 5)\n",
    "    - train model without CV\n",
    "        - create_model('model', cross_validation = False)\n",
    "    - train xgboost model with max depth = 10\n",
    "        - create_model('xgboost', max_depth = 10)\n",
    "    - train multiple lightgbm models with n learning_rate\n",
    "        - lgbms = [create_model('lightgbm', learning_rate = i) for i in np.arange(0.1,1,0.1)]"
   ]
  },
  {
   "cell_type": "code",
   "execution_count": 12,
   "metadata": {},
   "outputs": [
    {
     "data": {
      "text/html": [
       "<div>\n",
       "<style scoped>\n",
       "    .dataframe tbody tr th:only-of-type {\n",
       "        vertical-align: middle;\n",
       "    }\n",
       "\n",
       "    .dataframe tbody tr th {\n",
       "        vertical-align: top;\n",
       "    }\n",
       "\n",
       "    .dataframe thead th {\n",
       "        text-align: right;\n",
       "    }\n",
       "</style>\n",
       "<table border=\"1\" class=\"dataframe\">\n",
       "  <thead>\n",
       "    <tr style=\"text-align: right;\">\n",
       "      <th></th>\n",
       "      <th>Name</th>\n",
       "      <th>Reference</th>\n",
       "      <th>Turbo</th>\n",
       "    </tr>\n",
       "    <tr>\n",
       "      <th>ID</th>\n",
       "      <th></th>\n",
       "      <th></th>\n",
       "      <th></th>\n",
       "    </tr>\n",
       "  </thead>\n",
       "  <tbody>\n",
       "    <tr>\n",
       "      <th>lr</th>\n",
       "      <td>Logistic Regression</td>\n",
       "      <td>sklearn.linear_model.LogisticRegression</td>\n",
       "      <td>True</td>\n",
       "    </tr>\n",
       "    <tr>\n",
       "      <th>knn</th>\n",
       "      <td>K Neighbors Classifier</td>\n",
       "      <td>sklearn.neighbors.KNeighborsClassifier</td>\n",
       "      <td>True</td>\n",
       "    </tr>\n",
       "    <tr>\n",
       "      <th>nb</th>\n",
       "      <td>Naive Bayes</td>\n",
       "      <td>sklearn.naive_bayes.GaussianNB</td>\n",
       "      <td>True</td>\n",
       "    </tr>\n",
       "    <tr>\n",
       "      <th>dt</th>\n",
       "      <td>Decision Tree Classifier</td>\n",
       "      <td>sklearn.tree.DecisionTreeClassifier</td>\n",
       "      <td>True</td>\n",
       "    </tr>\n",
       "    <tr>\n",
       "      <th>svm</th>\n",
       "      <td>SVM - Linear Kernel</td>\n",
       "      <td>sklearn.linear_model.SGDClassifier</td>\n",
       "      <td>True</td>\n",
       "    </tr>\n",
       "    <tr>\n",
       "      <th>rbfsvm</th>\n",
       "      <td>SVM - Radial Kernel</td>\n",
       "      <td>sklearn.svm.SVC</td>\n",
       "      <td>False</td>\n",
       "    </tr>\n",
       "    <tr>\n",
       "      <th>gpc</th>\n",
       "      <td>Gaussian Process Classifier</td>\n",
       "      <td>sklearn.gaussian_process.GPC</td>\n",
       "      <td>False</td>\n",
       "    </tr>\n",
       "    <tr>\n",
       "      <th>mlp</th>\n",
       "      <td>MLP Classifier</td>\n",
       "      <td>sklearn.neural_network.MLPClassifier</td>\n",
       "      <td>False</td>\n",
       "    </tr>\n",
       "    <tr>\n",
       "      <th>ridge</th>\n",
       "      <td>Ridge Classifier</td>\n",
       "      <td>sklearn.linear_model.RidgeClassifier</td>\n",
       "      <td>True</td>\n",
       "    </tr>\n",
       "    <tr>\n",
       "      <th>rf</th>\n",
       "      <td>Random Forest Classifier</td>\n",
       "      <td>sklearn.ensemble.RandomForestClassifier</td>\n",
       "      <td>True</td>\n",
       "    </tr>\n",
       "    <tr>\n",
       "      <th>qda</th>\n",
       "      <td>Quadratic Discriminant Analysis</td>\n",
       "      <td>sklearn.discriminant_analysis.QDA</td>\n",
       "      <td>True</td>\n",
       "    </tr>\n",
       "    <tr>\n",
       "      <th>ada</th>\n",
       "      <td>Ada Boost Classifier</td>\n",
       "      <td>sklearn.ensemble.AdaBoostClassifier</td>\n",
       "      <td>True</td>\n",
       "    </tr>\n",
       "    <tr>\n",
       "      <th>gbc</th>\n",
       "      <td>Gradient Boosting Classifier</td>\n",
       "      <td>sklearn.ensemble.GradientBoostingClassifier</td>\n",
       "      <td>True</td>\n",
       "    </tr>\n",
       "    <tr>\n",
       "      <th>lda</th>\n",
       "      <td>Linear Discriminant Analysis</td>\n",
       "      <td>sklearn.discriminant_analysis.LDA</td>\n",
       "      <td>True</td>\n",
       "    </tr>\n",
       "    <tr>\n",
       "      <th>et</th>\n",
       "      <td>Extra Trees Classifier</td>\n",
       "      <td>sklearn.ensemble.ExtraTreesClassifier</td>\n",
       "      <td>True</td>\n",
       "    </tr>\n",
       "    <tr>\n",
       "      <th>xgboost</th>\n",
       "      <td>Extreme Gradient Boosting</td>\n",
       "      <td>xgboost.readthedocs.io</td>\n",
       "      <td>True</td>\n",
       "    </tr>\n",
       "    <tr>\n",
       "      <th>lightgbm</th>\n",
       "      <td>Light Gradient Boosting Machine</td>\n",
       "      <td>github.com/microsoft/LightGBM</td>\n",
       "      <td>True</td>\n",
       "    </tr>\n",
       "    <tr>\n",
       "      <th>catboost</th>\n",
       "      <td>CatBoost Classifier</td>\n",
       "      <td>catboost.ai</td>\n",
       "      <td>True</td>\n",
       "    </tr>\n",
       "  </tbody>\n",
       "</table>\n",
       "</div>"
      ],
      "text/plain": [
       "                                     Name  \\\n",
       "ID                                          \n",
       "lr                    Logistic Regression   \n",
       "knn                K Neighbors Classifier   \n",
       "nb                            Naive Bayes   \n",
       "dt               Decision Tree Classifier   \n",
       "svm                   SVM - Linear Kernel   \n",
       "rbfsvm                SVM - Radial Kernel   \n",
       "gpc           Gaussian Process Classifier   \n",
       "mlp                        MLP Classifier   \n",
       "ridge                    Ridge Classifier   \n",
       "rf               Random Forest Classifier   \n",
       "qda       Quadratic Discriminant Analysis   \n",
       "ada                  Ada Boost Classifier   \n",
       "gbc          Gradient Boosting Classifier   \n",
       "lda          Linear Discriminant Analysis   \n",
       "et                 Extra Trees Classifier   \n",
       "xgboost         Extreme Gradient Boosting   \n",
       "lightgbm  Light Gradient Boosting Machine   \n",
       "catboost              CatBoost Classifier   \n",
       "\n",
       "                                            Reference  Turbo  \n",
       "ID                                                            \n",
       "lr            sklearn.linear_model.LogisticRegression   True  \n",
       "knn            sklearn.neighbors.KNeighborsClassifier   True  \n",
       "nb                     sklearn.naive_bayes.GaussianNB   True  \n",
       "dt                sklearn.tree.DecisionTreeClassifier   True  \n",
       "svm                sklearn.linear_model.SGDClassifier   True  \n",
       "rbfsvm                                sklearn.svm.SVC  False  \n",
       "gpc                      sklearn.gaussian_process.GPC  False  \n",
       "mlp              sklearn.neural_network.MLPClassifier  False  \n",
       "ridge            sklearn.linear_model.RidgeClassifier   True  \n",
       "rf            sklearn.ensemble.RandomForestClassifier   True  \n",
       "qda                 sklearn.discriminant_analysis.QDA   True  \n",
       "ada               sklearn.ensemble.AdaBoostClassifier   True  \n",
       "gbc       sklearn.ensemble.GradientBoostingClassifier   True  \n",
       "lda                 sklearn.discriminant_analysis.LDA   True  \n",
       "et              sklearn.ensemble.ExtraTreesClassifier   True  \n",
       "xgboost                        xgboost.readthedocs.io   True  \n",
       "lightgbm                github.com/microsoft/LightGBM   True  \n",
       "catboost                                  catboost.ai   True  "
      ]
     },
     "execution_count": 12,
     "metadata": {},
     "output_type": "execute_result"
    }
   ],
   "source": [
    "# check the model library to see all models\n",
    "models()"
   ]
  },
  {
   "cell_type": "code",
   "execution_count": 26,
   "metadata": {},
   "outputs": [
    {
     "data": {
      "text/html": [
       "<style  type=\"text/css\" >\n",
       "    #T_1ff25986_e5fa_11ea_8e80_04d9f5515528row10_col0 {\n",
       "            background:  yellow;\n",
       "        }    #T_1ff25986_e5fa_11ea_8e80_04d9f5515528row10_col1 {\n",
       "            background:  yellow;\n",
       "        }    #T_1ff25986_e5fa_11ea_8e80_04d9f5515528row10_col2 {\n",
       "            background:  yellow;\n",
       "        }    #T_1ff25986_e5fa_11ea_8e80_04d9f5515528row10_col3 {\n",
       "            background:  yellow;\n",
       "        }    #T_1ff25986_e5fa_11ea_8e80_04d9f5515528row10_col4 {\n",
       "            background:  yellow;\n",
       "        }    #T_1ff25986_e5fa_11ea_8e80_04d9f5515528row10_col5 {\n",
       "            background:  yellow;\n",
       "        }    #T_1ff25986_e5fa_11ea_8e80_04d9f5515528row10_col6 {\n",
       "            background:  yellow;\n",
       "        }</style><table id=\"T_1ff25986_e5fa_11ea_8e80_04d9f5515528\" ><thead>    <tr>        <th class=\"blank level0\" ></th>        <th class=\"col_heading level0 col0\" >Accuracy</th>        <th class=\"col_heading level0 col1\" >AUC</th>        <th class=\"col_heading level0 col2\" >Recall</th>        <th class=\"col_heading level0 col3\" >Prec.</th>        <th class=\"col_heading level0 col4\" >F1</th>        <th class=\"col_heading level0 col5\" >Kappa</th>        <th class=\"col_heading level0 col6\" >MCC</th>    </tr></thead><tbody>\n",
       "                <tr>\n",
       "                        <th id=\"T_1ff25986_e5fa_11ea_8e80_04d9f5515528level0_row0\" class=\"row_heading level0 row0\" >0</th>\n",
       "                        <td id=\"T_1ff25986_e5fa_11ea_8e80_04d9f5515528row0_col0\" class=\"data row0 col0\" >0.7062</td>\n",
       "                        <td id=\"T_1ff25986_e5fa_11ea_8e80_04d9f5515528row0_col1\" class=\"data row0 col1\" >0.5001</td>\n",
       "                        <td id=\"T_1ff25986_e5fa_11ea_8e80_04d9f5515528row0_col2\" class=\"data row0 col2\" >0.996</td>\n",
       "                        <td id=\"T_1ff25986_e5fa_11ea_8e80_04d9f5515528row0_col3\" class=\"data row0 col3\" >0.7078</td>\n",
       "                        <td id=\"T_1ff25986_e5fa_11ea_8e80_04d9f5515528row0_col4\" class=\"data row0 col4\" >0.8275</td>\n",
       "                        <td id=\"T_1ff25986_e5fa_11ea_8e80_04d9f5515528row0_col5\" class=\"data row0 col5\" >0.0012</td>\n",
       "                        <td id=\"T_1ff25986_e5fa_11ea_8e80_04d9f5515528row0_col6\" class=\"data row0 col6\" >0.0059</td>\n",
       "            </tr>\n",
       "            <tr>\n",
       "                        <th id=\"T_1ff25986_e5fa_11ea_8e80_04d9f5515528level0_row1\" class=\"row_heading level0 row1\" >1</th>\n",
       "                        <td id=\"T_1ff25986_e5fa_11ea_8e80_04d9f5515528row1_col0\" class=\"data row1 col0\" >0.7048</td>\n",
       "                        <td id=\"T_1ff25986_e5fa_11ea_8e80_04d9f5515528row1_col1\" class=\"data row1 col1\" >0.4961</td>\n",
       "                        <td id=\"T_1ff25986_e5fa_11ea_8e80_04d9f5515528row1_col2\" class=\"data row1 col2\" >0.9947</td>\n",
       "                        <td id=\"T_1ff25986_e5fa_11ea_8e80_04d9f5515528row1_col3\" class=\"data row1 col3\" >0.7072</td>\n",
       "                        <td id=\"T_1ff25986_e5fa_11ea_8e80_04d9f5515528row1_col4\" class=\"data row1 col4\" >0.8266</td>\n",
       "                        <td id=\"T_1ff25986_e5fa_11ea_8e80_04d9f5515528row1_col5\" class=\"data row1 col5\" >-0.003</td>\n",
       "                        <td id=\"T_1ff25986_e5fa_11ea_8e80_04d9f5515528row1_col6\" class=\"data row1 col6\" >-0.014</td>\n",
       "            </tr>\n",
       "            <tr>\n",
       "                        <th id=\"T_1ff25986_e5fa_11ea_8e80_04d9f5515528level0_row2\" class=\"row_heading level0 row2\" >2</th>\n",
       "                        <td id=\"T_1ff25986_e5fa_11ea_8e80_04d9f5515528row2_col0\" class=\"data row2 col0\" >0.7071</td>\n",
       "                        <td id=\"T_1ff25986_e5fa_11ea_8e80_04d9f5515528row2_col1\" class=\"data row2 col1\" >0.5126</td>\n",
       "                        <td id=\"T_1ff25986_e5fa_11ea_8e80_04d9f5515528row2_col2\" class=\"data row2 col2\" >0.9967</td>\n",
       "                        <td id=\"T_1ff25986_e5fa_11ea_8e80_04d9f5515528row2_col3\" class=\"data row2 col3\" >0.7083</td>\n",
       "                        <td id=\"T_1ff25986_e5fa_11ea_8e80_04d9f5515528row2_col4\" class=\"data row2 col4\" >0.8281</td>\n",
       "                        <td id=\"T_1ff25986_e5fa_11ea_8e80_04d9f5515528row2_col5\" class=\"data row2 col5\" >0.0044</td>\n",
       "                        <td id=\"T_1ff25986_e5fa_11ea_8e80_04d9f5515528row2_col6\" class=\"data row2 col6\" >0.0218</td>\n",
       "            </tr>\n",
       "            <tr>\n",
       "                        <th id=\"T_1ff25986_e5fa_11ea_8e80_04d9f5515528level0_row3\" class=\"row_heading level0 row3\" >3</th>\n",
       "                        <td id=\"T_1ff25986_e5fa_11ea_8e80_04d9f5515528row3_col0\" class=\"data row3 col0\" >0.7057</td>\n",
       "                        <td id=\"T_1ff25986_e5fa_11ea_8e80_04d9f5515528row3_col1\" class=\"data row3 col1\" >0.5146</td>\n",
       "                        <td id=\"T_1ff25986_e5fa_11ea_8e80_04d9f5515528row3_col2\" class=\"data row3 col2\" >0.992</td>\n",
       "                        <td id=\"T_1ff25986_e5fa_11ea_8e80_04d9f5515528row3_col3\" class=\"data row3 col3\" >0.7086</td>\n",
       "                        <td id=\"T_1ff25986_e5fa_11ea_8e80_04d9f5515528row3_col4\" class=\"data row3 col4\" >0.8267</td>\n",
       "                        <td id=\"T_1ff25986_e5fa_11ea_8e80_04d9f5515528row3_col5\" class=\"data row3 col5\" >0.0069</td>\n",
       "                        <td id=\"T_1ff25986_e5fa_11ea_8e80_04d9f5515528row3_col6\" class=\"data row3 col6\" >0.0231</td>\n",
       "            </tr>\n",
       "            <tr>\n",
       "                        <th id=\"T_1ff25986_e5fa_11ea_8e80_04d9f5515528level0_row4\" class=\"row_heading level0 row4\" >4</th>\n",
       "                        <td id=\"T_1ff25986_e5fa_11ea_8e80_04d9f5515528row4_col0\" class=\"data row4 col0\" >0.7067</td>\n",
       "                        <td id=\"T_1ff25986_e5fa_11ea_8e80_04d9f5515528row4_col1\" class=\"data row4 col1\" >0.5048</td>\n",
       "                        <td id=\"T_1ff25986_e5fa_11ea_8e80_04d9f5515528row4_col2\" class=\"data row4 col2\" >0.996</td>\n",
       "                        <td id=\"T_1ff25986_e5fa_11ea_8e80_04d9f5515528row4_col3\" class=\"data row4 col3\" >0.7081</td>\n",
       "                        <td id=\"T_1ff25986_e5fa_11ea_8e80_04d9f5515528row4_col4\" class=\"data row4 col4\" >0.8277</td>\n",
       "                        <td id=\"T_1ff25986_e5fa_11ea_8e80_04d9f5515528row4_col5\" class=\"data row4 col5\" >0.0035</td>\n",
       "                        <td id=\"T_1ff25986_e5fa_11ea_8e80_04d9f5515528row4_col6\" class=\"data row4 col6\" >0.0163</td>\n",
       "            </tr>\n",
       "            <tr>\n",
       "                        <th id=\"T_1ff25986_e5fa_11ea_8e80_04d9f5515528level0_row5\" class=\"row_heading level0 row5\" >5</th>\n",
       "                        <td id=\"T_1ff25986_e5fa_11ea_8e80_04d9f5515528row5_col0\" class=\"data row5 col0\" >0.7052</td>\n",
       "                        <td id=\"T_1ff25986_e5fa_11ea_8e80_04d9f5515528row5_col1\" class=\"data row5 col1\" >0.5111</td>\n",
       "                        <td id=\"T_1ff25986_e5fa_11ea_8e80_04d9f5515528row5_col2\" class=\"data row5 col2\" >0.9953</td>\n",
       "                        <td id=\"T_1ff25986_e5fa_11ea_8e80_04d9f5515528row5_col3\" class=\"data row5 col3\" >0.7073</td>\n",
       "                        <td id=\"T_1ff25986_e5fa_11ea_8e80_04d9f5515528row5_col4\" class=\"data row5 col4\" >0.827</td>\n",
       "                        <td id=\"T_1ff25986_e5fa_11ea_8e80_04d9f5515528row5_col5\" class=\"data row5 col5\" >-0.002</td>\n",
       "                        <td id=\"T_1ff25986_e5fa_11ea_8e80_04d9f5515528row5_col6\" class=\"data row5 col6\" >-0.0101</td>\n",
       "            </tr>\n",
       "            <tr>\n",
       "                        <th id=\"T_1ff25986_e5fa_11ea_8e80_04d9f5515528level0_row6\" class=\"row_heading level0 row6\" >6</th>\n",
       "                        <td id=\"T_1ff25986_e5fa_11ea_8e80_04d9f5515528row6_col0\" class=\"data row6 col0\" >0.7029</td>\n",
       "                        <td id=\"T_1ff25986_e5fa_11ea_8e80_04d9f5515528row6_col1\" class=\"data row6 col1\" >0.5063</td>\n",
       "                        <td id=\"T_1ff25986_e5fa_11ea_8e80_04d9f5515528row6_col2\" class=\"data row6 col2\" >0.992</td>\n",
       "                        <td id=\"T_1ff25986_e5fa_11ea_8e80_04d9f5515528row6_col3\" class=\"data row6 col3\" >0.7065</td>\n",
       "                        <td id=\"T_1ff25986_e5fa_11ea_8e80_04d9f5515528row6_col4\" class=\"data row6 col4\" >0.8252</td>\n",
       "                        <td id=\"T_1ff25986_e5fa_11ea_8e80_04d9f5515528row6_col5\" class=\"data row6 col5\" >-0.0044</td>\n",
       "                        <td id=\"T_1ff25986_e5fa_11ea_8e80_04d9f5515528row6_col6\" class=\"data row6 col6\" >-0.0172</td>\n",
       "            </tr>\n",
       "            <tr>\n",
       "                        <th id=\"T_1ff25986_e5fa_11ea_8e80_04d9f5515528level0_row7\" class=\"row_heading level0 row7\" >7</th>\n",
       "                        <td id=\"T_1ff25986_e5fa_11ea_8e80_04d9f5515528row7_col0\" class=\"data row7 col0\" >0.7018</td>\n",
       "                        <td id=\"T_1ff25986_e5fa_11ea_8e80_04d9f5515528row7_col1\" class=\"data row7 col1\" >0.5047</td>\n",
       "                        <td id=\"T_1ff25986_e5fa_11ea_8e80_04d9f5515528row7_col2\" class=\"data row7 col2\" >0.99</td>\n",
       "                        <td id=\"T_1ff25986_e5fa_11ea_8e80_04d9f5515528row7_col3\" class=\"data row7 col3\" >0.7064</td>\n",
       "                        <td id=\"T_1ff25986_e5fa_11ea_8e80_04d9f5515528row7_col4\" class=\"data row7 col4\" >0.8245</td>\n",
       "                        <td id=\"T_1ff25986_e5fa_11ea_8e80_04d9f5515528row7_col5\" class=\"data row7 col5\" >-0.0072</td>\n",
       "                        <td id=\"T_1ff25986_e5fa_11ea_8e80_04d9f5515528row7_col6\" class=\"data row7 col6\" >-0.0256</td>\n",
       "            </tr>\n",
       "            <tr>\n",
       "                        <th id=\"T_1ff25986_e5fa_11ea_8e80_04d9f5515528level0_row8\" class=\"row_heading level0 row8\" >8</th>\n",
       "                        <td id=\"T_1ff25986_e5fa_11ea_8e80_04d9f5515528row8_col0\" class=\"data row8 col0\" >0.7089</td>\n",
       "                        <td id=\"T_1ff25986_e5fa_11ea_8e80_04d9f5515528row8_col1\" class=\"data row8 col1\" >0.5262</td>\n",
       "                        <td id=\"T_1ff25986_e5fa_11ea_8e80_04d9f5515528row8_col2\" class=\"data row8 col2\" >0.996</td>\n",
       "                        <td id=\"T_1ff25986_e5fa_11ea_8e80_04d9f5515528row8_col3\" class=\"data row8 col3\" >0.7097</td>\n",
       "                        <td id=\"T_1ff25986_e5fa_11ea_8e80_04d9f5515528row8_col4\" class=\"data row8 col4\" >0.8288</td>\n",
       "                        <td id=\"T_1ff25986_e5fa_11ea_8e80_04d9f5515528row8_col5\" class=\"data row8 col5\" >0.0148</td>\n",
       "                        <td id=\"T_1ff25986_e5fa_11ea_8e80_04d9f5515528row8_col6\" class=\"data row8 col6\" >0.0571</td>\n",
       "            </tr>\n",
       "            <tr>\n",
       "                        <th id=\"T_1ff25986_e5fa_11ea_8e80_04d9f5515528level0_row9\" class=\"row_heading level0 row9\" >9</th>\n",
       "                        <td id=\"T_1ff25986_e5fa_11ea_8e80_04d9f5515528row9_col0\" class=\"data row9 col0\" >0.7027</td>\n",
       "                        <td id=\"T_1ff25986_e5fa_11ea_8e80_04d9f5515528row9_col1\" class=\"data row9 col1\" >0.5001</td>\n",
       "                        <td id=\"T_1ff25986_e5fa_11ea_8e80_04d9f5515528row9_col2\" class=\"data row9 col2\" >0.9927</td>\n",
       "                        <td id=\"T_1ff25986_e5fa_11ea_8e80_04d9f5515528row9_col3\" class=\"data row9 col3\" >0.7063</td>\n",
       "                        <td id=\"T_1ff25986_e5fa_11ea_8e80_04d9f5515528row9_col4\" class=\"data row9 col4\" >0.8253</td>\n",
       "                        <td id=\"T_1ff25986_e5fa_11ea_8e80_04d9f5515528row9_col5\" class=\"data row9 col5\" >-0.008</td>\n",
       "                        <td id=\"T_1ff25986_e5fa_11ea_8e80_04d9f5515528row9_col6\" class=\"data row9 col6\" >-0.0347</td>\n",
       "            </tr>\n",
       "            <tr>\n",
       "                        <th id=\"T_1ff25986_e5fa_11ea_8e80_04d9f5515528level0_row10\" class=\"row_heading level0 row10\" >Mean</th>\n",
       "                        <td id=\"T_1ff25986_e5fa_11ea_8e80_04d9f5515528row10_col0\" class=\"data row10 col0\" >0.7052</td>\n",
       "                        <td id=\"T_1ff25986_e5fa_11ea_8e80_04d9f5515528row10_col1\" class=\"data row10 col1\" >0.5077</td>\n",
       "                        <td id=\"T_1ff25986_e5fa_11ea_8e80_04d9f5515528row10_col2\" class=\"data row10 col2\" >0.9941</td>\n",
       "                        <td id=\"T_1ff25986_e5fa_11ea_8e80_04d9f5515528row10_col3\" class=\"data row10 col3\" >0.7076</td>\n",
       "                        <td id=\"T_1ff25986_e5fa_11ea_8e80_04d9f5515528row10_col4\" class=\"data row10 col4\" >0.8267</td>\n",
       "                        <td id=\"T_1ff25986_e5fa_11ea_8e80_04d9f5515528row10_col5\" class=\"data row10 col5\" >0.0006</td>\n",
       "                        <td id=\"T_1ff25986_e5fa_11ea_8e80_04d9f5515528row10_col6\" class=\"data row10 col6\" >0.0023</td>\n",
       "            </tr>\n",
       "            <tr>\n",
       "                        <th id=\"T_1ff25986_e5fa_11ea_8e80_04d9f5515528level0_row11\" class=\"row_heading level0 row11\" >SD</th>\n",
       "                        <td id=\"T_1ff25986_e5fa_11ea_8e80_04d9f5515528row11_col0\" class=\"data row11 col0\" >0.0021</td>\n",
       "                        <td id=\"T_1ff25986_e5fa_11ea_8e80_04d9f5515528row11_col1\" class=\"data row11 col1\" >0.0083</td>\n",
       "                        <td id=\"T_1ff25986_e5fa_11ea_8e80_04d9f5515528row11_col2\" class=\"data row11 col2\" >0.0022</td>\n",
       "                        <td id=\"T_1ff25986_e5fa_11ea_8e80_04d9f5515528row11_col3\" class=\"data row11 col3\" >0.001</td>\n",
       "                        <td id=\"T_1ff25986_e5fa_11ea_8e80_04d9f5515528row11_col4\" class=\"data row11 col4\" >0.0013</td>\n",
       "                        <td id=\"T_1ff25986_e5fa_11ea_8e80_04d9f5515528row11_col5\" class=\"data row11 col5\" >0.0067</td>\n",
       "                        <td id=\"T_1ff25986_e5fa_11ea_8e80_04d9f5515528row11_col6\" class=\"data row11 col6\" >0.0264</td>\n",
       "            </tr>\n",
       "    </tbody></table>"
      ],
      "text/plain": [
       "<pandas.io.formats.style.Styler at 0x7f9092407c50>"
      ]
     },
     "metadata": {},
     "output_type": "display_data"
    }
   ],
   "source": [
    "lightgbm = create_model('lightgbm')"
   ]
  },
  {
   "cell_type": "markdown",
   "metadata": {},
   "source": [
    "### 2-3. Tune model\n",
    "\n",
    "#### - 생성한 모델에 대한 hyperparameter 튜닝\n",
    "\n",
    "#### - tune_model('model_name')\n",
    "\n",
    "#### - Ohter options\n",
    "    - tune hyperparameters with increased n_iter\n",
    "        - tune_model(model, n_iter = 50)\n",
    "    - tune hyperparameters to optimize AUC\n",
    "        - tune_model(rf, optimize = 'AUC') ## default is 'Accuracy'\n",
    "    - tune hyperparameters with custom_grid\n",
    "        - params = {\"max_depth\": np.random.randint(1, (len(data.columns)*.85),20),\n",
    "                    \"max_features\": np.random.randint(1, len(data.columns),20),\n",
    "                    \"min_samples_leaf\": [2,3,4,5,6],\n",
    "                    criterion\": [\"gini\", \"entropy\"]\n",
    "                    }\n",
    "        - tuned_dt_custom = tune_model(model, custom_grid = params)\n",
    "    - tune multiple models dynamically\n",
    "        - top3 = compare_models(n_select = 3)\n",
    "        - tuned_top3 = [tune_model(i) for i in top3]"
   ]
  },
  {
   "cell_type": "code",
   "execution_count": 14,
   "metadata": {},
   "outputs": [
    {
     "data": {
      "text/html": [
       "<style  type=\"text/css\" >\n",
       "    #T_e8f76578_e5f6_11ea_8e80_04d9f5515528row10_col0 {\n",
       "            background:  yellow;\n",
       "        }    #T_e8f76578_e5f6_11ea_8e80_04d9f5515528row10_col1 {\n",
       "            background:  yellow;\n",
       "        }    #T_e8f76578_e5f6_11ea_8e80_04d9f5515528row10_col2 {\n",
       "            background:  yellow;\n",
       "        }    #T_e8f76578_e5f6_11ea_8e80_04d9f5515528row10_col3 {\n",
       "            background:  yellow;\n",
       "        }    #T_e8f76578_e5f6_11ea_8e80_04d9f5515528row10_col4 {\n",
       "            background:  yellow;\n",
       "        }    #T_e8f76578_e5f6_11ea_8e80_04d9f5515528row10_col5 {\n",
       "            background:  yellow;\n",
       "        }    #T_e8f76578_e5f6_11ea_8e80_04d9f5515528row10_col6 {\n",
       "            background:  yellow;\n",
       "        }</style><table id=\"T_e8f76578_e5f6_11ea_8e80_04d9f5515528\" ><thead>    <tr>        <th class=\"blank level0\" ></th>        <th class=\"col_heading level0 col0\" >Accuracy</th>        <th class=\"col_heading level0 col1\" >AUC</th>        <th class=\"col_heading level0 col2\" >Recall</th>        <th class=\"col_heading level0 col3\" >Prec.</th>        <th class=\"col_heading level0 col4\" >F1</th>        <th class=\"col_heading level0 col5\" >Kappa</th>        <th class=\"col_heading level0 col6\" >MCC</th>    </tr></thead><tbody>\n",
       "                <tr>\n",
       "                        <th id=\"T_e8f76578_e5f6_11ea_8e80_04d9f5515528level0_row0\" class=\"row_heading level0 row0\" >0</th>\n",
       "                        <td id=\"T_e8f76578_e5f6_11ea_8e80_04d9f5515528row0_col0\" class=\"data row0 col0\" >0.7057</td>\n",
       "                        <td id=\"T_e8f76578_e5f6_11ea_8e80_04d9f5515528row0_col1\" class=\"data row0 col1\" >0.5032</td>\n",
       "                        <td id=\"T_e8f76578_e5f6_11ea_8e80_04d9f5515528row0_col2\" class=\"data row0 col2\" >0.9933</td>\n",
       "                        <td id=\"T_e8f76578_e5f6_11ea_8e80_04d9f5515528row0_col3\" class=\"data row0 col3\" >0.7081</td>\n",
       "                        <td id=\"T_e8f76578_e5f6_11ea_8e80_04d9f5515528row0_col4\" class=\"data row0 col4\" >0.8268</td>\n",
       "                        <td id=\"T_e8f76578_e5f6_11ea_8e80_04d9f5515528row0_col5\" class=\"data row0 col5\" >0.0064</td>\n",
       "                        <td id=\"T_e8f76578_e5f6_11ea_8e80_04d9f5515528row0_col6\" class=\"data row0 col6\" >0.0235</td>\n",
       "            </tr>\n",
       "            <tr>\n",
       "                        <th id=\"T_e8f76578_e5f6_11ea_8e80_04d9f5515528level0_row1\" class=\"row_heading level0 row1\" >1</th>\n",
       "                        <td id=\"T_e8f76578_e5f6_11ea_8e80_04d9f5515528row1_col0\" class=\"data row1 col0\" >0.7062</td>\n",
       "                        <td id=\"T_e8f76578_e5f6_11ea_8e80_04d9f5515528row1_col1\" class=\"data row1 col1\" >0.5064</td>\n",
       "                        <td id=\"T_e8f76578_e5f6_11ea_8e80_04d9f5515528row1_col2\" class=\"data row1 col2\" >0.996</td>\n",
       "                        <td id=\"T_e8f76578_e5f6_11ea_8e80_04d9f5515528row1_col3\" class=\"data row1 col3\" >0.7078</td>\n",
       "                        <td id=\"T_e8f76578_e5f6_11ea_8e80_04d9f5515528row1_col4\" class=\"data row1 col4\" >0.8275</td>\n",
       "                        <td id=\"T_e8f76578_e5f6_11ea_8e80_04d9f5515528row1_col5\" class=\"data row1 col5\" >0.0012</td>\n",
       "                        <td id=\"T_e8f76578_e5f6_11ea_8e80_04d9f5515528row1_col6\" class=\"data row1 col6\" >0.0059</td>\n",
       "            </tr>\n",
       "            <tr>\n",
       "                        <th id=\"T_e8f76578_e5f6_11ea_8e80_04d9f5515528level0_row2\" class=\"row_heading level0 row2\" >2</th>\n",
       "                        <td id=\"T_e8f76578_e5f6_11ea_8e80_04d9f5515528row2_col0\" class=\"data row2 col0\" >0.7085</td>\n",
       "                        <td id=\"T_e8f76578_e5f6_11ea_8e80_04d9f5515528row2_col1\" class=\"data row2 col1\" >0.5195</td>\n",
       "                        <td id=\"T_e8f76578_e5f6_11ea_8e80_04d9f5515528row2_col2\" class=\"data row2 col2\" >0.9967</td>\n",
       "                        <td id=\"T_e8f76578_e5f6_11ea_8e80_04d9f5515528row2_col3\" class=\"data row2 col3\" >0.7093</td>\n",
       "                        <td id=\"T_e8f76578_e5f6_11ea_8e80_04d9f5515528row2_col4\" class=\"data row2 col4\" >0.8288</td>\n",
       "                        <td id=\"T_e8f76578_e5f6_11ea_8e80_04d9f5515528row2_col5\" class=\"data row2 col5\" >0.0112</td>\n",
       "                        <td id=\"T_e8f76578_e5f6_11ea_8e80_04d9f5515528row2_col6\" class=\"data row2 col6\" >0.0483</td>\n",
       "            </tr>\n",
       "            <tr>\n",
       "                        <th id=\"T_e8f76578_e5f6_11ea_8e80_04d9f5515528level0_row3\" class=\"row_heading level0 row3\" >3</th>\n",
       "                        <td id=\"T_e8f76578_e5f6_11ea_8e80_04d9f5515528row3_col0\" class=\"data row3 col0\" >0.7052</td>\n",
       "                        <td id=\"T_e8f76578_e5f6_11ea_8e80_04d9f5515528row3_col1\" class=\"data row3 col1\" >0.5005</td>\n",
       "                        <td id=\"T_e8f76578_e5f6_11ea_8e80_04d9f5515528row3_col2\" class=\"data row3 col2\" >0.9933</td>\n",
       "                        <td id=\"T_e8f76578_e5f6_11ea_8e80_04d9f5515528row3_col3\" class=\"data row3 col3\" >0.7079</td>\n",
       "                        <td id=\"T_e8f76578_e5f6_11ea_8e80_04d9f5515528row3_col4\" class=\"data row3 col4\" >0.8267</td>\n",
       "                        <td id=\"T_e8f76578_e5f6_11ea_8e80_04d9f5515528row3_col5\" class=\"data row3 col5\" >0.002</td>\n",
       "                        <td id=\"T_e8f76578_e5f6_11ea_8e80_04d9f5515528row3_col6\" class=\"data row3 col6\" >0.0076</td>\n",
       "            </tr>\n",
       "            <tr>\n",
       "                        <th id=\"T_e8f76578_e5f6_11ea_8e80_04d9f5515528level0_row4\" class=\"row_heading level0 row4\" >4</th>\n",
       "                        <td id=\"T_e8f76578_e5f6_11ea_8e80_04d9f5515528row4_col0\" class=\"data row4 col0\" >0.7081</td>\n",
       "                        <td id=\"T_e8f76578_e5f6_11ea_8e80_04d9f5515528row4_col1\" class=\"data row4 col1\" >0.5045</td>\n",
       "                        <td id=\"T_e8f76578_e5f6_11ea_8e80_04d9f5515528row4_col2\" class=\"data row4 col2\" >0.9947</td>\n",
       "                        <td id=\"T_e8f76578_e5f6_11ea_8e80_04d9f5515528row4_col3\" class=\"data row4 col3\" >0.7095</td>\n",
       "                        <td id=\"T_e8f76578_e5f6_11ea_8e80_04d9f5515528row4_col4\" class=\"data row4 col4\" >0.8282</td>\n",
       "                        <td id=\"T_e8f76578_e5f6_11ea_8e80_04d9f5515528row4_col5\" class=\"data row4 col5\" >0.0129</td>\n",
       "                        <td id=\"T_e8f76578_e5f6_11ea_8e80_04d9f5515528row4_col6\" class=\"data row4 col6\" >0.0469</td>\n",
       "            </tr>\n",
       "            <tr>\n",
       "                        <th id=\"T_e8f76578_e5f6_11ea_8e80_04d9f5515528level0_row5\" class=\"row_heading level0 row5\" >5</th>\n",
       "                        <td id=\"T_e8f76578_e5f6_11ea_8e80_04d9f5515528row5_col0\" class=\"data row5 col0\" >0.7071</td>\n",
       "                        <td id=\"T_e8f76578_e5f6_11ea_8e80_04d9f5515528row5_col1\" class=\"data row5 col1\" >0.4911</td>\n",
       "                        <td id=\"T_e8f76578_e5f6_11ea_8e80_04d9f5515528row5_col2\" class=\"data row5 col2\" >0.9947</td>\n",
       "                        <td id=\"T_e8f76578_e5f6_11ea_8e80_04d9f5515528row5_col3\" class=\"data row5 col3\" >0.7088</td>\n",
       "                        <td id=\"T_e8f76578_e5f6_11ea_8e80_04d9f5515528row5_col4\" class=\"data row5 col4\" >0.8278</td>\n",
       "                        <td id=\"T_e8f76578_e5f6_11ea_8e80_04d9f5515528row5_col5\" class=\"data row5 col5\" >0.0084</td>\n",
       "                        <td id=\"T_e8f76578_e5f6_11ea_8e80_04d9f5515528row5_col6\" class=\"data row5 col6\" >0.0324</td>\n",
       "            </tr>\n",
       "            <tr>\n",
       "                        <th id=\"T_e8f76578_e5f6_11ea_8e80_04d9f5515528level0_row6\" class=\"row_heading level0 row6\" >6</th>\n",
       "                        <td id=\"T_e8f76578_e5f6_11ea_8e80_04d9f5515528row6_col0\" class=\"data row6 col0\" >0.7071</td>\n",
       "                        <td id=\"T_e8f76578_e5f6_11ea_8e80_04d9f5515528row6_col1\" class=\"data row6 col1\" >0.5118</td>\n",
       "                        <td id=\"T_e8f76578_e5f6_11ea_8e80_04d9f5515528row6_col2\" class=\"data row6 col2\" >0.9947</td>\n",
       "                        <td id=\"T_e8f76578_e5f6_11ea_8e80_04d9f5515528row6_col3\" class=\"data row6 col3\" >0.7088</td>\n",
       "                        <td id=\"T_e8f76578_e5f6_11ea_8e80_04d9f5515528row6_col4\" class=\"data row6 col4\" >0.8278</td>\n",
       "                        <td id=\"T_e8f76578_e5f6_11ea_8e80_04d9f5515528row6_col5\" class=\"data row6 col5\" >0.0084</td>\n",
       "                        <td id=\"T_e8f76578_e5f6_11ea_8e80_04d9f5515528row6_col6\" class=\"data row6 col6\" >0.0324</td>\n",
       "            </tr>\n",
       "            <tr>\n",
       "                        <th id=\"T_e8f76578_e5f6_11ea_8e80_04d9f5515528level0_row7\" class=\"row_heading level0 row7\" >7</th>\n",
       "                        <td id=\"T_e8f76578_e5f6_11ea_8e80_04d9f5515528row7_col0\" class=\"data row7 col0\" >0.7027</td>\n",
       "                        <td id=\"T_e8f76578_e5f6_11ea_8e80_04d9f5515528row7_col1\" class=\"data row7 col1\" >0.4827</td>\n",
       "                        <td id=\"T_e8f76578_e5f6_11ea_8e80_04d9f5515528row7_col2\" class=\"data row7 col2\" >0.9913</td>\n",
       "                        <td id=\"T_e8f76578_e5f6_11ea_8e80_04d9f5515528row7_col3\" class=\"data row7 col3\" >0.7067</td>\n",
       "                        <td id=\"T_e8f76578_e5f6_11ea_8e80_04d9f5515528row7_col4\" class=\"data row7 col4\" >0.8251</td>\n",
       "                        <td id=\"T_e8f76578_e5f6_11ea_8e80_04d9f5515528row7_col5\" class=\"data row7 col5\" >-0.0054</td>\n",
       "                        <td id=\"T_e8f76578_e5f6_11ea_8e80_04d9f5515528row7_col6\" class=\"data row7 col6\" >-0.0202</td>\n",
       "            </tr>\n",
       "            <tr>\n",
       "                        <th id=\"T_e8f76578_e5f6_11ea_8e80_04d9f5515528level0_row8\" class=\"row_heading level0 row8\" >8</th>\n",
       "                        <td id=\"T_e8f76578_e5f6_11ea_8e80_04d9f5515528row8_col0\" class=\"data row8 col0\" >0.7051</td>\n",
       "                        <td id=\"T_e8f76578_e5f6_11ea_8e80_04d9f5515528row8_col1\" class=\"data row8 col1\" >0.5038</td>\n",
       "                        <td id=\"T_e8f76578_e5f6_11ea_8e80_04d9f5515528row8_col2\" class=\"data row8 col2\" >0.994</td>\n",
       "                        <td id=\"T_e8f76578_e5f6_11ea_8e80_04d9f5515528row8_col3\" class=\"data row8 col3\" >0.7076</td>\n",
       "                        <td id=\"T_e8f76578_e5f6_11ea_8e80_04d9f5515528row8_col4\" class=\"data row8 col4\" >0.8267</td>\n",
       "                        <td id=\"T_e8f76578_e5f6_11ea_8e80_04d9f5515528row8_col5\" class=\"data row8 col5\" >0.0006</td>\n",
       "                        <td id=\"T_e8f76578_e5f6_11ea_8e80_04d9f5515528row8_col6\" class=\"data row8 col6\" >0.0026</td>\n",
       "            </tr>\n",
       "            <tr>\n",
       "                        <th id=\"T_e8f76578_e5f6_11ea_8e80_04d9f5515528level0_row9\" class=\"row_heading level0 row9\" >9</th>\n",
       "                        <td id=\"T_e8f76578_e5f6_11ea_8e80_04d9f5515528row9_col0\" class=\"data row9 col0\" >0.7046</td>\n",
       "                        <td id=\"T_e8f76578_e5f6_11ea_8e80_04d9f5515528row9_col1\" class=\"data row9 col1\" >0.4925</td>\n",
       "                        <td id=\"T_e8f76578_e5f6_11ea_8e80_04d9f5515528row9_col2\" class=\"data row9 col2\" >0.9927</td>\n",
       "                        <td id=\"T_e8f76578_e5f6_11ea_8e80_04d9f5515528row9_col3\" class=\"data row9 col3\" >0.7076</td>\n",
       "                        <td id=\"T_e8f76578_e5f6_11ea_8e80_04d9f5515528row9_col4\" class=\"data row9 col4\" >0.8262</td>\n",
       "                        <td id=\"T_e8f76578_e5f6_11ea_8e80_04d9f5515528row9_col5\" class=\"data row9 col5\" >0.001</td>\n",
       "                        <td id=\"T_e8f76578_e5f6_11ea_8e80_04d9f5515528row9_col6\" class=\"data row9 col6\" >0.0038</td>\n",
       "            </tr>\n",
       "            <tr>\n",
       "                        <th id=\"T_e8f76578_e5f6_11ea_8e80_04d9f5515528level0_row10\" class=\"row_heading level0 row10\" >Mean</th>\n",
       "                        <td id=\"T_e8f76578_e5f6_11ea_8e80_04d9f5515528row10_col0\" class=\"data row10 col0\" >0.7061</td>\n",
       "                        <td id=\"T_e8f76578_e5f6_11ea_8e80_04d9f5515528row10_col1\" class=\"data row10 col1\" >0.5016</td>\n",
       "                        <td id=\"T_e8f76578_e5f6_11ea_8e80_04d9f5515528row10_col2\" class=\"data row10 col2\" >0.9941</td>\n",
       "                        <td id=\"T_e8f76578_e5f6_11ea_8e80_04d9f5515528row10_col3\" class=\"data row10 col3\" >0.7082</td>\n",
       "                        <td id=\"T_e8f76578_e5f6_11ea_8e80_04d9f5515528row10_col4\" class=\"data row10 col4\" >0.8272</td>\n",
       "                        <td id=\"T_e8f76578_e5f6_11ea_8e80_04d9f5515528row10_col5\" class=\"data row10 col5\" >0.0047</td>\n",
       "                        <td id=\"T_e8f76578_e5f6_11ea_8e80_04d9f5515528row10_col6\" class=\"data row10 col6\" >0.0183</td>\n",
       "            </tr>\n",
       "            <tr>\n",
       "                        <th id=\"T_e8f76578_e5f6_11ea_8e80_04d9f5515528level0_row11\" class=\"row_heading level0 row11\" >SD</th>\n",
       "                        <td id=\"T_e8f76578_e5f6_11ea_8e80_04d9f5515528row11_col0\" class=\"data row11 col0\" >0.0017</td>\n",
       "                        <td id=\"T_e8f76578_e5f6_11ea_8e80_04d9f5515528row11_col1\" class=\"data row11 col1\" >0.0101</td>\n",
       "                        <td id=\"T_e8f76578_e5f6_11ea_8e80_04d9f5515528row11_col2\" class=\"data row11 col2\" >0.0015</td>\n",
       "                        <td id=\"T_e8f76578_e5f6_11ea_8e80_04d9f5515528row11_col3\" class=\"data row11 col3\" >0.0008</td>\n",
       "                        <td id=\"T_e8f76578_e5f6_11ea_8e80_04d9f5515528row11_col4\" class=\"data row11 col4\" >0.001</td>\n",
       "                        <td id=\"T_e8f76578_e5f6_11ea_8e80_04d9f5515528row11_col5\" class=\"data row11 col5\" >0.0054</td>\n",
       "                        <td id=\"T_e8f76578_e5f6_11ea_8e80_04d9f5515528row11_col6\" class=\"data row11 col6\" >0.0208</td>\n",
       "            </tr>\n",
       "    </tbody></table>"
      ],
      "text/plain": [
       "<pandas.io.formats.style.Styler at 0x7f9075e33f28>"
      ]
     },
     "metadata": {},
     "output_type": "display_data"
    }
   ],
   "source": [
    "tuned_model = tune_model(lightgbm)"
   ]
  },
  {
   "cell_type": "markdown",
   "metadata": {},
   "source": [
    "## 3. Model Analysis"
   ]
  },
  {
   "cell_type": "markdown",
   "metadata": {},
   "source": [
    "### 3-1. Plot model\n",
    "\n",
    "#### - AUC, confusion_matrix, decision boundary 등과 같은 다양한 관점에서 plot을 통해 모델의 performance를 분석\n",
    "\n",
    "#### - 학습된 모델 object를 취하여 test / hold-out set에 기초한 plot을 return\n",
    "\n",
    "#### - plot_model(model, plot = 'parameter')"
   ]
  },
  {
   "cell_type": "code",
   "execution_count": null,
   "metadata": {},
   "outputs": [],
   "source": [
    "# AUC plot\n",
    "plot_model(tuned_model, plot = 'auc')"
   ]
  },
  {
   "cell_type": "code",
   "execution_count": null,
   "metadata": {},
   "outputs": [],
   "source": [
    "# Confusion matrix plot\n",
    "plot_model(tuned_model, plot = 'confusion_matrix')"
   ]
  },
  {
   "cell_type": "code",
   "execution_count": null,
   "metadata": {},
   "outputs": [],
   "source": [
    "# Decision Boundary plot\n",
    "plot_model(tuned_model, plot = 'boundary')"
   ]
  },
  {
   "cell_type": "code",
   "execution_count": null,
   "metadata": {},
   "outputs": [],
   "source": [
    "plot_model(tuned_model, plot='feature')"
   ]
  },
  {
   "cell_type": "markdown",
   "metadata": {},
   "source": [
    "### 3-2. Evaluate model\n",
    "\n",
    "#### - plot_model()을 기반으로 주어진 모델들에 대해 그려질 수 있는 모든 plot들을 한 눈에 알아볼 수 있도록 보여줌\n",
    "\n",
    "#### - evaluate_model(model)"
   ]
  },
  {
   "cell_type": "code",
   "execution_count": null,
   "metadata": {},
   "outputs": [],
   "source": [
    "evaluate_model(lightgbm)"
   ]
  },
  {
   "cell_type": "markdown",
   "metadata": {},
   "source": [
    "### 3-3. Optimize Threshold\n",
    "\n",
    "#### - threshold 값을 최적화하는 과정\n",
    "\n",
    "#### - optimize_threshold(model, true_positive = , true_negative = , false_positive = , false_negative = )\n",
    "\n",
    "#### - confusion matrix 요소들의 weight 값 입력함\n",
    "\n",
    "#### - weight 에 따라 어느 요소를 중요하게 볼지 선택 가능\n",
    "\n",
    "#### - 예시) 현재 코드에서는 TN과 FN에 weight를 줌\n",
    "    >> FN에 -100의 가중치를 준 이유는 회사의 입장에 돈을 지불하지 않아도 되는데 돈을 지불한 것으로 회사의 입장에서 손해이기 때문 음수의 가중치를 줌\n",
    "    >> TN에 10의 가중치를 준 이유는 돈을 지불해야하는데 돈을 지불한 것은 옳은 일이기 때문에 양수의 가중치를 줌\n",
    "    \n",
    "#### - 회사 입장에서 손해를 더 줄여야하기에 FN에 더 큰 값을 음수의 가중치로 줌"
   ]
  },
  {
   "cell_type": "code",
   "execution_count": 56,
   "metadata": {},
   "outputs": [
    {
     "data": {
      "text/html": [
       "        <script type=\"text/javascript\">\n",
       "        window.PlotlyConfig = {MathJaxConfig: 'local'};\n",
       "        if (window.MathJax) {MathJax.Hub.Config({SVG: {font: \"STIX-Web\"}});}\n",
       "        if (typeof require !== 'undefined') {\n",
       "        require.undef(\"plotly\");\n",
       "        requirejs.config({\n",
       "            paths: {\n",
       "                'plotly': ['https://cdn.plot.ly/plotly-latest.min']\n",
       "            }\n",
       "        });\n",
       "        require(['plotly'], function(Plotly) {\n",
       "            window._Plotly = Plotly;\n",
       "        });\n",
       "        }\n",
       "        </script>\n",
       "        "
      ]
     },
     "metadata": {},
     "output_type": "display_data"
    },
    {
     "data": {
      "application/vnd.plotly.v1+json": {
       "config": {
        "plotlyServerURL": "https://plot.ly"
       },
       "data": [
        {
         "hovertemplate": "Probability Threshold=%{x}<br>Cost Function=%{y}<extra></extra>",
         "legendgroup": "",
         "line": {
          "color": "#636efa",
          "dash": "solid",
          "shape": "linear"
         },
         "mode": "lines",
         "name": "",
         "orientation": "v",
         "showlegend": false,
         "type": "scatter",
         "x": [
          0,
          0.01,
          0.02,
          0.03,
          0.04,
          0.05,
          0.06,
          0.07,
          0.08,
          0.09,
          0.1,
          0.11,
          0.12,
          0.13,
          0.14,
          0.15,
          0.16,
          0.17,
          0.18,
          0.19,
          0.2,
          0.21,
          0.22,
          0.23,
          0.24,
          0.25,
          0.26,
          0.27,
          0.28,
          0.29,
          0.3,
          0.31,
          0.32,
          0.33,
          0.34,
          0.35000000000000003,
          0.36,
          0.37,
          0.38,
          0.39,
          0.4,
          0.41000000000000003,
          0.42,
          0.43,
          0.44,
          0.45,
          0.46,
          0.47000000000000003,
          0.48,
          0.49,
          0.5,
          0.51,
          0.52,
          0.53,
          0.54,
          0.55,
          0.56,
          0.5700000000000001,
          0.58,
          0.59,
          0.6,
          0.61,
          0.62,
          0.63,
          0.64,
          0.65,
          0.66,
          0.67,
          0.68,
          0.6900000000000001,
          0.7000000000000001,
          0.71,
          0.72,
          0.73,
          0.74,
          0.75,
          0.76,
          0.77,
          0.78,
          0.79,
          0.8,
          0.81,
          0.8200000000000001,
          0.8300000000000001,
          0.84,
          0.85,
          0.86,
          0.87,
          0.88,
          0.89,
          0.9,
          0.91,
          0.92,
          0.93,
          0.9400000000000001,
          0.9500000000000001,
          0.96,
          0.97,
          0.98,
          0.99
         ],
         "xaxis": "x",
         "y": [
          0,
          0,
          0,
          0,
          0,
          0,
          0,
          0,
          0,
          0,
          0,
          0,
          0,
          0,
          0,
          0,
          0,
          0,
          0,
          0,
          0,
          0,
          0,
          0,
          0,
          0,
          0,
          0,
          0,
          0,
          0,
          0,
          0,
          -9,
          -9,
          -9,
          -9,
          -9,
          -9,
          -9,
          1,
          -8,
          -17,
          -12,
          3,
          -1,
          -5,
          -26,
          -30,
          -38,
          -60,
          -116,
          -264,
          -315,
          -438,
          -459,
          -557,
          -687,
          -943,
          -1267,
          -1603,
          -2043,
          -2598,
          -3461,
          -4352,
          -5414,
          -6562,
          -8401,
          -10728,
          -13485,
          -17190,
          -21981,
          -26846,
          -30587,
          -33305,
          -35800,
          -37765,
          -39503,
          -40728,
          -41621,
          -42310,
          -42974,
          -43477,
          -43834,
          -43981,
          -44129,
          -44209,
          -44365,
          -44394,
          -44443,
          -44458,
          -44507,
          -44506,
          -44515,
          -44515,
          -44515,
          -44515,
          -44515,
          -44515,
          -44515
         ],
         "yaxis": "y"
        }
       ],
       "layout": {
        "legend": {
         "tracegroupgap": 0
        },
        "margin": {
         "t": 60
        },
        "plot_bgcolor": "rgb(245,245,245)",
        "shapes": [
         {
          "line": {
           "color": "red",
           "width": 2
          },
          "type": "line",
          "x0": 0.44,
          "x1": 0.44,
          "y0": -44515,
          "y1": 3
         }
        ],
        "template": {
         "data": {
          "bar": [
           {
            "error_x": {
             "color": "#2a3f5f"
            },
            "error_y": {
             "color": "#2a3f5f"
            },
            "marker": {
             "line": {
              "color": "#E5ECF6",
              "width": 0.5
             }
            },
            "type": "bar"
           }
          ],
          "barpolar": [
           {
            "marker": {
             "line": {
              "color": "#E5ECF6",
              "width": 0.5
             }
            },
            "type": "barpolar"
           }
          ],
          "carpet": [
           {
            "aaxis": {
             "endlinecolor": "#2a3f5f",
             "gridcolor": "white",
             "linecolor": "white",
             "minorgridcolor": "white",
             "startlinecolor": "#2a3f5f"
            },
            "baxis": {
             "endlinecolor": "#2a3f5f",
             "gridcolor": "white",
             "linecolor": "white",
             "minorgridcolor": "white",
             "startlinecolor": "#2a3f5f"
            },
            "type": "carpet"
           }
          ],
          "choropleth": [
           {
            "colorbar": {
             "outlinewidth": 0,
             "ticks": ""
            },
            "type": "choropleth"
           }
          ],
          "contour": [
           {
            "colorbar": {
             "outlinewidth": 0,
             "ticks": ""
            },
            "colorscale": [
             [
              0,
              "#0d0887"
             ],
             [
              0.1111111111111111,
              "#46039f"
             ],
             [
              0.2222222222222222,
              "#7201a8"
             ],
             [
              0.3333333333333333,
              "#9c179e"
             ],
             [
              0.4444444444444444,
              "#bd3786"
             ],
             [
              0.5555555555555556,
              "#d8576b"
             ],
             [
              0.6666666666666666,
              "#ed7953"
             ],
             [
              0.7777777777777778,
              "#fb9f3a"
             ],
             [
              0.8888888888888888,
              "#fdca26"
             ],
             [
              1,
              "#f0f921"
             ]
            ],
            "type": "contour"
           }
          ],
          "contourcarpet": [
           {
            "colorbar": {
             "outlinewidth": 0,
             "ticks": ""
            },
            "type": "contourcarpet"
           }
          ],
          "heatmap": [
           {
            "colorbar": {
             "outlinewidth": 0,
             "ticks": ""
            },
            "colorscale": [
             [
              0,
              "#0d0887"
             ],
             [
              0.1111111111111111,
              "#46039f"
             ],
             [
              0.2222222222222222,
              "#7201a8"
             ],
             [
              0.3333333333333333,
              "#9c179e"
             ],
             [
              0.4444444444444444,
              "#bd3786"
             ],
             [
              0.5555555555555556,
              "#d8576b"
             ],
             [
              0.6666666666666666,
              "#ed7953"
             ],
             [
              0.7777777777777778,
              "#fb9f3a"
             ],
             [
              0.8888888888888888,
              "#fdca26"
             ],
             [
              1,
              "#f0f921"
             ]
            ],
            "type": "heatmap"
           }
          ],
          "heatmapgl": [
           {
            "colorbar": {
             "outlinewidth": 0,
             "ticks": ""
            },
            "colorscale": [
             [
              0,
              "#0d0887"
             ],
             [
              0.1111111111111111,
              "#46039f"
             ],
             [
              0.2222222222222222,
              "#7201a8"
             ],
             [
              0.3333333333333333,
              "#9c179e"
             ],
             [
              0.4444444444444444,
              "#bd3786"
             ],
             [
              0.5555555555555556,
              "#d8576b"
             ],
             [
              0.6666666666666666,
              "#ed7953"
             ],
             [
              0.7777777777777778,
              "#fb9f3a"
             ],
             [
              0.8888888888888888,
              "#fdca26"
             ],
             [
              1,
              "#f0f921"
             ]
            ],
            "type": "heatmapgl"
           }
          ],
          "histogram": [
           {
            "marker": {
             "colorbar": {
              "outlinewidth": 0,
              "ticks": ""
             }
            },
            "type": "histogram"
           }
          ],
          "histogram2d": [
           {
            "colorbar": {
             "outlinewidth": 0,
             "ticks": ""
            },
            "colorscale": [
             [
              0,
              "#0d0887"
             ],
             [
              0.1111111111111111,
              "#46039f"
             ],
             [
              0.2222222222222222,
              "#7201a8"
             ],
             [
              0.3333333333333333,
              "#9c179e"
             ],
             [
              0.4444444444444444,
              "#bd3786"
             ],
             [
              0.5555555555555556,
              "#d8576b"
             ],
             [
              0.6666666666666666,
              "#ed7953"
             ],
             [
              0.7777777777777778,
              "#fb9f3a"
             ],
             [
              0.8888888888888888,
              "#fdca26"
             ],
             [
              1,
              "#f0f921"
             ]
            ],
            "type": "histogram2d"
           }
          ],
          "histogram2dcontour": [
           {
            "colorbar": {
             "outlinewidth": 0,
             "ticks": ""
            },
            "colorscale": [
             [
              0,
              "#0d0887"
             ],
             [
              0.1111111111111111,
              "#46039f"
             ],
             [
              0.2222222222222222,
              "#7201a8"
             ],
             [
              0.3333333333333333,
              "#9c179e"
             ],
             [
              0.4444444444444444,
              "#bd3786"
             ],
             [
              0.5555555555555556,
              "#d8576b"
             ],
             [
              0.6666666666666666,
              "#ed7953"
             ],
             [
              0.7777777777777778,
              "#fb9f3a"
             ],
             [
              0.8888888888888888,
              "#fdca26"
             ],
             [
              1,
              "#f0f921"
             ]
            ],
            "type": "histogram2dcontour"
           }
          ],
          "mesh3d": [
           {
            "colorbar": {
             "outlinewidth": 0,
             "ticks": ""
            },
            "type": "mesh3d"
           }
          ],
          "parcoords": [
           {
            "line": {
             "colorbar": {
              "outlinewidth": 0,
              "ticks": ""
             }
            },
            "type": "parcoords"
           }
          ],
          "pie": [
           {
            "automargin": true,
            "type": "pie"
           }
          ],
          "scatter": [
           {
            "marker": {
             "colorbar": {
              "outlinewidth": 0,
              "ticks": ""
             }
            },
            "type": "scatter"
           }
          ],
          "scatter3d": [
           {
            "line": {
             "colorbar": {
              "outlinewidth": 0,
              "ticks": ""
             }
            },
            "marker": {
             "colorbar": {
              "outlinewidth": 0,
              "ticks": ""
             }
            },
            "type": "scatter3d"
           }
          ],
          "scattercarpet": [
           {
            "marker": {
             "colorbar": {
              "outlinewidth": 0,
              "ticks": ""
             }
            },
            "type": "scattercarpet"
           }
          ],
          "scattergeo": [
           {
            "marker": {
             "colorbar": {
              "outlinewidth": 0,
              "ticks": ""
             }
            },
            "type": "scattergeo"
           }
          ],
          "scattergl": [
           {
            "marker": {
             "colorbar": {
              "outlinewidth": 0,
              "ticks": ""
             }
            },
            "type": "scattergl"
           }
          ],
          "scattermapbox": [
           {
            "marker": {
             "colorbar": {
              "outlinewidth": 0,
              "ticks": ""
             }
            },
            "type": "scattermapbox"
           }
          ],
          "scatterpolar": [
           {
            "marker": {
             "colorbar": {
              "outlinewidth": 0,
              "ticks": ""
             }
            },
            "type": "scatterpolar"
           }
          ],
          "scatterpolargl": [
           {
            "marker": {
             "colorbar": {
              "outlinewidth": 0,
              "ticks": ""
             }
            },
            "type": "scatterpolargl"
           }
          ],
          "scatterternary": [
           {
            "marker": {
             "colorbar": {
              "outlinewidth": 0,
              "ticks": ""
             }
            },
            "type": "scatterternary"
           }
          ],
          "surface": [
           {
            "colorbar": {
             "outlinewidth": 0,
             "ticks": ""
            },
            "colorscale": [
             [
              0,
              "#0d0887"
             ],
             [
              0.1111111111111111,
              "#46039f"
             ],
             [
              0.2222222222222222,
              "#7201a8"
             ],
             [
              0.3333333333333333,
              "#9c179e"
             ],
             [
              0.4444444444444444,
              "#bd3786"
             ],
             [
              0.5555555555555556,
              "#d8576b"
             ],
             [
              0.6666666666666666,
              "#ed7953"
             ],
             [
              0.7777777777777778,
              "#fb9f3a"
             ],
             [
              0.8888888888888888,
              "#fdca26"
             ],
             [
              1,
              "#f0f921"
             ]
            ],
            "type": "surface"
           }
          ],
          "table": [
           {
            "cells": {
             "fill": {
              "color": "#EBF0F8"
             },
             "line": {
              "color": "white"
             }
            },
            "header": {
             "fill": {
              "color": "#C8D4E3"
             },
             "line": {
              "color": "white"
             }
            },
            "type": "table"
           }
          ]
         },
         "layout": {
          "annotationdefaults": {
           "arrowcolor": "#2a3f5f",
           "arrowhead": 0,
           "arrowwidth": 1
          },
          "coloraxis": {
           "colorbar": {
            "outlinewidth": 0,
            "ticks": ""
           }
          },
          "colorscale": {
           "diverging": [
            [
             0,
             "#8e0152"
            ],
            [
             0.1,
             "#c51b7d"
            ],
            [
             0.2,
             "#de77ae"
            ],
            [
             0.3,
             "#f1b6da"
            ],
            [
             0.4,
             "#fde0ef"
            ],
            [
             0.5,
             "#f7f7f7"
            ],
            [
             0.6,
             "#e6f5d0"
            ],
            [
             0.7,
             "#b8e186"
            ],
            [
             0.8,
             "#7fbc41"
            ],
            [
             0.9,
             "#4d9221"
            ],
            [
             1,
             "#276419"
            ]
           ],
           "sequential": [
            [
             0,
             "#0d0887"
            ],
            [
             0.1111111111111111,
             "#46039f"
            ],
            [
             0.2222222222222222,
             "#7201a8"
            ],
            [
             0.3333333333333333,
             "#9c179e"
            ],
            [
             0.4444444444444444,
             "#bd3786"
            ],
            [
             0.5555555555555556,
             "#d8576b"
            ],
            [
             0.6666666666666666,
             "#ed7953"
            ],
            [
             0.7777777777777778,
             "#fb9f3a"
            ],
            [
             0.8888888888888888,
             "#fdca26"
            ],
            [
             1,
             "#f0f921"
            ]
           ],
           "sequentialminus": [
            [
             0,
             "#0d0887"
            ],
            [
             0.1111111111111111,
             "#46039f"
            ],
            [
             0.2222222222222222,
             "#7201a8"
            ],
            [
             0.3333333333333333,
             "#9c179e"
            ],
            [
             0.4444444444444444,
             "#bd3786"
            ],
            [
             0.5555555555555556,
             "#d8576b"
            ],
            [
             0.6666666666666666,
             "#ed7953"
            ],
            [
             0.7777777777777778,
             "#fb9f3a"
            ],
            [
             0.8888888888888888,
             "#fdca26"
            ],
            [
             1,
             "#f0f921"
            ]
           ]
          },
          "colorway": [
           "#636efa",
           "#EF553B",
           "#00cc96",
           "#ab63fa",
           "#FFA15A",
           "#19d3f3",
           "#FF6692",
           "#B6E880",
           "#FF97FF",
           "#FECB52"
          ],
          "font": {
           "color": "#2a3f5f"
          },
          "geo": {
           "bgcolor": "white",
           "lakecolor": "white",
           "landcolor": "#E5ECF6",
           "showlakes": true,
           "showland": true,
           "subunitcolor": "white"
          },
          "hoverlabel": {
           "align": "left"
          },
          "hovermode": "closest",
          "mapbox": {
           "style": "light"
          },
          "paper_bgcolor": "white",
          "plot_bgcolor": "#E5ECF6",
          "polar": {
           "angularaxis": {
            "gridcolor": "white",
            "linecolor": "white",
            "ticks": ""
           },
           "bgcolor": "#E5ECF6",
           "radialaxis": {
            "gridcolor": "white",
            "linecolor": "white",
            "ticks": ""
           }
          },
          "scene": {
           "xaxis": {
            "backgroundcolor": "#E5ECF6",
            "gridcolor": "white",
            "gridwidth": 2,
            "linecolor": "white",
            "showbackground": true,
            "ticks": "",
            "zerolinecolor": "white"
           },
           "yaxis": {
            "backgroundcolor": "#E5ECF6",
            "gridcolor": "white",
            "gridwidth": 2,
            "linecolor": "white",
            "showbackground": true,
            "ticks": "",
            "zerolinecolor": "white"
           },
           "zaxis": {
            "backgroundcolor": "#E5ECF6",
            "gridcolor": "white",
            "gridwidth": 2,
            "linecolor": "white",
            "showbackground": true,
            "ticks": "",
            "zerolinecolor": "white"
           }
          },
          "shapedefaults": {
           "line": {
            "color": "#2a3f5f"
           }
          },
          "ternary": {
           "aaxis": {
            "gridcolor": "white",
            "linecolor": "white",
            "ticks": ""
           },
           "baxis": {
            "gridcolor": "white",
            "linecolor": "white",
            "ticks": ""
           },
           "bgcolor": "#E5ECF6",
           "caxis": {
            "gridcolor": "white",
            "linecolor": "white",
            "ticks": ""
           }
          },
          "title": {
           "x": 0.05
          },
          "xaxis": {
           "automargin": true,
           "gridcolor": "white",
           "linecolor": "white",
           "ticks": "",
           "title": {
            "standoff": 15
           },
           "zerolinecolor": "white",
           "zerolinewidth": 2
          },
          "yaxis": {
           "automargin": true,
           "gridcolor": "white",
           "linecolor": "white",
           "ticks": "",
           "title": {
            "standoff": 15
           },
           "zerolinecolor": "white",
           "zerolinewidth": 2
          }
         }
        },
        "title": {
         "text": "LGBMClassifier Probability Threshold Optimization",
         "x": 0.45,
         "xanchor": "center",
         "y": 0.95,
         "yanchor": "top"
        },
        "xaxis": {
         "anchor": "y",
         "domain": [
          0,
          1
         ],
         "title": {
          "text": "Probability Threshold"
         }
        },
        "yaxis": {
         "anchor": "x",
         "domain": [
          0,
          1
         ],
         "title": {
          "text": "Cost Function"
         }
        }
       }
      },
      "text/html": [
       "<div>\n",
       "        \n",
       "        \n",
       "            <div id=\"56f4ce32-151e-4b99-96f9-311148fb3e13\" class=\"plotly-graph-div\" style=\"height:525px; width:100%;\"></div>\n",
       "            <script type=\"text/javascript\">\n",
       "                require([\"plotly\"], function(Plotly) {\n",
       "                    window.PLOTLYENV=window.PLOTLYENV || {};\n",
       "                    \n",
       "                if (document.getElementById(\"56f4ce32-151e-4b99-96f9-311148fb3e13\")) {\n",
       "                    Plotly.newPlot(\n",
       "                        '56f4ce32-151e-4b99-96f9-311148fb3e13',\n",
       "                        [{\"hovertemplate\": \"Probability Threshold=%{x}<br>Cost Function=%{y}<extra></extra>\", \"legendgroup\": \"\", \"line\": {\"color\": \"#636efa\", \"dash\": \"solid\", \"shape\": \"linear\"}, \"mode\": \"lines\", \"name\": \"\", \"orientation\": \"v\", \"showlegend\": false, \"type\": \"scatter\", \"x\": [0.0, 0.01, 0.02, 0.03, 0.04, 0.05, 0.06, 0.07, 0.08, 0.09, 0.1, 0.11, 0.12, 0.13, 0.14, 0.15, 0.16, 0.17, 0.18, 0.19, 0.2, 0.21, 0.22, 0.23, 0.24, 0.25, 0.26, 0.27, 0.28, 0.29, 0.3, 0.31, 0.32, 0.33, 0.34, 0.35000000000000003, 0.36, 0.37, 0.38, 0.39, 0.4, 0.41000000000000003, 0.42, 0.43, 0.44, 0.45, 0.46, 0.47000000000000003, 0.48, 0.49, 0.5, 0.51, 0.52, 0.53, 0.54, 0.55, 0.56, 0.5700000000000001, 0.58, 0.59, 0.6, 0.61, 0.62, 0.63, 0.64, 0.65, 0.66, 0.67, 0.68, 0.6900000000000001, 0.7000000000000001, 0.71, 0.72, 0.73, 0.74, 0.75, 0.76, 0.77, 0.78, 0.79, 0.8, 0.81, 0.8200000000000001, 0.8300000000000001, 0.84, 0.85, 0.86, 0.87, 0.88, 0.89, 0.9, 0.91, 0.92, 0.93, 0.9400000000000001, 0.9500000000000001, 0.96, 0.97, 0.98, 0.99], \"xaxis\": \"x\", \"y\": [0, 0, 0, 0, 0, 0, 0, 0, 0, 0, 0, 0, 0, 0, 0, 0, 0, 0, 0, 0, 0, 0, 0, 0, 0, 0, 0, 0, 0, 0, 0, 0, 0, -9, -9, -9, -9, -9, -9, -9, 1, -8, -17, -12, 3, -1, -5, -26, -30, -38, -60, -116, -264, -315, -438, -459, -557, -687, -943, -1267, -1603, -2043, -2598, -3461, -4352, -5414, -6562, -8401, -10728, -13485, -17190, -21981, -26846, -30587, -33305, -35800, -37765, -39503, -40728, -41621, -42310, -42974, -43477, -43834, -43981, -44129, -44209, -44365, -44394, -44443, -44458, -44507, -44506, -44515, -44515, -44515, -44515, -44515, -44515, -44515], \"yaxis\": \"y\"}],\n",
       "                        {\"legend\": {\"tracegroupgap\": 0}, \"margin\": {\"t\": 60}, \"plot_bgcolor\": \"rgb(245,245,245)\", \"shapes\": [{\"line\": {\"color\": \"red\", \"width\": 2}, \"type\": \"line\", \"x0\": 0.44, \"x1\": 0.44, \"y0\": -44515, \"y1\": 3}], \"template\": {\"data\": {\"bar\": [{\"error_x\": {\"color\": \"#2a3f5f\"}, \"error_y\": {\"color\": \"#2a3f5f\"}, \"marker\": {\"line\": {\"color\": \"#E5ECF6\", \"width\": 0.5}}, \"type\": \"bar\"}], \"barpolar\": [{\"marker\": {\"line\": {\"color\": \"#E5ECF6\", \"width\": 0.5}}, \"type\": \"barpolar\"}], \"carpet\": [{\"aaxis\": {\"endlinecolor\": \"#2a3f5f\", \"gridcolor\": \"white\", \"linecolor\": \"white\", \"minorgridcolor\": \"white\", \"startlinecolor\": \"#2a3f5f\"}, \"baxis\": {\"endlinecolor\": \"#2a3f5f\", \"gridcolor\": \"white\", \"linecolor\": \"white\", \"minorgridcolor\": \"white\", \"startlinecolor\": \"#2a3f5f\"}, \"type\": \"carpet\"}], \"choropleth\": [{\"colorbar\": {\"outlinewidth\": 0, \"ticks\": \"\"}, \"type\": \"choropleth\"}], \"contour\": [{\"colorbar\": {\"outlinewidth\": 0, \"ticks\": \"\"}, \"colorscale\": [[0.0, \"#0d0887\"], [0.1111111111111111, \"#46039f\"], [0.2222222222222222, \"#7201a8\"], [0.3333333333333333, \"#9c179e\"], [0.4444444444444444, \"#bd3786\"], [0.5555555555555556, \"#d8576b\"], [0.6666666666666666, \"#ed7953\"], [0.7777777777777778, \"#fb9f3a\"], [0.8888888888888888, \"#fdca26\"], [1.0, \"#f0f921\"]], \"type\": \"contour\"}], \"contourcarpet\": [{\"colorbar\": {\"outlinewidth\": 0, \"ticks\": \"\"}, \"type\": \"contourcarpet\"}], \"heatmap\": [{\"colorbar\": {\"outlinewidth\": 0, \"ticks\": \"\"}, \"colorscale\": [[0.0, \"#0d0887\"], [0.1111111111111111, \"#46039f\"], [0.2222222222222222, \"#7201a8\"], [0.3333333333333333, \"#9c179e\"], [0.4444444444444444, \"#bd3786\"], [0.5555555555555556, \"#d8576b\"], [0.6666666666666666, \"#ed7953\"], [0.7777777777777778, \"#fb9f3a\"], [0.8888888888888888, \"#fdca26\"], [1.0, \"#f0f921\"]], \"type\": \"heatmap\"}], \"heatmapgl\": [{\"colorbar\": {\"outlinewidth\": 0, \"ticks\": \"\"}, \"colorscale\": [[0.0, \"#0d0887\"], [0.1111111111111111, \"#46039f\"], [0.2222222222222222, \"#7201a8\"], [0.3333333333333333, \"#9c179e\"], [0.4444444444444444, \"#bd3786\"], [0.5555555555555556, \"#d8576b\"], [0.6666666666666666, \"#ed7953\"], [0.7777777777777778, \"#fb9f3a\"], [0.8888888888888888, \"#fdca26\"], [1.0, \"#f0f921\"]], \"type\": \"heatmapgl\"}], \"histogram\": [{\"marker\": {\"colorbar\": {\"outlinewidth\": 0, \"ticks\": \"\"}}, \"type\": \"histogram\"}], \"histogram2d\": [{\"colorbar\": {\"outlinewidth\": 0, \"ticks\": \"\"}, \"colorscale\": [[0.0, \"#0d0887\"], [0.1111111111111111, \"#46039f\"], [0.2222222222222222, \"#7201a8\"], [0.3333333333333333, \"#9c179e\"], [0.4444444444444444, \"#bd3786\"], [0.5555555555555556, \"#d8576b\"], [0.6666666666666666, \"#ed7953\"], [0.7777777777777778, \"#fb9f3a\"], [0.8888888888888888, \"#fdca26\"], [1.0, \"#f0f921\"]], \"type\": \"histogram2d\"}], \"histogram2dcontour\": [{\"colorbar\": {\"outlinewidth\": 0, \"ticks\": \"\"}, \"colorscale\": [[0.0, \"#0d0887\"], [0.1111111111111111, \"#46039f\"], [0.2222222222222222, \"#7201a8\"], [0.3333333333333333, \"#9c179e\"], [0.4444444444444444, \"#bd3786\"], [0.5555555555555556, \"#d8576b\"], [0.6666666666666666, \"#ed7953\"], [0.7777777777777778, \"#fb9f3a\"], [0.8888888888888888, \"#fdca26\"], [1.0, \"#f0f921\"]], \"type\": \"histogram2dcontour\"}], \"mesh3d\": [{\"colorbar\": {\"outlinewidth\": 0, \"ticks\": \"\"}, \"type\": \"mesh3d\"}], \"parcoords\": [{\"line\": {\"colorbar\": {\"outlinewidth\": 0, \"ticks\": \"\"}}, \"type\": \"parcoords\"}], \"pie\": [{\"automargin\": true, \"type\": \"pie\"}], \"scatter\": [{\"marker\": {\"colorbar\": {\"outlinewidth\": 0, \"ticks\": \"\"}}, \"type\": \"scatter\"}], \"scatter3d\": [{\"line\": {\"colorbar\": {\"outlinewidth\": 0, \"ticks\": \"\"}}, \"marker\": {\"colorbar\": {\"outlinewidth\": 0, \"ticks\": \"\"}}, \"type\": \"scatter3d\"}], \"scattercarpet\": [{\"marker\": {\"colorbar\": {\"outlinewidth\": 0, \"ticks\": \"\"}}, \"type\": \"scattercarpet\"}], \"scattergeo\": [{\"marker\": {\"colorbar\": {\"outlinewidth\": 0, \"ticks\": \"\"}}, \"type\": \"scattergeo\"}], \"scattergl\": [{\"marker\": {\"colorbar\": {\"outlinewidth\": 0, \"ticks\": \"\"}}, \"type\": \"scattergl\"}], \"scattermapbox\": [{\"marker\": {\"colorbar\": {\"outlinewidth\": 0, \"ticks\": \"\"}}, \"type\": \"scattermapbox\"}], \"scatterpolar\": [{\"marker\": {\"colorbar\": {\"outlinewidth\": 0, \"ticks\": \"\"}}, \"type\": \"scatterpolar\"}], \"scatterpolargl\": [{\"marker\": {\"colorbar\": {\"outlinewidth\": 0, \"ticks\": \"\"}}, \"type\": \"scatterpolargl\"}], \"scatterternary\": [{\"marker\": {\"colorbar\": {\"outlinewidth\": 0, \"ticks\": \"\"}}, \"type\": \"scatterternary\"}], \"surface\": [{\"colorbar\": {\"outlinewidth\": 0, \"ticks\": \"\"}, \"colorscale\": [[0.0, \"#0d0887\"], [0.1111111111111111, \"#46039f\"], [0.2222222222222222, \"#7201a8\"], [0.3333333333333333, \"#9c179e\"], [0.4444444444444444, \"#bd3786\"], [0.5555555555555556, \"#d8576b\"], [0.6666666666666666, \"#ed7953\"], [0.7777777777777778, \"#fb9f3a\"], [0.8888888888888888, \"#fdca26\"], [1.0, \"#f0f921\"]], \"type\": \"surface\"}], \"table\": [{\"cells\": {\"fill\": {\"color\": \"#EBF0F8\"}, \"line\": {\"color\": \"white\"}}, \"header\": {\"fill\": {\"color\": \"#C8D4E3\"}, \"line\": {\"color\": \"white\"}}, \"type\": \"table\"}]}, \"layout\": {\"annotationdefaults\": {\"arrowcolor\": \"#2a3f5f\", \"arrowhead\": 0, \"arrowwidth\": 1}, \"coloraxis\": {\"colorbar\": {\"outlinewidth\": 0, \"ticks\": \"\"}}, \"colorscale\": {\"diverging\": [[0, \"#8e0152\"], [0.1, \"#c51b7d\"], [0.2, \"#de77ae\"], [0.3, \"#f1b6da\"], [0.4, \"#fde0ef\"], [0.5, \"#f7f7f7\"], [0.6, \"#e6f5d0\"], [0.7, \"#b8e186\"], [0.8, \"#7fbc41\"], [0.9, \"#4d9221\"], [1, \"#276419\"]], \"sequential\": [[0.0, \"#0d0887\"], [0.1111111111111111, \"#46039f\"], [0.2222222222222222, \"#7201a8\"], [0.3333333333333333, \"#9c179e\"], [0.4444444444444444, \"#bd3786\"], [0.5555555555555556, \"#d8576b\"], [0.6666666666666666, \"#ed7953\"], [0.7777777777777778, \"#fb9f3a\"], [0.8888888888888888, \"#fdca26\"], [1.0, \"#f0f921\"]], \"sequentialminus\": [[0.0, \"#0d0887\"], [0.1111111111111111, \"#46039f\"], [0.2222222222222222, \"#7201a8\"], [0.3333333333333333, \"#9c179e\"], [0.4444444444444444, \"#bd3786\"], [0.5555555555555556, \"#d8576b\"], [0.6666666666666666, \"#ed7953\"], [0.7777777777777778, \"#fb9f3a\"], [0.8888888888888888, \"#fdca26\"], [1.0, \"#f0f921\"]]}, \"colorway\": [\"#636efa\", \"#EF553B\", \"#00cc96\", \"#ab63fa\", \"#FFA15A\", \"#19d3f3\", \"#FF6692\", \"#B6E880\", \"#FF97FF\", \"#FECB52\"], \"font\": {\"color\": \"#2a3f5f\"}, \"geo\": {\"bgcolor\": \"white\", \"lakecolor\": \"white\", \"landcolor\": \"#E5ECF6\", \"showlakes\": true, \"showland\": true, \"subunitcolor\": \"white\"}, \"hoverlabel\": {\"align\": \"left\"}, \"hovermode\": \"closest\", \"mapbox\": {\"style\": \"light\"}, \"paper_bgcolor\": \"white\", \"plot_bgcolor\": \"#E5ECF6\", \"polar\": {\"angularaxis\": {\"gridcolor\": \"white\", \"linecolor\": \"white\", \"ticks\": \"\"}, \"bgcolor\": \"#E5ECF6\", \"radialaxis\": {\"gridcolor\": \"white\", \"linecolor\": \"white\", \"ticks\": \"\"}}, \"scene\": {\"xaxis\": {\"backgroundcolor\": \"#E5ECF6\", \"gridcolor\": \"white\", \"gridwidth\": 2, \"linecolor\": \"white\", \"showbackground\": true, \"ticks\": \"\", \"zerolinecolor\": \"white\"}, \"yaxis\": {\"backgroundcolor\": \"#E5ECF6\", \"gridcolor\": \"white\", \"gridwidth\": 2, \"linecolor\": \"white\", \"showbackground\": true, \"ticks\": \"\", \"zerolinecolor\": \"white\"}, \"zaxis\": {\"backgroundcolor\": \"#E5ECF6\", \"gridcolor\": \"white\", \"gridwidth\": 2, \"linecolor\": \"white\", \"showbackground\": true, \"ticks\": \"\", \"zerolinecolor\": \"white\"}}, \"shapedefaults\": {\"line\": {\"color\": \"#2a3f5f\"}}, \"ternary\": {\"aaxis\": {\"gridcolor\": \"white\", \"linecolor\": \"white\", \"ticks\": \"\"}, \"baxis\": {\"gridcolor\": \"white\", \"linecolor\": \"white\", \"ticks\": \"\"}, \"bgcolor\": \"#E5ECF6\", \"caxis\": {\"gridcolor\": \"white\", \"linecolor\": \"white\", \"ticks\": \"\"}}, \"title\": {\"x\": 0.05}, \"xaxis\": {\"automargin\": true, \"gridcolor\": \"white\", \"linecolor\": \"white\", \"ticks\": \"\", \"title\": {\"standoff\": 15}, \"zerolinecolor\": \"white\", \"zerolinewidth\": 2}, \"yaxis\": {\"automargin\": true, \"gridcolor\": \"white\", \"linecolor\": \"white\", \"ticks\": \"\", \"title\": {\"standoff\": 15}, \"zerolinecolor\": \"white\", \"zerolinewidth\": 2}}}, \"title\": {\"text\": \"LGBMClassifier Probability Threshold Optimization\", \"x\": 0.45, \"xanchor\": \"center\", \"y\": 0.95, \"yanchor\": \"top\"}, \"xaxis\": {\"anchor\": \"y\", \"domain\": [0.0, 1.0], \"title\": {\"text\": \"Probability Threshold\"}}, \"yaxis\": {\"anchor\": \"x\", \"domain\": [0.0, 1.0], \"title\": {\"text\": \"Cost Function\"}}},\n",
       "                        {\"responsive\": true}\n",
       "                    ).then(function(){\n",
       "                            \n",
       "var gd = document.getElementById('56f4ce32-151e-4b99-96f9-311148fb3e13');\n",
       "var x = new MutationObserver(function (mutations, observer) {{\n",
       "        var display = window.getComputedStyle(gd).display;\n",
       "        if (!display || display === 'none') {{\n",
       "            console.log([gd, 'removed!']);\n",
       "            Plotly.purge(gd);\n",
       "            observer.disconnect();\n",
       "        }}\n",
       "}});\n",
       "\n",
       "// Listen for the removal of the full notebook cells\n",
       "var notebookContainer = gd.closest('#notebook-container');\n",
       "if (notebookContainer) {{\n",
       "    x.observe(notebookContainer, {childList: true});\n",
       "}}\n",
       "\n",
       "// Listen for the clearing of the current output cell\n",
       "var outputEl = gd.closest('.output');\n",
       "if (outputEl) {{\n",
       "    x.observe(outputEl, {childList: true});\n",
       "}}\n",
       "\n",
       "                        })\n",
       "                };\n",
       "                });\n",
       "            </script>\n",
       "        </div>"
      ]
     },
     "metadata": {},
     "output_type": "display_data"
    },
    {
     "name": "stdout",
     "output_type": "stream",
     "text": [
      "Optimized Probability Threshold: 0.44 | Optimized Cost Function: 3\n"
     ]
    }
   ],
   "source": [
    "optimize_threshold(lightgbm, true_negative = 5, false_negative = -9)"
   ]
  },
  {
   "cell_type": "markdown",
   "metadata": {},
   "source": [
    "## 4. Model Deployment"
   ]
  },
  {
   "cell_type": "markdown",
   "metadata": {},
   "source": [
    "### 4-1. Predict model\n",
    "\n",
    "#### - predict_model(model)"
   ]
  },
  {
   "cell_type": "markdown",
   "metadata": {},
   "source": [
    "#### (위 그림 참고)Score 값은 threshold(0.36)을 기준으로 왼쪽이 0(돈을 지불해야함), 오른쪽이 1(돈을 지불하지 않아도 됨)\n",
    "\n",
    "#### score 값에 따라 Label은 threshold 값을 기준으로 왼쪽이면 0, 오른쪽이면 1로 나타남\n",
    "\n",
    "#### - target과 label의 값을 기준으로 accuracy 등 스코어 값을 산출\n",
    "\n",
    "#### -  돈을 안줘도 되는 줘야하는 상황이 손해이기에 threshold 값을 더 작게 산정하는 것이 회사 입장에서는 이득 \n",
    "\n",
    "#### - predict_model()자체에서 지정되는 threshold의 default 값은 0.5인데 위에 optimize한 0.36을 사용\n",
    "    - 회사 입장에 손해를 볼 확률을 줄일 수 있음"
   ]
  },
  {
   "cell_type": "code",
   "execution_count": 57,
   "metadata": {},
   "outputs": [
    {
     "data": {
      "text/html": [
       "<div>\n",
       "<style scoped>\n",
       "    .dataframe tbody tr th:only-of-type {\n",
       "        vertical-align: middle;\n",
       "    }\n",
       "\n",
       "    .dataframe tbody tr th {\n",
       "        vertical-align: top;\n",
       "    }\n",
       "\n",
       "    .dataframe thead th {\n",
       "        text-align: right;\n",
       "    }\n",
       "</style>\n",
       "<table border=\"1\" class=\"dataframe\">\n",
       "  <thead>\n",
       "    <tr style=\"text-align: right;\">\n",
       "      <th></th>\n",
       "      <th>Model</th>\n",
       "      <th>Accuracy</th>\n",
       "      <th>AUC</th>\n",
       "      <th>Recall</th>\n",
       "      <th>Prec.</th>\n",
       "      <th>F1</th>\n",
       "      <th>Kappa</th>\n",
       "      <th>MCC</th>\n",
       "    </tr>\n",
       "  </thead>\n",
       "  <tbody>\n",
       "    <tr>\n",
       "      <th>0</th>\n",
       "      <td>Light Gradient Boosting Machine</td>\n",
       "      <td>0.7079</td>\n",
       "      <td>0.5006</td>\n",
       "      <td>0.9995</td>\n",
       "      <td>0.708</td>\n",
       "      <td>0.8289</td>\n",
       "      <td>0.0025</td>\n",
       "      <td>0.0259</td>\n",
       "    </tr>\n",
       "  </tbody>\n",
       "</table>\n",
       "</div>"
      ],
      "text/plain": [
       "                             Model  Accuracy     AUC  Recall  Prec.      F1  \\\n",
       "0  Light Gradient Boosting Machine    0.7079  0.5006  0.9995  0.708  0.8289   \n",
       "\n",
       "    Kappa     MCC  \n",
       "0  0.0025  0.0259  "
      ]
     },
     "metadata": {},
     "output_type": "display_data"
    },
    {
     "data": {
      "text/html": [
       "<div>\n",
       "<style scoped>\n",
       "    .dataframe tbody tr th:only-of-type {\n",
       "        vertical-align: middle;\n",
       "    }\n",
       "\n",
       "    .dataframe tbody tr th {\n",
       "        vertical-align: top;\n",
       "    }\n",
       "\n",
       "    .dataframe thead th {\n",
       "        text-align: right;\n",
       "    }\n",
       "</style>\n",
       "<table border=\"1\" class=\"dataframe\">\n",
       "  <thead>\n",
       "    <tr style=\"text-align: right;\">\n",
       "      <th></th>\n",
       "      <th>EngineHP</th>\n",
       "      <th>credit_history</th>\n",
       "      <th>Years_Experience</th>\n",
       "      <th>Miles_driven_annually</th>\n",
       "      <th>Gender_F</th>\n",
       "      <th>Gender_M</th>\n",
       "      <th>annual_claims_0</th>\n",
       "      <th>annual_claims_1</th>\n",
       "      <th>annual_claims_2</th>\n",
       "      <th>annual_claims_3</th>\n",
       "      <th>...</th>\n",
       "      <th>State_UT</th>\n",
       "      <th>State_VA</th>\n",
       "      <th>State_VT</th>\n",
       "      <th>State_WA</th>\n",
       "      <th>State_WI</th>\n",
       "      <th>State_WV</th>\n",
       "      <th>State_WY</th>\n",
       "      <th>target</th>\n",
       "      <th>Label</th>\n",
       "      <th>Score</th>\n",
       "    </tr>\n",
       "  </thead>\n",
       "  <tbody>\n",
       "    <tr>\n",
       "      <th>0</th>\n",
       "      <td>122.0</td>\n",
       "      <td>703.0</td>\n",
       "      <td>1.0</td>\n",
       "      <td>16670.0</td>\n",
       "      <td>0.0</td>\n",
       "      <td>1.0</td>\n",
       "      <td>0.0</td>\n",
       "      <td>0.0</td>\n",
       "      <td>0.0</td>\n",
       "      <td>1.0</td>\n",
       "      <td>...</td>\n",
       "      <td>0.0</td>\n",
       "      <td>0.0</td>\n",
       "      <td>0.0</td>\n",
       "      <td>0.0</td>\n",
       "      <td>0.0</td>\n",
       "      <td>0.0</td>\n",
       "      <td>0.0</td>\n",
       "      <td>0</td>\n",
       "      <td>1</td>\n",
       "      <td>0.7076</td>\n",
       "    </tr>\n",
       "    <tr>\n",
       "      <th>1</th>\n",
       "      <td>133.0</td>\n",
       "      <td>797.0</td>\n",
       "      <td>10.0</td>\n",
       "      <td>11605.0</td>\n",
       "      <td>0.0</td>\n",
       "      <td>1.0</td>\n",
       "      <td>1.0</td>\n",
       "      <td>0.0</td>\n",
       "      <td>0.0</td>\n",
       "      <td>0.0</td>\n",
       "      <td>...</td>\n",
       "      <td>0.0</td>\n",
       "      <td>0.0</td>\n",
       "      <td>1.0</td>\n",
       "      <td>0.0</td>\n",
       "      <td>0.0</td>\n",
       "      <td>0.0</td>\n",
       "      <td>0.0</td>\n",
       "      <td>1</td>\n",
       "      <td>1</td>\n",
       "      <td>0.7301</td>\n",
       "    </tr>\n",
       "    <tr>\n",
       "      <th>2</th>\n",
       "      <td>126.0</td>\n",
       "      <td>769.0</td>\n",
       "      <td>16.0</td>\n",
       "      <td>6440.0</td>\n",
       "      <td>1.0</td>\n",
       "      <td>0.0</td>\n",
       "      <td>1.0</td>\n",
       "      <td>0.0</td>\n",
       "      <td>0.0</td>\n",
       "      <td>0.0</td>\n",
       "      <td>...</td>\n",
       "      <td>0.0</td>\n",
       "      <td>0.0</td>\n",
       "      <td>0.0</td>\n",
       "      <td>0.0</td>\n",
       "      <td>0.0</td>\n",
       "      <td>0.0</td>\n",
       "      <td>0.0</td>\n",
       "      <td>1</td>\n",
       "      <td>1</td>\n",
       "      <td>0.7777</td>\n",
       "    </tr>\n",
       "    <tr>\n",
       "      <th>3</th>\n",
       "      <td>82.0</td>\n",
       "      <td>735.0</td>\n",
       "      <td>20.0</td>\n",
       "      <td>6418.0</td>\n",
       "      <td>1.0</td>\n",
       "      <td>0.0</td>\n",
       "      <td>1.0</td>\n",
       "      <td>0.0</td>\n",
       "      <td>0.0</td>\n",
       "      <td>0.0</td>\n",
       "      <td>...</td>\n",
       "      <td>0.0</td>\n",
       "      <td>0.0</td>\n",
       "      <td>0.0</td>\n",
       "      <td>0.0</td>\n",
       "      <td>0.0</td>\n",
       "      <td>0.0</td>\n",
       "      <td>0.0</td>\n",
       "      <td>1</td>\n",
       "      <td>1</td>\n",
       "      <td>0.7983</td>\n",
       "    </tr>\n",
       "    <tr>\n",
       "      <th>4</th>\n",
       "      <td>160.0</td>\n",
       "      <td>756.0</td>\n",
       "      <td>16.0</td>\n",
       "      <td>9970.0</td>\n",
       "      <td>0.0</td>\n",
       "      <td>1.0</td>\n",
       "      <td>0.0</td>\n",
       "      <td>0.0</td>\n",
       "      <td>0.0</td>\n",
       "      <td>0.0</td>\n",
       "      <td>...</td>\n",
       "      <td>0.0</td>\n",
       "      <td>0.0</td>\n",
       "      <td>0.0</td>\n",
       "      <td>0.0</td>\n",
       "      <td>0.0</td>\n",
       "      <td>0.0</td>\n",
       "      <td>0.0</td>\n",
       "      <td>1</td>\n",
       "      <td>1</td>\n",
       "      <td>0.7426</td>\n",
       "    </tr>\n",
       "    <tr>\n",
       "      <th>...</th>\n",
       "      <td>...</td>\n",
       "      <td>...</td>\n",
       "      <td>...</td>\n",
       "      <td>...</td>\n",
       "      <td>...</td>\n",
       "      <td>...</td>\n",
       "      <td>...</td>\n",
       "      <td>...</td>\n",
       "      <td>...</td>\n",
       "      <td>...</td>\n",
       "      <td>...</td>\n",
       "      <td>...</td>\n",
       "      <td>...</td>\n",
       "      <td>...</td>\n",
       "      <td>...</td>\n",
       "      <td>...</td>\n",
       "      <td>...</td>\n",
       "      <td>...</td>\n",
       "      <td>...</td>\n",
       "      <td>...</td>\n",
       "      <td>...</td>\n",
       "    </tr>\n",
       "    <tr>\n",
       "      <th>9068</th>\n",
       "      <td>147.0</td>\n",
       "      <td>683.0</td>\n",
       "      <td>22.0</td>\n",
       "      <td>8798.0</td>\n",
       "      <td>0.0</td>\n",
       "      <td>1.0</td>\n",
       "      <td>0.0</td>\n",
       "      <td>1.0</td>\n",
       "      <td>0.0</td>\n",
       "      <td>0.0</td>\n",
       "      <td>...</td>\n",
       "      <td>0.0</td>\n",
       "      <td>0.0</td>\n",
       "      <td>0.0</td>\n",
       "      <td>0.0</td>\n",
       "      <td>0.0</td>\n",
       "      <td>0.0</td>\n",
       "      <td>0.0</td>\n",
       "      <td>1</td>\n",
       "      <td>1</td>\n",
       "      <td>0.6273</td>\n",
       "    </tr>\n",
       "    <tr>\n",
       "      <th>9069</th>\n",
       "      <td>147.0</td>\n",
       "      <td>681.0</td>\n",
       "      <td>15.0</td>\n",
       "      <td>6937.0</td>\n",
       "      <td>1.0</td>\n",
       "      <td>0.0</td>\n",
       "      <td>1.0</td>\n",
       "      <td>0.0</td>\n",
       "      <td>0.0</td>\n",
       "      <td>0.0</td>\n",
       "      <td>...</td>\n",
       "      <td>0.0</td>\n",
       "      <td>0.0</td>\n",
       "      <td>0.0</td>\n",
       "      <td>0.0</td>\n",
       "      <td>0.0</td>\n",
       "      <td>0.0</td>\n",
       "      <td>0.0</td>\n",
       "      <td>1</td>\n",
       "      <td>1</td>\n",
       "      <td>0.6961</td>\n",
       "    </tr>\n",
       "    <tr>\n",
       "      <th>9070</th>\n",
       "      <td>125.0</td>\n",
       "      <td>710.0</td>\n",
       "      <td>25.0</td>\n",
       "      <td>6493.0</td>\n",
       "      <td>0.0</td>\n",
       "      <td>1.0</td>\n",
       "      <td>0.0</td>\n",
       "      <td>1.0</td>\n",
       "      <td>0.0</td>\n",
       "      <td>0.0</td>\n",
       "      <td>...</td>\n",
       "      <td>0.0</td>\n",
       "      <td>0.0</td>\n",
       "      <td>0.0</td>\n",
       "      <td>0.0</td>\n",
       "      <td>0.0</td>\n",
       "      <td>0.0</td>\n",
       "      <td>0.0</td>\n",
       "      <td>0</td>\n",
       "      <td>1</td>\n",
       "      <td>0.7803</td>\n",
       "    </tr>\n",
       "    <tr>\n",
       "      <th>9071</th>\n",
       "      <td>116.0</td>\n",
       "      <td>709.0</td>\n",
       "      <td>21.0</td>\n",
       "      <td>7129.0</td>\n",
       "      <td>0.0</td>\n",
       "      <td>1.0</td>\n",
       "      <td>1.0</td>\n",
       "      <td>0.0</td>\n",
       "      <td>0.0</td>\n",
       "      <td>0.0</td>\n",
       "      <td>...</td>\n",
       "      <td>0.0</td>\n",
       "      <td>0.0</td>\n",
       "      <td>0.0</td>\n",
       "      <td>0.0</td>\n",
       "      <td>0.0</td>\n",
       "      <td>1.0</td>\n",
       "      <td>0.0</td>\n",
       "      <td>1</td>\n",
       "      <td>1</td>\n",
       "      <td>0.7050</td>\n",
       "    </tr>\n",
       "    <tr>\n",
       "      <th>9072</th>\n",
       "      <td>343.0</td>\n",
       "      <td>689.0</td>\n",
       "      <td>4.0</td>\n",
       "      <td>33721.0</td>\n",
       "      <td>1.0</td>\n",
       "      <td>0.0</td>\n",
       "      <td>0.0</td>\n",
       "      <td>1.0</td>\n",
       "      <td>0.0</td>\n",
       "      <td>0.0</td>\n",
       "      <td>...</td>\n",
       "      <td>0.0</td>\n",
       "      <td>0.0</td>\n",
       "      <td>0.0</td>\n",
       "      <td>0.0</td>\n",
       "      <td>0.0</td>\n",
       "      <td>0.0</td>\n",
       "      <td>0.0</td>\n",
       "      <td>0</td>\n",
       "      <td>1</td>\n",
       "      <td>0.5629</td>\n",
       "    </tr>\n",
       "  </tbody>\n",
       "</table>\n",
       "<p>9073 rows × 101 columns</p>\n",
       "</div>"
      ],
      "text/plain": [
       "      EngineHP  credit_history  Years_Experience  Miles_driven_annually  \\\n",
       "0        122.0           703.0               1.0                16670.0   \n",
       "1        133.0           797.0              10.0                11605.0   \n",
       "2        126.0           769.0              16.0                 6440.0   \n",
       "3         82.0           735.0              20.0                 6418.0   \n",
       "4        160.0           756.0              16.0                 9970.0   \n",
       "...        ...             ...               ...                    ...   \n",
       "9068     147.0           683.0              22.0                 8798.0   \n",
       "9069     147.0           681.0              15.0                 6937.0   \n",
       "9070     125.0           710.0              25.0                 6493.0   \n",
       "9071     116.0           709.0              21.0                 7129.0   \n",
       "9072     343.0           689.0               4.0                33721.0   \n",
       "\n",
       "      Gender_F  Gender_M  annual_claims_0  annual_claims_1  annual_claims_2  \\\n",
       "0          0.0       1.0              0.0              0.0              0.0   \n",
       "1          0.0       1.0              1.0              0.0              0.0   \n",
       "2          1.0       0.0              1.0              0.0              0.0   \n",
       "3          1.0       0.0              1.0              0.0              0.0   \n",
       "4          0.0       1.0              0.0              0.0              0.0   \n",
       "...        ...       ...              ...              ...              ...   \n",
       "9068       0.0       1.0              0.0              1.0              0.0   \n",
       "9069       1.0       0.0              1.0              0.0              0.0   \n",
       "9070       0.0       1.0              0.0              1.0              0.0   \n",
       "9071       0.0       1.0              1.0              0.0              0.0   \n",
       "9072       1.0       0.0              0.0              1.0              0.0   \n",
       "\n",
       "      annual_claims_3  ...  State_UT  State_VA  State_VT  State_WA  State_WI  \\\n",
       "0                 1.0  ...       0.0       0.0       0.0       0.0       0.0   \n",
       "1                 0.0  ...       0.0       0.0       1.0       0.0       0.0   \n",
       "2                 0.0  ...       0.0       0.0       0.0       0.0       0.0   \n",
       "3                 0.0  ...       0.0       0.0       0.0       0.0       0.0   \n",
       "4                 0.0  ...       0.0       0.0       0.0       0.0       0.0   \n",
       "...               ...  ...       ...       ...       ...       ...       ...   \n",
       "9068              0.0  ...       0.0       0.0       0.0       0.0       0.0   \n",
       "9069              0.0  ...       0.0       0.0       0.0       0.0       0.0   \n",
       "9070              0.0  ...       0.0       0.0       0.0       0.0       0.0   \n",
       "9071              0.0  ...       0.0       0.0       0.0       0.0       0.0   \n",
       "9072              0.0  ...       0.0       0.0       0.0       0.0       0.0   \n",
       "\n",
       "      State_WV  State_WY  target  Label   Score  \n",
       "0          0.0       0.0       0      1  0.7076  \n",
       "1          0.0       0.0       1      1  0.7301  \n",
       "2          0.0       0.0       1      1  0.7777  \n",
       "3          0.0       0.0       1      1  0.7983  \n",
       "4          0.0       0.0       1      1  0.7426  \n",
       "...        ...       ...     ...    ...     ...  \n",
       "9068       0.0       0.0       1      1  0.6273  \n",
       "9069       0.0       0.0       1      1  0.6961  \n",
       "9070       0.0       0.0       0      1  0.7803  \n",
       "9071       1.0       0.0       1      1  0.7050  \n",
       "9072       0.0       0.0       0      1  0.5629  \n",
       "\n",
       "[9073 rows x 101 columns]"
      ]
     },
     "execution_count": 57,
     "metadata": {},
     "output_type": "execute_result"
    }
   ],
   "source": [
    "predict_model(lightgbm, probability_threshold=0.44)"
   ]
  },
  {
   "cell_type": "code",
   "execution_count": 58,
   "metadata": {},
   "outputs": [
    {
     "data": {
      "text/html": [
       "<div>\n",
       "<style scoped>\n",
       "    .dataframe tbody tr th:only-of-type {\n",
       "        vertical-align: middle;\n",
       "    }\n",
       "\n",
       "    .dataframe tbody tr th {\n",
       "        vertical-align: top;\n",
       "    }\n",
       "\n",
       "    .dataframe thead th {\n",
       "        text-align: right;\n",
       "    }\n",
       "</style>\n",
       "<table border=\"1\" class=\"dataframe\">\n",
       "  <thead>\n",
       "    <tr style=\"text-align: right;\">\n",
       "      <th></th>\n",
       "      <th>Model</th>\n",
       "      <th>Accuracy</th>\n",
       "      <th>AUC</th>\n",
       "      <th>Recall</th>\n",
       "      <th>Prec.</th>\n",
       "      <th>F1</th>\n",
       "      <th>Kappa</th>\n",
       "      <th>MCC</th>\n",
       "    </tr>\n",
       "  </thead>\n",
       "  <tbody>\n",
       "    <tr>\n",
       "      <th>0</th>\n",
       "      <td>Light Gradient Boosting Machine</td>\n",
       "      <td>0.7076</td>\n",
       "      <td>0.5006</td>\n",
       "      <td>0.9977</td>\n",
       "      <td>0.7083</td>\n",
       "      <td>0.8284</td>\n",
       "      <td>0.0047</td>\n",
       "      <td>0.0263</td>\n",
       "    </tr>\n",
       "  </tbody>\n",
       "</table>\n",
       "</div>"
      ],
      "text/plain": [
       "                             Model  Accuracy     AUC  Recall   Prec.      F1  \\\n",
       "0  Light Gradient Boosting Machine    0.7076  0.5006  0.9977  0.7083  0.8284   \n",
       "\n",
       "    Kappa     MCC  \n",
       "0  0.0047  0.0263  "
      ]
     },
     "metadata": {},
     "output_type": "display_data"
    },
    {
     "data": {
      "text/html": [
       "<div>\n",
       "<style scoped>\n",
       "    .dataframe tbody tr th:only-of-type {\n",
       "        vertical-align: middle;\n",
       "    }\n",
       "\n",
       "    .dataframe tbody tr th {\n",
       "        vertical-align: top;\n",
       "    }\n",
       "\n",
       "    .dataframe thead th {\n",
       "        text-align: right;\n",
       "    }\n",
       "</style>\n",
       "<table border=\"1\" class=\"dataframe\">\n",
       "  <thead>\n",
       "    <tr style=\"text-align: right;\">\n",
       "      <th></th>\n",
       "      <th>EngineHP</th>\n",
       "      <th>credit_history</th>\n",
       "      <th>Years_Experience</th>\n",
       "      <th>Miles_driven_annually</th>\n",
       "      <th>Gender_F</th>\n",
       "      <th>Gender_M</th>\n",
       "      <th>annual_claims_0</th>\n",
       "      <th>annual_claims_1</th>\n",
       "      <th>annual_claims_2</th>\n",
       "      <th>annual_claims_3</th>\n",
       "      <th>...</th>\n",
       "      <th>State_UT</th>\n",
       "      <th>State_VA</th>\n",
       "      <th>State_VT</th>\n",
       "      <th>State_WA</th>\n",
       "      <th>State_WI</th>\n",
       "      <th>State_WV</th>\n",
       "      <th>State_WY</th>\n",
       "      <th>target</th>\n",
       "      <th>Label</th>\n",
       "      <th>Score</th>\n",
       "    </tr>\n",
       "  </thead>\n",
       "  <tbody>\n",
       "    <tr>\n",
       "      <th>0</th>\n",
       "      <td>122.0</td>\n",
       "      <td>703.0</td>\n",
       "      <td>1.0</td>\n",
       "      <td>16670.0</td>\n",
       "      <td>0.0</td>\n",
       "      <td>1.0</td>\n",
       "      <td>0.0</td>\n",
       "      <td>0.0</td>\n",
       "      <td>0.0</td>\n",
       "      <td>1.0</td>\n",
       "      <td>...</td>\n",
       "      <td>0.0</td>\n",
       "      <td>0.0</td>\n",
       "      <td>0.0</td>\n",
       "      <td>0.0</td>\n",
       "      <td>0.0</td>\n",
       "      <td>0.0</td>\n",
       "      <td>0.0</td>\n",
       "      <td>0</td>\n",
       "      <td>1</td>\n",
       "      <td>0.7076</td>\n",
       "    </tr>\n",
       "    <tr>\n",
       "      <th>1</th>\n",
       "      <td>133.0</td>\n",
       "      <td>797.0</td>\n",
       "      <td>10.0</td>\n",
       "      <td>11605.0</td>\n",
       "      <td>0.0</td>\n",
       "      <td>1.0</td>\n",
       "      <td>1.0</td>\n",
       "      <td>0.0</td>\n",
       "      <td>0.0</td>\n",
       "      <td>0.0</td>\n",
       "      <td>...</td>\n",
       "      <td>0.0</td>\n",
       "      <td>0.0</td>\n",
       "      <td>1.0</td>\n",
       "      <td>0.0</td>\n",
       "      <td>0.0</td>\n",
       "      <td>0.0</td>\n",
       "      <td>0.0</td>\n",
       "      <td>1</td>\n",
       "      <td>1</td>\n",
       "      <td>0.7301</td>\n",
       "    </tr>\n",
       "    <tr>\n",
       "      <th>2</th>\n",
       "      <td>126.0</td>\n",
       "      <td>769.0</td>\n",
       "      <td>16.0</td>\n",
       "      <td>6440.0</td>\n",
       "      <td>1.0</td>\n",
       "      <td>0.0</td>\n",
       "      <td>1.0</td>\n",
       "      <td>0.0</td>\n",
       "      <td>0.0</td>\n",
       "      <td>0.0</td>\n",
       "      <td>...</td>\n",
       "      <td>0.0</td>\n",
       "      <td>0.0</td>\n",
       "      <td>0.0</td>\n",
       "      <td>0.0</td>\n",
       "      <td>0.0</td>\n",
       "      <td>0.0</td>\n",
       "      <td>0.0</td>\n",
       "      <td>1</td>\n",
       "      <td>1</td>\n",
       "      <td>0.7777</td>\n",
       "    </tr>\n",
       "    <tr>\n",
       "      <th>3</th>\n",
       "      <td>82.0</td>\n",
       "      <td>735.0</td>\n",
       "      <td>20.0</td>\n",
       "      <td>6418.0</td>\n",
       "      <td>1.0</td>\n",
       "      <td>0.0</td>\n",
       "      <td>1.0</td>\n",
       "      <td>0.0</td>\n",
       "      <td>0.0</td>\n",
       "      <td>0.0</td>\n",
       "      <td>...</td>\n",
       "      <td>0.0</td>\n",
       "      <td>0.0</td>\n",
       "      <td>0.0</td>\n",
       "      <td>0.0</td>\n",
       "      <td>0.0</td>\n",
       "      <td>0.0</td>\n",
       "      <td>0.0</td>\n",
       "      <td>1</td>\n",
       "      <td>1</td>\n",
       "      <td>0.7983</td>\n",
       "    </tr>\n",
       "    <tr>\n",
       "      <th>4</th>\n",
       "      <td>160.0</td>\n",
       "      <td>756.0</td>\n",
       "      <td>16.0</td>\n",
       "      <td>9970.0</td>\n",
       "      <td>0.0</td>\n",
       "      <td>1.0</td>\n",
       "      <td>0.0</td>\n",
       "      <td>0.0</td>\n",
       "      <td>0.0</td>\n",
       "      <td>0.0</td>\n",
       "      <td>...</td>\n",
       "      <td>0.0</td>\n",
       "      <td>0.0</td>\n",
       "      <td>0.0</td>\n",
       "      <td>0.0</td>\n",
       "      <td>0.0</td>\n",
       "      <td>0.0</td>\n",
       "      <td>0.0</td>\n",
       "      <td>1</td>\n",
       "      <td>1</td>\n",
       "      <td>0.7426</td>\n",
       "    </tr>\n",
       "    <tr>\n",
       "      <th>...</th>\n",
       "      <td>...</td>\n",
       "      <td>...</td>\n",
       "      <td>...</td>\n",
       "      <td>...</td>\n",
       "      <td>...</td>\n",
       "      <td>...</td>\n",
       "      <td>...</td>\n",
       "      <td>...</td>\n",
       "      <td>...</td>\n",
       "      <td>...</td>\n",
       "      <td>...</td>\n",
       "      <td>...</td>\n",
       "      <td>...</td>\n",
       "      <td>...</td>\n",
       "      <td>...</td>\n",
       "      <td>...</td>\n",
       "      <td>...</td>\n",
       "      <td>...</td>\n",
       "      <td>...</td>\n",
       "      <td>...</td>\n",
       "      <td>...</td>\n",
       "    </tr>\n",
       "    <tr>\n",
       "      <th>9068</th>\n",
       "      <td>147.0</td>\n",
       "      <td>683.0</td>\n",
       "      <td>22.0</td>\n",
       "      <td>8798.0</td>\n",
       "      <td>0.0</td>\n",
       "      <td>1.0</td>\n",
       "      <td>0.0</td>\n",
       "      <td>1.0</td>\n",
       "      <td>0.0</td>\n",
       "      <td>0.0</td>\n",
       "      <td>...</td>\n",
       "      <td>0.0</td>\n",
       "      <td>0.0</td>\n",
       "      <td>0.0</td>\n",
       "      <td>0.0</td>\n",
       "      <td>0.0</td>\n",
       "      <td>0.0</td>\n",
       "      <td>0.0</td>\n",
       "      <td>1</td>\n",
       "      <td>1</td>\n",
       "      <td>0.6273</td>\n",
       "    </tr>\n",
       "    <tr>\n",
       "      <th>9069</th>\n",
       "      <td>147.0</td>\n",
       "      <td>681.0</td>\n",
       "      <td>15.0</td>\n",
       "      <td>6937.0</td>\n",
       "      <td>1.0</td>\n",
       "      <td>0.0</td>\n",
       "      <td>1.0</td>\n",
       "      <td>0.0</td>\n",
       "      <td>0.0</td>\n",
       "      <td>0.0</td>\n",
       "      <td>...</td>\n",
       "      <td>0.0</td>\n",
       "      <td>0.0</td>\n",
       "      <td>0.0</td>\n",
       "      <td>0.0</td>\n",
       "      <td>0.0</td>\n",
       "      <td>0.0</td>\n",
       "      <td>0.0</td>\n",
       "      <td>1</td>\n",
       "      <td>1</td>\n",
       "      <td>0.6961</td>\n",
       "    </tr>\n",
       "    <tr>\n",
       "      <th>9070</th>\n",
       "      <td>125.0</td>\n",
       "      <td>710.0</td>\n",
       "      <td>25.0</td>\n",
       "      <td>6493.0</td>\n",
       "      <td>0.0</td>\n",
       "      <td>1.0</td>\n",
       "      <td>0.0</td>\n",
       "      <td>1.0</td>\n",
       "      <td>0.0</td>\n",
       "      <td>0.0</td>\n",
       "      <td>...</td>\n",
       "      <td>0.0</td>\n",
       "      <td>0.0</td>\n",
       "      <td>0.0</td>\n",
       "      <td>0.0</td>\n",
       "      <td>0.0</td>\n",
       "      <td>0.0</td>\n",
       "      <td>0.0</td>\n",
       "      <td>0</td>\n",
       "      <td>1</td>\n",
       "      <td>0.7803</td>\n",
       "    </tr>\n",
       "    <tr>\n",
       "      <th>9071</th>\n",
       "      <td>116.0</td>\n",
       "      <td>709.0</td>\n",
       "      <td>21.0</td>\n",
       "      <td>7129.0</td>\n",
       "      <td>0.0</td>\n",
       "      <td>1.0</td>\n",
       "      <td>1.0</td>\n",
       "      <td>0.0</td>\n",
       "      <td>0.0</td>\n",
       "      <td>0.0</td>\n",
       "      <td>...</td>\n",
       "      <td>0.0</td>\n",
       "      <td>0.0</td>\n",
       "      <td>0.0</td>\n",
       "      <td>0.0</td>\n",
       "      <td>0.0</td>\n",
       "      <td>1.0</td>\n",
       "      <td>0.0</td>\n",
       "      <td>1</td>\n",
       "      <td>1</td>\n",
       "      <td>0.7050</td>\n",
       "    </tr>\n",
       "    <tr>\n",
       "      <th>9072</th>\n",
       "      <td>343.0</td>\n",
       "      <td>689.0</td>\n",
       "      <td>4.0</td>\n",
       "      <td>33721.0</td>\n",
       "      <td>1.0</td>\n",
       "      <td>0.0</td>\n",
       "      <td>0.0</td>\n",
       "      <td>1.0</td>\n",
       "      <td>0.0</td>\n",
       "      <td>0.0</td>\n",
       "      <td>...</td>\n",
       "      <td>0.0</td>\n",
       "      <td>0.0</td>\n",
       "      <td>0.0</td>\n",
       "      <td>0.0</td>\n",
       "      <td>0.0</td>\n",
       "      <td>0.0</td>\n",
       "      <td>0.0</td>\n",
       "      <td>0</td>\n",
       "      <td>1</td>\n",
       "      <td>0.5629</td>\n",
       "    </tr>\n",
       "  </tbody>\n",
       "</table>\n",
       "<p>9073 rows × 101 columns</p>\n",
       "</div>"
      ],
      "text/plain": [
       "      EngineHP  credit_history  Years_Experience  Miles_driven_annually  \\\n",
       "0        122.0           703.0               1.0                16670.0   \n",
       "1        133.0           797.0              10.0                11605.0   \n",
       "2        126.0           769.0              16.0                 6440.0   \n",
       "3         82.0           735.0              20.0                 6418.0   \n",
       "4        160.0           756.0              16.0                 9970.0   \n",
       "...        ...             ...               ...                    ...   \n",
       "9068     147.0           683.0              22.0                 8798.0   \n",
       "9069     147.0           681.0              15.0                 6937.0   \n",
       "9070     125.0           710.0              25.0                 6493.0   \n",
       "9071     116.0           709.0              21.0                 7129.0   \n",
       "9072     343.0           689.0               4.0                33721.0   \n",
       "\n",
       "      Gender_F  Gender_M  annual_claims_0  annual_claims_1  annual_claims_2  \\\n",
       "0          0.0       1.0              0.0              0.0              0.0   \n",
       "1          0.0       1.0              1.0              0.0              0.0   \n",
       "2          1.0       0.0              1.0              0.0              0.0   \n",
       "3          1.0       0.0              1.0              0.0              0.0   \n",
       "4          0.0       1.0              0.0              0.0              0.0   \n",
       "...        ...       ...              ...              ...              ...   \n",
       "9068       0.0       1.0              0.0              1.0              0.0   \n",
       "9069       1.0       0.0              1.0              0.0              0.0   \n",
       "9070       0.0       1.0              0.0              1.0              0.0   \n",
       "9071       0.0       1.0              1.0              0.0              0.0   \n",
       "9072       1.0       0.0              0.0              1.0              0.0   \n",
       "\n",
       "      annual_claims_3  ...  State_UT  State_VA  State_VT  State_WA  State_WI  \\\n",
       "0                 1.0  ...       0.0       0.0       0.0       0.0       0.0   \n",
       "1                 0.0  ...       0.0       0.0       1.0       0.0       0.0   \n",
       "2                 0.0  ...       0.0       0.0       0.0       0.0       0.0   \n",
       "3                 0.0  ...       0.0       0.0       0.0       0.0       0.0   \n",
       "4                 0.0  ...       0.0       0.0       0.0       0.0       0.0   \n",
       "...               ...  ...       ...       ...       ...       ...       ...   \n",
       "9068              0.0  ...       0.0       0.0       0.0       0.0       0.0   \n",
       "9069              0.0  ...       0.0       0.0       0.0       0.0       0.0   \n",
       "9070              0.0  ...       0.0       0.0       0.0       0.0       0.0   \n",
       "9071              0.0  ...       0.0       0.0       0.0       0.0       0.0   \n",
       "9072              0.0  ...       0.0       0.0       0.0       0.0       0.0   \n",
       "\n",
       "      State_WV  State_WY  target  Label   Score  \n",
       "0          0.0       0.0       0      1  0.7076  \n",
       "1          0.0       0.0       1      1  0.7301  \n",
       "2          0.0       0.0       1      1  0.7777  \n",
       "3          0.0       0.0       1      1  0.7983  \n",
       "4          0.0       0.0       1      1  0.7426  \n",
       "...        ...       ...     ...    ...     ...  \n",
       "9068       0.0       0.0       1      1  0.6273  \n",
       "9069       0.0       0.0       1      1  0.6961  \n",
       "9070       0.0       0.0       0      1  0.7803  \n",
       "9071       1.0       0.0       1      1  0.7050  \n",
       "9072       0.0       0.0       0      1  0.5629  \n",
       "\n",
       "[9073 rows x 101 columns]"
      ]
     },
     "execution_count": 58,
     "metadata": {},
     "output_type": "execute_result"
    }
   ],
   "source": [
    "predict_model(lightgbm, probability_threshold=0.5)"
   ]
  },
  {
   "cell_type": "markdown",
   "metadata": {},
   "source": [
    "### 4-2. Finalize model\n",
    "\n",
    "#### - 실험의 마지막 단계로 지정한 최종 모델에 대한 summary를 보여줌\n",
    "\n",
    "#### - 모델을 최종적으로 내보내기 앞서 이전 과정들(setup ~ tune)을 거친 완벽한 dataset으로 학습하기 위함\n",
    "    \n",
    "#### - finalize_model(model)"
   ]
  },
  {
   "cell_type": "code",
   "execution_count": null,
   "metadata": {},
   "outputs": [],
   "source": [
    "finalize_model(lightgbm)"
   ]
  },
  {
   "cell_type": "markdown",
   "metadata": {},
   "source": [
    "### 4-3. Save & Load model\n",
    "\n",
    "#### - 최종적으로 만들어진 모델을 저장하고 이후에 사용할 때 불러오는 과정\n",
    "\n",
    "#### - save_model(model, 'file_name')\n",
    "    - 최종적으로 만들어진 모델을 현재 지정된 directory에 pickle 형태로 저장\n",
    "    \n",
    "#### - load_model('file_name')\n",
    "    - 이전에 저장한 모델을 불러오는 것"
   ]
  },
  {
   "cell_type": "code",
   "execution_count": null,
   "metadata": {},
   "outputs": [],
   "source": [
    "save_model(lightgbm, 'lightgbm_model_0824')"
   ]
  },
  {
   "cell_type": "code",
   "execution_count": null,
   "metadata": {},
   "outputs": [],
   "source": [
    "load_model('lightgbm_model_0824')"
   ]
  },
  {
   "cell_type": "markdown",
   "metadata": {},
   "source": [
    "## 5. Pros & Cons\n",
    "\n",
    "<img src=\"https://miro.medium.com/max/4180/1*d7n1wOYUE3e-fE6NVqTryg.png\" width=\"50%\">"
   ]
  },
  {
   "cell_type": "markdown",
   "metadata": {},
   "source": [
    "### 5-1. Pros\n",
    "\n",
    "#### - 위의 그림과 같은 다양한 AutoML 라이브러리들과 비교해보았을 때\n",
    "\n",
    "#### - 속도가 빠르며 데이터 처리부터 모델 학습이 진행되는 과정 및 시간을 직관적으로 확인할 수 있음\n",
    "\n",
    "#### - Missing Value(결측치) 처리에 능함"
   ]
  },
  {
   "cell_type": "markdown",
   "metadata": {},
   "source": [
    "### 5-2. Cons\n",
    "\n",
    "#### - 특수 문자가 포함된 data가 있을 경우 특정 모델에서 작동되지 않아 미리 처리해줘야 됨\n",
    "\n",
    "#### - 빅데이터를 정교한 모델로 다루는 데 한계가 있다(AutoML 전반적인 한계)"
   ]
  },
  {
   "cell_type": "code",
   "execution_count": null,
   "metadata": {},
   "outputs": [],
   "source": []
  }
 ],
 "metadata": {
  "kernelspec": {
   "display_name": "Python 3",
   "language": "python",
   "name": "python3"
  },
  "language_info": {
   "codemirror_mode": {
    "name": "ipython",
    "version": 3
   },
   "file_extension": ".py",
   "mimetype": "text/x-python",
   "name": "python",
   "nbconvert_exporter": "python",
   "pygments_lexer": "ipython3",
   "version": "3.6.9"
  }
 },
 "nbformat": 4,
 "nbformat_minor": 2
}
