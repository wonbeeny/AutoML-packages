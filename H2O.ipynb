{
 "cells": [
  {
   "cell_type": "markdown",
   "metadata": {},
   "source": [
    "# 참고 링크\n",
    "- https://docs.h2o.ai/h2o/latest-stable/h2o-py/docs/h2o.html\n",
    "- https://inspaceai.github.io/2019/05/15/H2O-AutoML-Start/"
   ]
  },
  {
   "cell_type": "markdown",
   "metadata": {},
   "source": [
    "```python\n",
    "# in terminal\n",
    "pip install requests\n",
    "pip install tabulate\n",
    "pip install “colorama>=0.3.8”\n",
    "pip install future\n",
    "\n",
    "pip uninstall h2o\n",
    "pip install -f http://h2o-release.s3.amazonaws.com/h2o/latest_stable_Py.html h2o\n",
    "```"
   ]
  },
  {
   "cell_type": "code",
   "execution_count": 1,
   "metadata": {},
   "outputs": [],
   "source": [
    "import h2o"
   ]
  },
  {
   "cell_type": "code",
   "execution_count": 2,
   "metadata": {},
   "outputs": [
    {
     "name": "stdout",
     "output_type": "stream",
     "text": [
      "Checking whether there is an H2O instance running at http://localhost:54321 . connected.\n"
     ]
    },
    {
     "data": {
      "text/html": [
       "<div style=\"overflow:auto\"><table style=\"width:50%\"><tr><td>H2O_cluster_uptime:</td>\n",
       "<td>9 mins 35 secs</td></tr>\n",
       "<tr><td>H2O_cluster_timezone:</td>\n",
       "<td>Asia/Seoul</td></tr>\n",
       "<tr><td>H2O_data_parsing_timezone:</td>\n",
       "<td>UTC</td></tr>\n",
       "<tr><td>H2O_cluster_version:</td>\n",
       "<td>3.30.1.1</td></tr>\n",
       "<tr><td>H2O_cluster_version_age:</td>\n",
       "<td>23 days </td></tr>\n",
       "<tr><td>H2O_cluster_name:</td>\n",
       "<td>H2O_from_python_WonBeen_nuinj1</td></tr>\n",
       "<tr><td>H2O_cluster_total_nodes:</td>\n",
       "<td>1</td></tr>\n",
       "<tr><td>H2O_cluster_free_memory:</td>\n",
       "<td>3.115 Gb</td></tr>\n",
       "<tr><td>H2O_cluster_total_cores:</td>\n",
       "<td>12</td></tr>\n",
       "<tr><td>H2O_cluster_allowed_cores:</td>\n",
       "<td>12</td></tr>\n",
       "<tr><td>H2O_cluster_status:</td>\n",
       "<td>locked, healthy</td></tr>\n",
       "<tr><td>H2O_connection_url:</td>\n",
       "<td>http://localhost:54321</td></tr>\n",
       "<tr><td>H2O_connection_proxy:</td>\n",
       "<td>{\"http\": null, \"https\": null}</td></tr>\n",
       "<tr><td>H2O_internal_security:</td>\n",
       "<td>False</td></tr>\n",
       "<tr><td>H2O_API_Extensions:</td>\n",
       "<td>Amazon S3, Algos, AutoML, Core V3, TargetEncoder, Core V4</td></tr>\n",
       "<tr><td>Python_version:</td>\n",
       "<td>3.6.9 final</td></tr></table></div>"
      ],
      "text/plain": [
       "--------------------------  ---------------------------------------------------------\n",
       "H2O_cluster_uptime:         9 mins 35 secs\n",
       "H2O_cluster_timezone:       Asia/Seoul\n",
       "H2O_data_parsing_timezone:  UTC\n",
       "H2O_cluster_version:        3.30.1.1\n",
       "H2O_cluster_version_age:    23 days\n",
       "H2O_cluster_name:           H2O_from_python_WonBeen_nuinj1\n",
       "H2O_cluster_total_nodes:    1\n",
       "H2O_cluster_free_memory:    3.115 Gb\n",
       "H2O_cluster_total_cores:    12\n",
       "H2O_cluster_allowed_cores:  12\n",
       "H2O_cluster_status:         locked, healthy\n",
       "H2O_connection_url:         http://localhost:54321\n",
       "H2O_connection_proxy:       {\"http\": null, \"https\": null}\n",
       "H2O_internal_security:      False\n",
       "H2O_API_Extensions:         Amazon S3, Algos, AutoML, Core V3, TargetEncoder, Core V4\n",
       "Python_version:             3.6.9 final\n",
       "--------------------------  ---------------------------------------------------------"
      ]
     },
     "metadata": {},
     "output_type": "display_data"
    }
   ],
   "source": [
    "h2o.init()"
   ]
  },
  {
   "cell_type": "code",
   "execution_count": 9,
   "metadata": {},
   "outputs": [
    {
     "name": "stdout",
     "output_type": "stream",
     "text": [
      "Parse progress: |█████████████████████████████████████████████████████████| 100%\n"
     ]
    }
   ],
   "source": [
    "insurance_car = h2o.upload_file('../../Data/insurance_car.csv')"
   ]
  },
  {
   "cell_type": "code",
   "execution_count": 19,
   "metadata": {},
   "outputs": [
    {
     "data": {
      "text/html": [
       "<table>\n",
       "<thead>\n",
       "<tr><th style=\"text-align: right;\">  ID</th><th style=\"text-align: right;\">  target</th><th>Gender  </th><th style=\"text-align: right;\">  EngineHP</th><th style=\"text-align: right;\">  credit_history</th><th style=\"text-align: right;\">  Years_Experience</th><th style=\"text-align: right;\">  annual_claims</th><th>Marital_Status  </th><th>Vehical_type  </th><th style=\"text-align: right;\">  Miles_driven_annually</th><th style=\"text-align: right;\">  size_of_family</th><th>Age_bucket  </th><th>EngineHP_bucket  </th><th>Years_Experience_bucket  </th><th>Miles_driven_annually_bucket  </th><th>credit_history_bucket  </th><th>State  </th></tr>\n",
       "</thead>\n",
       "<tbody>\n",
       "<tr><td style=\"text-align: right;\">   1</td><td style=\"text-align: right;\">       1</td><td>F       </td><td style=\"text-align: right;\">       522</td><td style=\"text-align: right;\">             656</td><td style=\"text-align: right;\">                 1</td><td style=\"text-align: right;\">              0</td><td>Married         </td><td>Car           </td><td style=\"text-align: right;\">                  14749</td><td style=\"text-align: right;\">               5</td><td>&lt;18         </td><td>&gt;350             </td><td>&lt;3                       </td><td>&lt;15k                          </td><td>Fair                   </td><td>IL     </td></tr>\n",
       "<tr><td style=\"text-align: right;\">   2</td><td style=\"text-align: right;\">       1</td><td>F       </td><td style=\"text-align: right;\">       691</td><td style=\"text-align: right;\">             704</td><td style=\"text-align: right;\">                16</td><td style=\"text-align: right;\">              0</td><td>Married         </td><td>Car           </td><td style=\"text-align: right;\">                  15389</td><td style=\"text-align: right;\">               6</td><td>28-34       </td><td>&gt;350             </td><td>15-30                    </td><td>15k-25k                       </td><td>Good                   </td><td>NJ     </td></tr>\n",
       "<tr><td style=\"text-align: right;\">   3</td><td style=\"text-align: right;\">       1</td><td>M       </td><td style=\"text-align: right;\">       133</td><td style=\"text-align: right;\">             691</td><td style=\"text-align: right;\">                15</td><td style=\"text-align: right;\">              0</td><td>Married         </td><td>Van           </td><td style=\"text-align: right;\">                   9956</td><td style=\"text-align: right;\">               3</td><td>&gt;40         </td><td>90-160           </td><td>15-30                    </td><td>&lt;15k                          </td><td>Good                   </td><td>CT     </td></tr>\n",
       "<tr><td style=\"text-align: right;\">   4</td><td style=\"text-align: right;\">       1</td><td>M       </td><td style=\"text-align: right;\">       146</td><td style=\"text-align: right;\">             720</td><td style=\"text-align: right;\">                 9</td><td style=\"text-align: right;\">              0</td><td>Married         </td><td>Van           </td><td style=\"text-align: right;\">                  77323</td><td style=\"text-align: right;\">               3</td><td>18-27       </td><td>90-160           </td><td>9-14&#x27;                    </td><td>&gt;25k                          </td><td>Good                   </td><td>CT     </td></tr>\n",
       "<tr><td style=\"text-align: right;\">   5</td><td style=\"text-align: right;\">       1</td><td>M       </td><td style=\"text-align: right;\">       128</td><td style=\"text-align: right;\">             771</td><td style=\"text-align: right;\">                33</td><td style=\"text-align: right;\">              1</td><td>Married         </td><td>Van           </td><td style=\"text-align: right;\">                  14183</td><td style=\"text-align: right;\">               4</td><td>&gt;40         </td><td>90-160           </td><td>&gt;30                      </td><td>&lt;15k                          </td><td>Very Good              </td><td>WY     </td></tr>\n",
       "<tr><td style=\"text-align: right;\">   6</td><td style=\"text-align: right;\">       1</td><td>F       </td><td style=\"text-align: right;\">       144</td><td style=\"text-align: right;\">             722</td><td style=\"text-align: right;\">                18</td><td style=\"text-align: right;\">              1</td><td>Married         </td><td>Truck         </td><td style=\"text-align: right;\">                  12208</td><td style=\"text-align: right;\">               8</td><td>&gt;40         </td><td>90-160           </td><td>15-30                    </td><td>&lt;15k                          </td><td>Good                   </td><td>DE     </td></tr>\n",
       "<tr><td style=\"text-align: right;\">   7</td><td style=\"text-align: right;\">       1</td><td>F       </td><td style=\"text-align: right;\">       151</td><td style=\"text-align: right;\">             788</td><td style=\"text-align: right;\">                31</td><td style=\"text-align: right;\">              3</td><td>Married         </td><td>Truck         </td><td style=\"text-align: right;\">                  13957</td><td style=\"text-align: right;\">               2</td><td>&gt;40         </td><td>90-160           </td><td>&gt;30                      </td><td>&lt;15k                          </td><td>Very Good              </td><td>NJ     </td></tr>\n",
       "<tr><td style=\"text-align: right;\">   8</td><td style=\"text-align: right;\">       1</td><td>F       </td><td style=\"text-align: right;\">        88</td><td style=\"text-align: right;\">             747</td><td style=\"text-align: right;\">                21</td><td style=\"text-align: right;\">              1</td><td>Single          </td><td>Car           </td><td style=\"text-align: right;\">                  14200</td><td style=\"text-align: right;\">               5</td><td>&gt;40         </td><td>&lt;90              </td><td>15-30                    </td><td>&lt;15k                          </td><td>Very Good              </td><td>ME     </td></tr>\n",
       "<tr><td style=\"text-align: right;\">   9</td><td style=\"text-align: right;\">       1</td><td>F       </td><td style=\"text-align: right;\">       653</td><td style=\"text-align: right;\">             717</td><td style=\"text-align: right;\">                34</td><td style=\"text-align: right;\">              0</td><td>Married         </td><td>Car           </td><td style=\"text-align: right;\">                  17084</td><td style=\"text-align: right;\">               1</td><td>&gt;40         </td><td>&gt;350             </td><td>&gt;30                      </td><td>15k-25k                       </td><td>Good                   </td><td>CA     </td></tr>\n",
       "<tr><td style=\"text-align: right;\">  10</td><td style=\"text-align: right;\">       0</td><td>F       </td><td style=\"text-align: right;\">       120</td><td style=\"text-align: right;\">             785</td><td style=\"text-align: right;\">                19</td><td style=\"text-align: right;\">              1</td><td>Married         </td><td>Truck         </td><td style=\"text-align: right;\">                   6101</td><td style=\"text-align: right;\">               1</td><td>35-40       </td><td>90-160           </td><td>15-30                    </td><td>&lt;15k                          </td><td>Very Good              </td><td>NJ     </td></tr>\n",
       "</tbody>\n",
       "</table>"
      ]
     },
     "metadata": {},
     "output_type": "display_data"
    },
    {
     "data": {
      "text/plain": []
     },
     "execution_count": 19,
     "metadata": {},
     "output_type": "execute_result"
    }
   ],
   "source": [
    "insurance_car.head()"
   ]
  },
  {
   "cell_type": "code",
   "execution_count": 11,
   "metadata": {},
   "outputs": [
    {
     "data": {
      "text/plain": [
       "(30240, 17)"
      ]
     },
     "execution_count": 11,
     "metadata": {},
     "output_type": "execute_result"
    }
   ],
   "source": [
    "insurance_car.shape"
   ]
  },
  {
   "cell_type": "code",
   "execution_count": 16,
   "metadata": {},
   "outputs": [
    {
     "name": "stdout",
     "output_type": "stream",
     "text": [
      "[['0', '1']]\n"
     ]
    }
   ],
   "source": [
    "#factor 형태로 인코딩\n",
    "insurance_car['target'] = insurance_car['target'].asfactor()  \n",
    "print(insurance_car['target'].levels()) "
   ]
  },
  {
   "cell_type": "code",
   "execution_count": 12,
   "metadata": {},
   "outputs": [],
   "source": [
    "splits = insurance_car.split_frame(ratios=[0.7, 0.15], seed=1)"
   ]
  },
  {
   "cell_type": "code",
   "execution_count": 13,
   "metadata": {},
   "outputs": [],
   "source": [
    "train = splits[0]   # 학습 데이터 셋\n",
    "valid = splits[1]   # 검증 데이터 셋\n",
    "test = splits[2]    # 테스트 데이터 셋"
   ]
  },
  {
   "cell_type": "code",
   "execution_count": 14,
   "metadata": {},
   "outputs": [
    {
     "name": "stdout",
     "output_type": "stream",
     "text": [
      "21273\n",
      "4441\n",
      "4526\n"
     ]
    }
   ],
   "source": [
    "# 각 데이터 셋 행 출력\n",
    "print(train.nrow)   \n",
    "print(valid.nrow)\n",
    "print(test.nrow)"
   ]
  },
  {
   "cell_type": "code",
   "execution_count": 21,
   "metadata": {},
   "outputs": [],
   "source": [
    "y = 'target'  \n",
    "x = list(insurance_car.columns) "
   ]
  },
  {
   "cell_type": "code",
   "execution_count": 22,
   "metadata": {},
   "outputs": [],
   "source": [
    "x.remove(y)  # 'bad_loan'열 제거\n",
    "x.remove('ID')  # 필요없는 열 제거"
   ]
  },
  {
   "cell_type": "code",
   "execution_count": 23,
   "metadata": {},
   "outputs": [
    {
     "name": "stdout",
     "output_type": "stream",
     "text": [
      "['Gender', 'EngineHP', 'credit_history', 'Years_Experience', 'annual_claims', 'Marital_Status', 'Vehical_type', 'Miles_driven_annually', 'size_of_family', 'Age_bucket', 'EngineHP_bucket', 'Years_Experience_bucket', 'Miles_driven_annually_bucket', 'credit_history_bucket', 'State']\n"
     ]
    }
   ],
   "source": [
    "print(x)"
   ]
  },
  {
   "cell_type": "markdown",
   "metadata": {},
   "source": [
    "# AutoML 빌드하기"
   ]
  },
  {
   "cell_type": "code",
   "execution_count": 24,
   "metadata": {},
   "outputs": [],
   "source": [
    "from h2o.automl import H2OAutoML"
   ]
  },
  {
   "cell_type": "code",
   "execution_count": 25,
   "metadata": {},
   "outputs": [],
   "source": [
    "# H2O AutoML 인터페이스\n",
    "# [max_runtime_secs] AutoML 빌드될 최대 시간 지정\n",
    "# [max_models] AutoML이 빌드할 최대 모델 개수 지정\n",
    "aml = H2OAutoML(max_models=10, max_runtime_secs=1000, seed=1)"
   ]
  },
  {
   "cell_type": "code",
   "execution_count": 26,
   "metadata": {},
   "outputs": [
    {
     "name": "stdout",
     "output_type": "stream",
     "text": [
      "AutoML progress: |█\n",
      "23:03:32.2: User specified a validation frame with cross-validation still enabled. Please note that the models will still be validated using cross-validation only, the validation frame will be used to provide purely informative validation metrics on the trained models.\n",
      "23:03:32.30: AutoML: XGBoost is not available; skipping it.\n",
      "\n",
      "███████████████████████████████████████████████████████| 100%\n",
      "Failed polling AutoML progress log: [WinError 32] 다른 프로세스가 파일을 사용 중이기 때문에 프로세스가 액세스 할 수 없습니다: 'C:\\\\Users\\\\WonBeen\\\\AppData\\\\Local\\\\Temp\\\\tmpm4zj5jqu.csv'\n"
     ]
    }
   ],
   "source": [
    "# [x] predict column\n",
    "# [y] response column\n",
    "# [training_frame]  학습 데이터 셋\n",
    "# [validation_frame] 검증 데이터 셋\n",
    "aml.train(x=x, y=y, training_frame=train, validation_frame=valid) "
   ]
  },
  {
   "cell_type": "code",
   "execution_count": 27,
   "metadata": {
    "scrolled": false
   },
   "outputs": [
    {
     "data": {
      "text/html": [
       "<table>\n",
       "<thead>\n",
       "<tr><th>model_id                                           </th><th style=\"text-align: right;\">  mean_residual_deviance</th><th style=\"text-align: right;\">    rmse</th><th style=\"text-align: right;\">     mse</th><th style=\"text-align: right;\">     mae</th><th style=\"text-align: right;\">   rmsle</th></tr>\n",
       "</thead>\n",
       "<tbody>\n",
       "<tr><td>GLM_1_AutoML_20200902_230331                       </td><td style=\"text-align: right;\">                0.206869</td><td style=\"text-align: right;\">0.454828</td><td style=\"text-align: right;\">0.206869</td><td style=\"text-align: right;\">0.413712</td><td style=\"text-align: right;\">0.318401</td></tr>\n",
       "<tr><td>StackedEnsemble_BestOfFamily_AutoML_20200902_230331</td><td style=\"text-align: right;\">                0.206874</td><td style=\"text-align: right;\">0.454834</td><td style=\"text-align: right;\">0.206874</td><td style=\"text-align: right;\">0.413708</td><td style=\"text-align: right;\">0.318403</td></tr>\n",
       "<tr><td>StackedEnsemble_AllModels_AutoML_20200902_230331   </td><td style=\"text-align: right;\">                0.206878</td><td style=\"text-align: right;\">0.454838</td><td style=\"text-align: right;\">0.206878</td><td style=\"text-align: right;\">0.413705</td><td style=\"text-align: right;\">0.318406</td></tr>\n",
       "<tr><td>GBM_grid__1_AutoML_20200902_230331_model_1         </td><td style=\"text-align: right;\">                0.207602</td><td style=\"text-align: right;\">0.455634</td><td style=\"text-align: right;\">0.207602</td><td style=\"text-align: right;\">0.413192</td><td style=\"text-align: right;\">0.318721</td></tr>\n",
       "<tr><td>DeepLearning_1_AutoML_20200902_230331              </td><td style=\"text-align: right;\">                0.208321</td><td style=\"text-align: right;\">0.456422</td><td style=\"text-align: right;\">0.208321</td><td style=\"text-align: right;\">0.41746 </td><td style=\"text-align: right;\">0.318385</td></tr>\n",
       "<tr><td>GBM_1_AutoML_20200902_230331                       </td><td style=\"text-align: right;\">                0.208695</td><td style=\"text-align: right;\">0.456832</td><td style=\"text-align: right;\">0.208695</td><td style=\"text-align: right;\">0.413134</td><td style=\"text-align: right;\">0.319277</td></tr>\n",
       "<tr><td>GBM_2_AutoML_20200902_230331                       </td><td style=\"text-align: right;\">                0.209582</td><td style=\"text-align: right;\">0.457802</td><td style=\"text-align: right;\">0.209582</td><td style=\"text-align: right;\">0.413287</td><td style=\"text-align: right;\">0.319786</td></tr>\n",
       "<tr><td>GBM_5_AutoML_20200902_230331                       </td><td style=\"text-align: right;\">                0.210084</td><td style=\"text-align: right;\">0.458349</td><td style=\"text-align: right;\">0.210084</td><td style=\"text-align: right;\">0.413102</td><td style=\"text-align: right;\">0.320099</td></tr>\n",
       "<tr><td>GBM_3_AutoML_20200902_230331                       </td><td style=\"text-align: right;\">                0.210728</td><td style=\"text-align: right;\">0.459051</td><td style=\"text-align: right;\">0.210728</td><td style=\"text-align: right;\">0.413374</td><td style=\"text-align: right;\">0.320455</td></tr>\n",
       "<tr><td>XRT_1_AutoML_20200902_230331                       </td><td style=\"text-align: right;\">                0.21196 </td><td style=\"text-align: right;\">0.460391</td><td style=\"text-align: right;\">0.21196 </td><td style=\"text-align: right;\">0.41813 </td><td style=\"text-align: right;\">0.320088</td></tr>\n",
       "<tr><td>GBM_4_AutoML_20200902_230331                       </td><td style=\"text-align: right;\">                0.213467</td><td style=\"text-align: right;\">0.462025</td><td style=\"text-align: right;\">0.213467</td><td style=\"text-align: right;\">0.41349 </td><td style=\"text-align: right;\">0.321813</td></tr>\n",
       "<tr><td>DRF_1_AutoML_20200902_230331                       </td><td style=\"text-align: right;\">                0.216458</td><td style=\"text-align: right;\">0.465251</td><td style=\"text-align: right;\">0.216458</td><td style=\"text-align: right;\">0.418752</td><td style=\"text-align: right;\">0.322536</td></tr>\n",
       "</tbody>\n",
       "</table>"
      ]
     },
     "metadata": {},
     "output_type": "display_data"
    },
    {
     "name": "stdout",
     "output_type": "stream",
     "text": [
      "\n"
     ]
    }
   ],
   "source": [
    "# 빌드된 AutoML 모델 보여주기\n",
    "lb = aml.leaderboard\n",
    "print(lb.head(rows=lb.nrows))"
   ]
  },
  {
   "cell_type": "code",
   "execution_count": 28,
   "metadata": {},
   "outputs": [
    {
     "data": {
      "text/plain": [
       "'C:\\\\Users\\\\WonBeen\\\\Desktop\\\\python 교육자료_이원빈\\\\실습\\\\AutoML\\\\GLM_1_AutoML_20200902_230331.zip'"
      ]
     },
     "execution_count": 28,
     "metadata": {},
     "output_type": "execute_result"
    }
   ],
   "source": [
    "# 빌드된 AutoML 모델 MOJO 포맷으로 저장\n",
    "aml.leader.download_mojo(path=\"./\")"
   ]
  },
  {
   "cell_type": "code",
   "execution_count": 29,
   "metadata": {},
   "outputs": [],
   "source": [
    "# 빌드된 AutoML 모델 binary 파일로 저장\n",
    "model_path = h2o.save_model(aml.leader, path=\"./insurance_car_model_bin\")"
   ]
  },
  {
   "cell_type": "code",
   "execution_count": 33,
   "metadata": {},
   "outputs": [
    {
     "name": "stdout",
     "output_type": "stream",
     "text": [
      "Rows:30240\n",
      "Cols:17\n",
      "\n",
      "\n"
     ]
    },
    {
     "data": {
      "text/html": [
       "<table>\n",
       "<thead>\n",
       "<tr><th>       </th><th>ID              </th><th>target  </th><th>Gender  </th><th>EngineHP          </th><th>credit_history    </th><th>Years_Experience  </th><th>annual_claims     </th><th>Marital_Status  </th><th>Vehical_type  </th><th>Miles_driven_annually  </th><th>size_of_family    </th><th>Age_bucket  </th><th>EngineHP_bucket  </th><th>Years_Experience_bucket  </th><th>Miles_driven_annually_bucket  </th><th>credit_history_bucket  </th><th>State  </th></tr>\n",
       "</thead>\n",
       "<tbody>\n",
       "<tr><td>type   </td><td>int             </td><td>enum    </td><td>enum    </td><td>int               </td><td>int               </td><td>int               </td><td>int               </td><td>enum            </td><td>enum          </td><td>int                    </td><td>int               </td><td>enum        </td><td>enum             </td><td>enum                     </td><td>enum                          </td><td>enum                   </td><td>enum   </td></tr>\n",
       "<tr><td>mins   </td><td>1.0             </td><td>        </td><td>        </td><td>80.0              </td><td>300.0             </td><td>1.0               </td><td>0.0               </td><td>                </td><td>              </td><td>5000.0                 </td><td>1.0               </td><td>            </td><td>                 </td><td>                         </td><td>                              </td><td>                       </td><td>       </td></tr>\n",
       "<tr><td>mean   </td><td>15120.5         </td><td>        </td><td>        </td><td>196.60426587301484</td><td>685.769775132281  </td><td>13.255720899470797</td><td>1.1384589947089958</td><td>                </td><td>              </td><td>17422.938938872718     </td><td>4.5212962962963354</td><td>            </td><td>                 </td><td>                         </td><td>                              </td><td>                       </td><td>       </td></tr>\n",
       "<tr><td>maxs   </td><td>30240.0         </td><td>        </td><td>        </td><td>1005.0            </td><td>850.0             </td><td>40.0              </td><td>4.0               </td><td>                </td><td>              </td><td>99943.0                </td><td>8.0               </td><td>            </td><td>                 </td><td>                         </td><td>                              </td><td>                       </td><td>       </td></tr>\n",
       "<tr><td>sigma  </td><td>8729.68040652119</td><td>        </td><td>        </td><td>132.34696050638905</td><td>102.45430747908206</td><td>9.890246463450078 </td><td>1.0829126913674494</td><td>                </td><td>              </td><td>17483.782840434476     </td><td>2.2865311390392495</td><td>            </td><td>                 </td><td>                         </td><td>                              </td><td>                       </td><td>       </td></tr>\n",
       "<tr><td>zeros  </td><td>0               </td><td>        </td><td>        </td><td>0                 </td><td>0                 </td><td>0                 </td><td>10334             </td><td>                </td><td>              </td><td>0                      </td><td>0                 </td><td>            </td><td>                 </td><td>                         </td><td>                              </td><td>                       </td><td>       </td></tr>\n",
       "<tr><td>missing</td><td>0               </td><td>0       </td><td>0       </td><td>0                 </td><td>0                 </td><td>0                 </td><td>0                 </td><td>0               </td><td>0             </td><td>8                      </td><td>0                 </td><td>0           </td><td>0                </td><td>0                        </td><td>0                             </td><td>0                      </td><td>0      </td></tr>\n",
       "<tr><td>0      </td><td>1.0             </td><td>1       </td><td>F       </td><td>522.0             </td><td>656.0             </td><td>1.0               </td><td>0.0               </td><td>Married         </td><td>Car           </td><td>14749.0                </td><td>5.0               </td><td>&lt;18         </td><td>&gt;350             </td><td>&lt;3                       </td><td>&lt;15k                          </td><td>Fair                   </td><td>IL     </td></tr>\n",
       "<tr><td>1      </td><td>2.0             </td><td>1       </td><td>F       </td><td>691.0             </td><td>704.0             </td><td>16.0              </td><td>0.0               </td><td>Married         </td><td>Car           </td><td>15389.0                </td><td>6.0               </td><td>28-34       </td><td>&gt;350             </td><td>15-30                    </td><td>15k-25k                       </td><td>Good                   </td><td>NJ     </td></tr>\n",
       "<tr><td>2      </td><td>3.0             </td><td>1       </td><td>M       </td><td>133.0             </td><td>691.0             </td><td>15.0              </td><td>0.0               </td><td>Married         </td><td>Van           </td><td>9956.0                 </td><td>3.0               </td><td>&gt;40         </td><td>90-160           </td><td>15-30                    </td><td>&lt;15k                          </td><td>Good                   </td><td>CT     </td></tr>\n",
       "<tr><td>3      </td><td>4.0             </td><td>1       </td><td>M       </td><td>146.0             </td><td>720.0             </td><td>9.0               </td><td>0.0               </td><td>Married         </td><td>Van           </td><td>77323.0                </td><td>3.0               </td><td>18-27       </td><td>90-160           </td><td>9-14&#x27;                    </td><td>&gt;25k                          </td><td>Good                   </td><td>CT     </td></tr>\n",
       "<tr><td>4      </td><td>5.0             </td><td>1       </td><td>M       </td><td>128.0             </td><td>771.0             </td><td>33.0              </td><td>1.0               </td><td>Married         </td><td>Van           </td><td>14183.0                </td><td>4.0               </td><td>&gt;40         </td><td>90-160           </td><td>&gt;30                      </td><td>&lt;15k                          </td><td>Very Good              </td><td>WY     </td></tr>\n",
       "<tr><td>5      </td><td>6.0             </td><td>1       </td><td>F       </td><td>144.0             </td><td>722.0             </td><td>18.0              </td><td>1.0               </td><td>Married         </td><td>Truck         </td><td>12208.0                </td><td>8.0               </td><td>&gt;40         </td><td>90-160           </td><td>15-30                    </td><td>&lt;15k                          </td><td>Good                   </td><td>DE     </td></tr>\n",
       "<tr><td>6      </td><td>7.0             </td><td>1       </td><td>F       </td><td>151.0             </td><td>788.0             </td><td>31.0              </td><td>3.0               </td><td>Married         </td><td>Truck         </td><td>13957.0                </td><td>2.0               </td><td>&gt;40         </td><td>90-160           </td><td>&gt;30                      </td><td>&lt;15k                          </td><td>Very Good              </td><td>NJ     </td></tr>\n",
       "<tr><td>7      </td><td>8.0             </td><td>1       </td><td>F       </td><td>88.0              </td><td>747.0             </td><td>21.0              </td><td>1.0               </td><td>Single          </td><td>Car           </td><td>14200.0                </td><td>5.0               </td><td>&gt;40         </td><td>&lt;90              </td><td>15-30                    </td><td>&lt;15k                          </td><td>Very Good              </td><td>ME     </td></tr>\n",
       "<tr><td>8      </td><td>9.0             </td><td>1       </td><td>F       </td><td>653.0             </td><td>717.0             </td><td>34.0              </td><td>0.0               </td><td>Married         </td><td>Car           </td><td>17084.0                </td><td>1.0               </td><td>&gt;40         </td><td>&gt;350             </td><td>&gt;30                      </td><td>15k-25k                       </td><td>Good                   </td><td>CA     </td></tr>\n",
       "<tr><td>9      </td><td>10.0            </td><td>0       </td><td>F       </td><td>120.0             </td><td>785.0             </td><td>19.0              </td><td>1.0               </td><td>Married         </td><td>Truck         </td><td>6101.0                 </td><td>1.0               </td><td>35-40       </td><td>90-160           </td><td>15-30                    </td><td>&lt;15k                          </td><td>Very Good              </td><td>NJ     </td></tr>\n",
       "</tbody>\n",
       "</table>"
      ]
     },
     "metadata": {},
     "output_type": "display_data"
    }
   ],
   "source": [
    "insurance_car.describe()"
   ]
  },
  {
   "cell_type": "markdown",
   "metadata": {},
   "source": [
    "<br>\n",
    "\n",
    "- - -"
   ]
  },
  {
   "cell_type": "markdown",
   "metadata": {},
   "source": [
    "# 예측 모델 만들기"
   ]
  },
  {
   "cell_type": "markdown",
   "metadata": {},
   "source": [
    "## 데이터 나누기"
   ]
  },
  {
   "cell_type": "code",
   "execution_count": 34,
   "metadata": {},
   "outputs": [],
   "source": [
    "from h2o.estimators.gbm import H2OGradientBoostingEstimator"
   ]
  },
  {
   "cell_type": "code",
   "execution_count": 35,
   "metadata": {},
   "outputs": [
    {
     "name": "stdout",
     "output_type": "stream",
     "text": [
      "학습, 검증, 테스트 데이터셋의 수 :  18197 6083 5960\n"
     ]
    }
   ],
   "source": [
    "train_df, valid_df, test_df = insurance_car.split_frame(ratios=[0.6,0.2], seed=2020)\n",
    "target = \"target\"\n",
    "train_df[target] = train_df[target].asfactor()\n",
    "valid_df[target] = valid_df[target].asfactor()\n",
    "test_df[target] = test_df[target].asfactor()\n",
    "print(\"학습, 검증, 테스트 데이터셋의 수 : \", train_df.shape[0], valid_df.shape[0], test_df.shape[0])"
   ]
  },
  {
   "cell_type": "markdown",
   "metadata": {},
   "source": [
    "## GBM(Gradient Boosting Algorithm) 모델로 학습하기"
   ]
  },
  {
   "cell_type": "code",
   "execution_count": 37,
   "metadata": {},
   "outputs": [],
   "source": [
    "features = [f for f in insurance_car.columns if f not in ['ID', 'State']]"
   ]
  },
  {
   "cell_type": "code",
   "execution_count": 38,
   "metadata": {},
   "outputs": [
    {
     "name": "stdout",
     "output_type": "stream",
     "text": [
      "gbm Model Build progress: |███████████████████████████████████████████████| 100%\n"
     ]
    }
   ],
   "source": [
    "predictors = features\n",
    "gbm = H2OGradientBoostingEstimator()\n",
    "gbm.train(x=predictors, y=target, training_frame=train_df)"
   ]
  },
  {
   "cell_type": "markdown",
   "metadata": {},
   "source": [
    "## 모델 평가하기"
   ]
  },
  {
   "cell_type": "code",
   "execution_count": 39,
   "metadata": {},
   "outputs": [
    {
     "name": "stdout",
     "output_type": "stream",
     "text": [
      "\n",
      "Model Summary: \n"
     ]
    },
    {
     "data": {
      "text/html": [
       "<div>\n",
       "<style scoped>\n",
       "    .dataframe tbody tr th:only-of-type {\n",
       "        vertical-align: middle;\n",
       "    }\n",
       "\n",
       "    .dataframe tbody tr th {\n",
       "        vertical-align: top;\n",
       "    }\n",
       "\n",
       "    .dataframe thead th {\n",
       "        text-align: right;\n",
       "    }\n",
       "</style>\n",
       "<table border=\"1\" class=\"dataframe\">\n",
       "  <thead>\n",
       "    <tr style=\"text-align: right;\">\n",
       "      <th></th>\n",
       "      <th></th>\n",
       "      <th>number_of_trees</th>\n",
       "      <th>number_of_internal_trees</th>\n",
       "      <th>model_size_in_bytes</th>\n",
       "      <th>min_depth</th>\n",
       "      <th>max_depth</th>\n",
       "      <th>mean_depth</th>\n",
       "      <th>min_leaves</th>\n",
       "      <th>max_leaves</th>\n",
       "      <th>mean_leaves</th>\n",
       "    </tr>\n",
       "  </thead>\n",
       "  <tbody>\n",
       "    <tr>\n",
       "      <th>0</th>\n",
       "      <td></td>\n",
       "      <td>50.0</td>\n",
       "      <td>50.0</td>\n",
       "      <td>16662.0</td>\n",
       "      <td>5.0</td>\n",
       "      <td>5.0</td>\n",
       "      <td>5.0</td>\n",
       "      <td>9.0</td>\n",
       "      <td>32.0</td>\n",
       "      <td>21.86</td>\n",
       "    </tr>\n",
       "  </tbody>\n",
       "</table>\n",
       "</div>"
      ],
      "text/plain": [
       "     number_of_trees  number_of_internal_trees  model_size_in_bytes  \\\n",
       "0               50.0                      50.0              16662.0   \n",
       "\n",
       "   min_depth  max_depth  mean_depth  min_leaves  max_leaves  mean_leaves  \n",
       "0        5.0        5.0         5.0         9.0        32.0        21.86  "
      ]
     },
     "metadata": {},
     "output_type": "display_data"
    },
    {
     "data": {
      "text/plain": []
     },
     "execution_count": 39,
     "metadata": {},
     "output_type": "execute_result"
    }
   ],
   "source": [
    "gbm.summary()"
   ]
  },
  {
   "cell_type": "markdown",
   "metadata": {},
   "source": [
    "- 검증 데이터셋에 대한 모델의 성능 확인"
   ]
  },
  {
   "cell_type": "code",
   "execution_count": 40,
   "metadata": {},
   "outputs": [
    {
     "name": "stdout",
     "output_type": "stream",
     "text": [
      "\n",
      "ModelMetricsBinomial: gbm\n",
      "** Reported on test data. **\n",
      "\n",
      "MSE: 0.20489847329954294\n",
      "RMSE: 0.4526571255371365\n",
      "LogLoss: 0.6001881115400619\n",
      "Mean Per-Class Error: 0.48826237054085153\n",
      "AUC: 0.506338251048452\n",
      "AUCPR: 0.7184669403726469\n",
      "Gini: 0.012676502096903963\n",
      "\n",
      "Confusion Matrix (Act/Pred) for max f1 @ threshold = 0.29114538697657627: \n"
     ]
    },
    {
     "data": {
      "text/html": [
       "<div>\n",
       "<style scoped>\n",
       "    .dataframe tbody tr th:only-of-type {\n",
       "        vertical-align: middle;\n",
       "    }\n",
       "\n",
       "    .dataframe tbody tr th {\n",
       "        vertical-align: top;\n",
       "    }\n",
       "\n",
       "    .dataframe thead th {\n",
       "        text-align: right;\n",
       "    }\n",
       "</style>\n",
       "<table border=\"1\" class=\"dataframe\">\n",
       "  <thead>\n",
       "    <tr style=\"text-align: right;\">\n",
       "      <th></th>\n",
       "      <th></th>\n",
       "      <th>0</th>\n",
       "      <th>1</th>\n",
       "      <th>Error</th>\n",
       "      <th>Rate</th>\n",
       "    </tr>\n",
       "  </thead>\n",
       "  <tbody>\n",
       "    <tr>\n",
       "      <th>0</th>\n",
       "      <td>0</td>\n",
       "      <td>1.0</td>\n",
       "      <td>1737.0</td>\n",
       "      <td>0.9994</td>\n",
       "      <td>(1737.0/1738.0)</td>\n",
       "    </tr>\n",
       "    <tr>\n",
       "      <th>1</th>\n",
       "      <td>1</td>\n",
       "      <td>0.0</td>\n",
       "      <td>4345.0</td>\n",
       "      <td>0.0</td>\n",
       "      <td>(0.0/4345.0)</td>\n",
       "    </tr>\n",
       "    <tr>\n",
       "      <th>2</th>\n",
       "      <td>Total</td>\n",
       "      <td>1.0</td>\n",
       "      <td>6082.0</td>\n",
       "      <td>0.2855</td>\n",
       "      <td>(1737.0/6083.0)</td>\n",
       "    </tr>\n",
       "  </tbody>\n",
       "</table>\n",
       "</div>"
      ],
      "text/plain": [
       "            0       1   Error              Rate\n",
       "0      0  1.0  1737.0  0.9994   (1737.0/1738.0)\n",
       "1      1  0.0  4345.0     0.0      (0.0/4345.0)\n",
       "2  Total  1.0  6082.0  0.2855   (1737.0/6083.0)"
      ]
     },
     "metadata": {},
     "output_type": "display_data"
    },
    {
     "name": "stdout",
     "output_type": "stream",
     "text": [
      "\n",
      "Maximum Metrics: Maximum metrics at their respective thresholds\n"
     ]
    },
    {
     "data": {
      "text/html": [
       "<div>\n",
       "<style scoped>\n",
       "    .dataframe tbody tr th:only-of-type {\n",
       "        vertical-align: middle;\n",
       "    }\n",
       "\n",
       "    .dataframe tbody tr th {\n",
       "        vertical-align: top;\n",
       "    }\n",
       "\n",
       "    .dataframe thead th {\n",
       "        text-align: right;\n",
       "    }\n",
       "</style>\n",
       "<table border=\"1\" class=\"dataframe\">\n",
       "  <thead>\n",
       "    <tr style=\"text-align: right;\">\n",
       "      <th></th>\n",
       "      <th>metric</th>\n",
       "      <th>threshold</th>\n",
       "      <th>value</th>\n",
       "      <th>idx</th>\n",
       "    </tr>\n",
       "  </thead>\n",
       "  <tbody>\n",
       "    <tr>\n",
       "      <th>0</th>\n",
       "      <td>max f1</td>\n",
       "      <td>0.291145</td>\n",
       "      <td>0.833413</td>\n",
       "      <td>398.0</td>\n",
       "    </tr>\n",
       "    <tr>\n",
       "      <th>1</th>\n",
       "      <td>max f2</td>\n",
       "      <td>0.291145</td>\n",
       "      <td>0.925965</td>\n",
       "      <td>398.0</td>\n",
       "    </tr>\n",
       "    <tr>\n",
       "      <th>2</th>\n",
       "      <td>max f0point5</td>\n",
       "      <td>0.551166</td>\n",
       "      <td>0.757820</td>\n",
       "      <td>371.0</td>\n",
       "    </tr>\n",
       "    <tr>\n",
       "      <th>3</th>\n",
       "      <td>max accuracy</td>\n",
       "      <td>0.291145</td>\n",
       "      <td>0.714450</td>\n",
       "      <td>398.0</td>\n",
       "    </tr>\n",
       "    <tr>\n",
       "      <th>4</th>\n",
       "      <td>max precision</td>\n",
       "      <td>0.854040</td>\n",
       "      <td>1.000000</td>\n",
       "      <td>0.0</td>\n",
       "    </tr>\n",
       "    <tr>\n",
       "      <th>5</th>\n",
       "      <td>max recall</td>\n",
       "      <td>0.291145</td>\n",
       "      <td>1.000000</td>\n",
       "      <td>398.0</td>\n",
       "    </tr>\n",
       "    <tr>\n",
       "      <th>6</th>\n",
       "      <td>max specificity</td>\n",
       "      <td>0.854040</td>\n",
       "      <td>1.000000</td>\n",
       "      <td>0.0</td>\n",
       "    </tr>\n",
       "    <tr>\n",
       "      <th>7</th>\n",
       "      <td>max absolute_mcc</td>\n",
       "      <td>0.572919</td>\n",
       "      <td>0.027061</td>\n",
       "      <td>362.0</td>\n",
       "    </tr>\n",
       "    <tr>\n",
       "      <th>8</th>\n",
       "      <td>max min_per_class_accuracy</td>\n",
       "      <td>0.708194</td>\n",
       "      <td>0.501151</td>\n",
       "      <td>181.0</td>\n",
       "    </tr>\n",
       "    <tr>\n",
       "      <th>9</th>\n",
       "      <td>max mean_per_class_accuracy</td>\n",
       "      <td>0.696938</td>\n",
       "      <td>0.511738</td>\n",
       "      <td>219.0</td>\n",
       "    </tr>\n",
       "    <tr>\n",
       "      <th>10</th>\n",
       "      <td>max tns</td>\n",
       "      <td>0.854040</td>\n",
       "      <td>1738.000000</td>\n",
       "      <td>0.0</td>\n",
       "    </tr>\n",
       "    <tr>\n",
       "      <th>11</th>\n",
       "      <td>max fns</td>\n",
       "      <td>0.854040</td>\n",
       "      <td>4344.000000</td>\n",
       "      <td>0.0</td>\n",
       "    </tr>\n",
       "    <tr>\n",
       "      <th>12</th>\n",
       "      <td>max fps</td>\n",
       "      <td>0.275911</td>\n",
       "      <td>1738.000000</td>\n",
       "      <td>399.0</td>\n",
       "    </tr>\n",
       "    <tr>\n",
       "      <th>13</th>\n",
       "      <td>max tps</td>\n",
       "      <td>0.291145</td>\n",
       "      <td>4345.000000</td>\n",
       "      <td>398.0</td>\n",
       "    </tr>\n",
       "    <tr>\n",
       "      <th>14</th>\n",
       "      <td>max tnr</td>\n",
       "      <td>0.854040</td>\n",
       "      <td>1.000000</td>\n",
       "      <td>0.0</td>\n",
       "    </tr>\n",
       "    <tr>\n",
       "      <th>15</th>\n",
       "      <td>max fnr</td>\n",
       "      <td>0.854040</td>\n",
       "      <td>0.999770</td>\n",
       "      <td>0.0</td>\n",
       "    </tr>\n",
       "    <tr>\n",
       "      <th>16</th>\n",
       "      <td>max fpr</td>\n",
       "      <td>0.275911</td>\n",
       "      <td>1.000000</td>\n",
       "      <td>399.0</td>\n",
       "    </tr>\n",
       "    <tr>\n",
       "      <th>17</th>\n",
       "      <td>max tpr</td>\n",
       "      <td>0.291145</td>\n",
       "      <td>1.000000</td>\n",
       "      <td>398.0</td>\n",
       "    </tr>\n",
       "  </tbody>\n",
       "</table>\n",
       "</div>"
      ],
      "text/plain": [
       "                         metric  threshold        value    idx\n",
       "0                        max f1   0.291145     0.833413  398.0\n",
       "1                        max f2   0.291145     0.925965  398.0\n",
       "2                  max f0point5   0.551166     0.757820  371.0\n",
       "3                  max accuracy   0.291145     0.714450  398.0\n",
       "4                 max precision   0.854040     1.000000    0.0\n",
       "5                    max recall   0.291145     1.000000  398.0\n",
       "6               max specificity   0.854040     1.000000    0.0\n",
       "7              max absolute_mcc   0.572919     0.027061  362.0\n",
       "8    max min_per_class_accuracy   0.708194     0.501151  181.0\n",
       "9   max mean_per_class_accuracy   0.696938     0.511738  219.0\n",
       "10                      max tns   0.854040  1738.000000    0.0\n",
       "11                      max fns   0.854040  4344.000000    0.0\n",
       "12                      max fps   0.275911  1738.000000  399.0\n",
       "13                      max tps   0.291145  4345.000000  398.0\n",
       "14                      max tnr   0.854040     1.000000    0.0\n",
       "15                      max fnr   0.854040     0.999770    0.0\n",
       "16                      max fpr   0.275911     1.000000  399.0\n",
       "17                      max tpr   0.291145     1.000000  398.0"
      ]
     },
     "metadata": {},
     "output_type": "display_data"
    },
    {
     "name": "stdout",
     "output_type": "stream",
     "text": [
      "\n",
      "Gains/Lift Table: Avg response rate: 71.43 %, avg score: 70.68 %\n"
     ]
    },
    {
     "data": {
      "text/html": [
       "<div>\n",
       "<style scoped>\n",
       "    .dataframe tbody tr th:only-of-type {\n",
       "        vertical-align: middle;\n",
       "    }\n",
       "\n",
       "    .dataframe tbody tr th {\n",
       "        vertical-align: top;\n",
       "    }\n",
       "\n",
       "    .dataframe thead th {\n",
       "        text-align: right;\n",
       "    }\n",
       "</style>\n",
       "<table border=\"1\" class=\"dataframe\">\n",
       "  <thead>\n",
       "    <tr style=\"text-align: right;\">\n",
       "      <th></th>\n",
       "      <th>group</th>\n",
       "      <th>cumulative_data_fraction</th>\n",
       "      <th>lower_threshold</th>\n",
       "      <th>lift</th>\n",
       "      <th>cumulative_lift</th>\n",
       "      <th>response_rate</th>\n",
       "      <th>score</th>\n",
       "      <th>cumulative_response_rate</th>\n",
       "      <th>cumulative_score</th>\n",
       "      <th>capture_rate</th>\n",
       "      <th>cumulative_capture_rate</th>\n",
       "      <th>gain</th>\n",
       "      <th>cumulative_gain</th>\n",
       "      <th>kolmogorov_smirnov</th>\n",
       "    </tr>\n",
       "  </thead>\n",
       "  <tbody>\n",
       "    <tr>\n",
       "      <th>0</th>\n",
       "      <td>1</td>\n",
       "      <td>0.010028</td>\n",
       "      <td>0.790614</td>\n",
       "      <td>1.032787</td>\n",
       "      <td>1.032787</td>\n",
       "      <td>0.737705</td>\n",
       "      <td>0.806860</td>\n",
       "      <td>0.737705</td>\n",
       "      <td>0.806860</td>\n",
       "      <td>0.010357</td>\n",
       "      <td>0.010357</td>\n",
       "      <td>3.278689</td>\n",
       "      <td>3.278689</td>\n",
       "      <td>0.001151</td>\n",
       "    </tr>\n",
       "    <tr>\n",
       "      <th>1</th>\n",
       "      <td>2</td>\n",
       "      <td>0.020056</td>\n",
       "      <td>0.777072</td>\n",
       "      <td>1.147541</td>\n",
       "      <td>1.090164</td>\n",
       "      <td>0.819672</td>\n",
       "      <td>0.782714</td>\n",
       "      <td>0.778689</td>\n",
       "      <td>0.794787</td>\n",
       "      <td>0.011507</td>\n",
       "      <td>0.021864</td>\n",
       "      <td>14.754098</td>\n",
       "      <td>9.016393</td>\n",
       "      <td>0.006329</td>\n",
       "    </tr>\n",
       "    <tr>\n",
       "      <th>2</th>\n",
       "      <td>3</td>\n",
       "      <td>0.030084</td>\n",
       "      <td>0.768162</td>\n",
       "      <td>0.963934</td>\n",
       "      <td>1.048087</td>\n",
       "      <td>0.688525</td>\n",
       "      <td>0.772372</td>\n",
       "      <td>0.748634</td>\n",
       "      <td>0.787315</td>\n",
       "      <td>0.009666</td>\n",
       "      <td>0.031530</td>\n",
       "      <td>-3.606557</td>\n",
       "      <td>4.808743</td>\n",
       "      <td>0.005063</td>\n",
       "    </tr>\n",
       "    <tr>\n",
       "      <th>3</th>\n",
       "      <td>4</td>\n",
       "      <td>0.040112</td>\n",
       "      <td>0.763106</td>\n",
       "      <td>1.009836</td>\n",
       "      <td>1.038525</td>\n",
       "      <td>0.721311</td>\n",
       "      <td>0.765480</td>\n",
       "      <td>0.741803</td>\n",
       "      <td>0.781857</td>\n",
       "      <td>0.010127</td>\n",
       "      <td>0.041657</td>\n",
       "      <td>0.983607</td>\n",
       "      <td>3.852459</td>\n",
       "      <td>0.005409</td>\n",
       "    </tr>\n",
       "    <tr>\n",
       "      <th>4</th>\n",
       "      <td>5</td>\n",
       "      <td>0.050304</td>\n",
       "      <td>0.758012</td>\n",
       "      <td>1.038710</td>\n",
       "      <td>1.038562</td>\n",
       "      <td>0.741935</td>\n",
       "      <td>0.760479</td>\n",
       "      <td>0.741830</td>\n",
       "      <td>0.777525</td>\n",
       "      <td>0.010587</td>\n",
       "      <td>0.052244</td>\n",
       "      <td>3.870968</td>\n",
       "      <td>3.856209</td>\n",
       "      <td>0.006789</td>\n",
       "    </tr>\n",
       "    <tr>\n",
       "      <th>5</th>\n",
       "      <td>6</td>\n",
       "      <td>0.100115</td>\n",
       "      <td>0.743074</td>\n",
       "      <td>0.988779</td>\n",
       "      <td>1.013793</td>\n",
       "      <td>0.706271</td>\n",
       "      <td>0.749510</td>\n",
       "      <td>0.724138</td>\n",
       "      <td>0.763586</td>\n",
       "      <td>0.049252</td>\n",
       "      <td>0.101496</td>\n",
       "      <td>-1.122112</td>\n",
       "      <td>1.379310</td>\n",
       "      <td>0.004833</td>\n",
       "    </tr>\n",
       "    <tr>\n",
       "      <th>6</th>\n",
       "      <td>7</td>\n",
       "      <td>0.150255</td>\n",
       "      <td>0.734703</td>\n",
       "      <td>0.945574</td>\n",
       "      <td>0.991028</td>\n",
       "      <td>0.675410</td>\n",
       "      <td>0.738601</td>\n",
       "      <td>0.707877</td>\n",
       "      <td>0.755249</td>\n",
       "      <td>0.047411</td>\n",
       "      <td>0.148907</td>\n",
       "      <td>-5.442623</td>\n",
       "      <td>-0.897155</td>\n",
       "      <td>-0.004718</td>\n",
       "    </tr>\n",
       "    <tr>\n",
       "      <th>7</th>\n",
       "      <td>8</td>\n",
       "      <td>0.200066</td>\n",
       "      <td>0.728847</td>\n",
       "      <td>1.030363</td>\n",
       "      <td>1.000822</td>\n",
       "      <td>0.735974</td>\n",
       "      <td>0.731534</td>\n",
       "      <td>0.714873</td>\n",
       "      <td>0.749344</td>\n",
       "      <td>0.051323</td>\n",
       "      <td>0.200230</td>\n",
       "      <td>3.036304</td>\n",
       "      <td>0.082169</td>\n",
       "      <td>0.000575</td>\n",
       "    </tr>\n",
       "    <tr>\n",
       "      <th>8</th>\n",
       "      <td>9</td>\n",
       "      <td>0.300016</td>\n",
       "      <td>0.720792</td>\n",
       "      <td>1.013158</td>\n",
       "      <td>1.004932</td>\n",
       "      <td>0.723684</td>\n",
       "      <td>0.724589</td>\n",
       "      <td>0.717808</td>\n",
       "      <td>0.741097</td>\n",
       "      <td>0.101266</td>\n",
       "      <td>0.301496</td>\n",
       "      <td>1.315789</td>\n",
       "      <td>0.493151</td>\n",
       "      <td>0.005178</td>\n",
       "    </tr>\n",
       "    <tr>\n",
       "      <th>9</th>\n",
       "      <td>10</td>\n",
       "      <td>0.399967</td>\n",
       "      <td>0.714363</td>\n",
       "      <td>1.001645</td>\n",
       "      <td>1.004110</td>\n",
       "      <td>0.715461</td>\n",
       "      <td>0.717479</td>\n",
       "      <td>0.717222</td>\n",
       "      <td>0.735195</td>\n",
       "      <td>0.100115</td>\n",
       "      <td>0.401611</td>\n",
       "      <td>0.164474</td>\n",
       "      <td>0.411015</td>\n",
       "      <td>0.005754</td>\n",
       "    </tr>\n",
       "    <tr>\n",
       "      <th>10</th>\n",
       "      <td>11</td>\n",
       "      <td>0.500082</td>\n",
       "      <td>0.708185</td>\n",
       "      <td>0.995402</td>\n",
       "      <td>1.002367</td>\n",
       "      <td>0.711002</td>\n",
       "      <td>0.711249</td>\n",
       "      <td>0.715976</td>\n",
       "      <td>0.730401</td>\n",
       "      <td>0.099655</td>\n",
       "      <td>0.501266</td>\n",
       "      <td>-0.459770</td>\n",
       "      <td>0.236686</td>\n",
       "      <td>0.004143</td>\n",
       "    </tr>\n",
       "    <tr>\n",
       "      <th>11</th>\n",
       "      <td>12</td>\n",
       "      <td>0.600033</td>\n",
       "      <td>0.702017</td>\n",
       "      <td>1.031579</td>\n",
       "      <td>1.007233</td>\n",
       "      <td>0.736842</td>\n",
       "      <td>0.704974</td>\n",
       "      <td>0.719452</td>\n",
       "      <td>0.726166</td>\n",
       "      <td>0.103107</td>\n",
       "      <td>0.604373</td>\n",
       "      <td>3.157895</td>\n",
       "      <td>0.723288</td>\n",
       "      <td>0.015190</td>\n",
       "    </tr>\n",
       "    <tr>\n",
       "      <th>12</th>\n",
       "      <td>13</td>\n",
       "      <td>0.699984</td>\n",
       "      <td>0.696095</td>\n",
       "      <td>1.015461</td>\n",
       "      <td>1.008408</td>\n",
       "      <td>0.725329</td>\n",
       "      <td>0.699105</td>\n",
       "      <td>0.720291</td>\n",
       "      <td>0.722302</td>\n",
       "      <td>0.101496</td>\n",
       "      <td>0.705869</td>\n",
       "      <td>1.546053</td>\n",
       "      <td>0.840770</td>\n",
       "      <td>0.020598</td>\n",
       "    </tr>\n",
       "    <tr>\n",
       "      <th>13</th>\n",
       "      <td>14</td>\n",
       "      <td>0.799934</td>\n",
       "      <td>0.687930</td>\n",
       "      <td>0.974013</td>\n",
       "      <td>1.004110</td>\n",
       "      <td>0.695724</td>\n",
       "      <td>0.692228</td>\n",
       "      <td>0.717222</td>\n",
       "      <td>0.718544</td>\n",
       "      <td>0.097353</td>\n",
       "      <td>0.803222</td>\n",
       "      <td>-2.598684</td>\n",
       "      <td>0.411015</td>\n",
       "      <td>0.011507</td>\n",
       "    </tr>\n",
       "    <tr>\n",
       "      <th>14</th>\n",
       "      <td>15</td>\n",
       "      <td>0.899885</td>\n",
       "      <td>0.674013</td>\n",
       "      <td>0.994737</td>\n",
       "      <td>1.003069</td>\n",
       "      <td>0.710526</td>\n",
       "      <td>0.681767</td>\n",
       "      <td>0.716478</td>\n",
       "      <td>0.714459</td>\n",
       "      <td>0.099425</td>\n",
       "      <td>0.902647</td>\n",
       "      <td>-0.526316</td>\n",
       "      <td>0.306905</td>\n",
       "      <td>0.009666</td>\n",
       "    </tr>\n",
       "    <tr>\n",
       "      <th>15</th>\n",
       "      <td>16</td>\n",
       "      <td>1.000000</td>\n",
       "      <td>0.275911</td>\n",
       "      <td>0.972414</td>\n",
       "      <td>1.000000</td>\n",
       "      <td>0.694581</td>\n",
       "      <td>0.637683</td>\n",
       "      <td>0.714286</td>\n",
       "      <td>0.706773</td>\n",
       "      <td>0.097353</td>\n",
       "      <td>1.000000</td>\n",
       "      <td>-2.758621</td>\n",
       "      <td>0.000000</td>\n",
       "      <td>0.000000</td>\n",
       "    </tr>\n",
       "  </tbody>\n",
       "</table>\n",
       "</div>"
      ],
      "text/plain": [
       "    group  cumulative_data_fraction  lower_threshold      lift  \\\n",
       "0       1                  0.010028         0.790614  1.032787   \n",
       "1       2                  0.020056         0.777072  1.147541   \n",
       "2       3                  0.030084         0.768162  0.963934   \n",
       "3       4                  0.040112         0.763106  1.009836   \n",
       "4       5                  0.050304         0.758012  1.038710   \n",
       "5       6                  0.100115         0.743074  0.988779   \n",
       "6       7                  0.150255         0.734703  0.945574   \n",
       "7       8                  0.200066         0.728847  1.030363   \n",
       "8       9                  0.300016         0.720792  1.013158   \n",
       "9      10                  0.399967         0.714363  1.001645   \n",
       "10     11                  0.500082         0.708185  0.995402   \n",
       "11     12                  0.600033         0.702017  1.031579   \n",
       "12     13                  0.699984         0.696095  1.015461   \n",
       "13     14                  0.799934         0.687930  0.974013   \n",
       "14     15                  0.899885         0.674013  0.994737   \n",
       "15     16                  1.000000         0.275911  0.972414   \n",
       "\n",
       "    cumulative_lift  response_rate     score  cumulative_response_rate  \\\n",
       "0          1.032787       0.737705  0.806860                  0.737705   \n",
       "1          1.090164       0.819672  0.782714                  0.778689   \n",
       "2          1.048087       0.688525  0.772372                  0.748634   \n",
       "3          1.038525       0.721311  0.765480                  0.741803   \n",
       "4          1.038562       0.741935  0.760479                  0.741830   \n",
       "5          1.013793       0.706271  0.749510                  0.724138   \n",
       "6          0.991028       0.675410  0.738601                  0.707877   \n",
       "7          1.000822       0.735974  0.731534                  0.714873   \n",
       "8          1.004932       0.723684  0.724589                  0.717808   \n",
       "9          1.004110       0.715461  0.717479                  0.717222   \n",
       "10         1.002367       0.711002  0.711249                  0.715976   \n",
       "11         1.007233       0.736842  0.704974                  0.719452   \n",
       "12         1.008408       0.725329  0.699105                  0.720291   \n",
       "13         1.004110       0.695724  0.692228                  0.717222   \n",
       "14         1.003069       0.710526  0.681767                  0.716478   \n",
       "15         1.000000       0.694581  0.637683                  0.714286   \n",
       "\n",
       "    cumulative_score  capture_rate  cumulative_capture_rate       gain  \\\n",
       "0           0.806860      0.010357                 0.010357   3.278689   \n",
       "1           0.794787      0.011507                 0.021864  14.754098   \n",
       "2           0.787315      0.009666                 0.031530  -3.606557   \n",
       "3           0.781857      0.010127                 0.041657   0.983607   \n",
       "4           0.777525      0.010587                 0.052244   3.870968   \n",
       "5           0.763586      0.049252                 0.101496  -1.122112   \n",
       "6           0.755249      0.047411                 0.148907  -5.442623   \n",
       "7           0.749344      0.051323                 0.200230   3.036304   \n",
       "8           0.741097      0.101266                 0.301496   1.315789   \n",
       "9           0.735195      0.100115                 0.401611   0.164474   \n",
       "10          0.730401      0.099655                 0.501266  -0.459770   \n",
       "11          0.726166      0.103107                 0.604373   3.157895   \n",
       "12          0.722302      0.101496                 0.705869   1.546053   \n",
       "13          0.718544      0.097353                 0.803222  -2.598684   \n",
       "14          0.714459      0.099425                 0.902647  -0.526316   \n",
       "15          0.706773      0.097353                 1.000000  -2.758621   \n",
       "\n",
       "    cumulative_gain  kolmogorov_smirnov  \n",
       "0          3.278689            0.001151  \n",
       "1          9.016393            0.006329  \n",
       "2          4.808743            0.005063  \n",
       "3          3.852459            0.005409  \n",
       "4          3.856209            0.006789  \n",
       "5          1.379310            0.004833  \n",
       "6         -0.897155           -0.004718  \n",
       "7          0.082169            0.000575  \n",
       "8          0.493151            0.005178  \n",
       "9          0.411015            0.005754  \n",
       "10         0.236686            0.004143  \n",
       "11         0.723288            0.015190  \n",
       "12         0.840770            0.020598  \n",
       "13         0.411015            0.011507  \n",
       "14         0.306905            0.009666  \n",
       "15         0.000000            0.000000  "
      ]
     },
     "metadata": {},
     "output_type": "display_data"
    },
    {
     "name": "stdout",
     "output_type": "stream",
     "text": [
      "\n",
      "\n"
     ]
    }
   ],
   "source": [
    "print(gbm.model_performance(valid_df))"
   ]
  },
  {
   "cell_type": "markdown",
   "metadata": {},
   "source": [
    "- 모델에 들어가는 변수들의 중요도 플롯"
   ]
  },
  {
   "cell_type": "code",
   "execution_count": 42,
   "metadata": {},
   "outputs": [],
   "source": [
    "import matplotlib.pyplot as plt"
   ]
  },
  {
   "cell_type": "code",
   "execution_count": 43,
   "metadata": {},
   "outputs": [
    {
     "data": {
      "image/png": "[encoded data removed]",
      "text/plain": [
       "<Figure size 1008x720 with 1 Axes>"
      ]
     },
     "metadata": {
      "needs_background": "light"
     },
     "output_type": "display_data"
    }
   ],
   "source": [
    "gbm.varimp_plot()"
   ]
  },
  {
   "cell_type": "markdown",
   "metadata": {},
   "source": [
    "## 예측하기"
   ]
  },
  {
   "cell_type": "code",
   "execution_count": 45,
   "metadata": {},
   "outputs": [],
   "source": [
    "import numpy as np"
   ]
  },
  {
   "cell_type": "code",
   "execution_count": 46,
   "metadata": {},
   "outputs": [
    {
     "name": "stdout",
     "output_type": "stream",
     "text": [
      "gbm prediction progress: |████████████████████████████████████████████████| 100%\n",
      "Prediction accuracy:  1.0\n"
     ]
    }
   ],
   "source": [
    "pred_val = list(gbm.predict(test_df[predictors])[0])\n",
    "true_val = list(test_df[target])\n",
    "prediction_acc = np.mean(pred_val == true_val)\n",
    "print(\"Prediction accuracy: \", prediction_acc)"
   ]
  },
  {
   "cell_type": "markdown",
   "metadata": {},
   "source": [
    "- 정확도는 1입니다(100 % 정확하게 예측 된 값)."
   ]
  },
  {
   "cell_type": "code",
   "execution_count": 50,
   "metadata": {},
   "outputs": [
    {
     "data": {
      "text/html": [
       "<style>.container { width:90% !important; }</style>"
      ],
      "text/plain": [
       "<IPython.core.display.HTML object>"
      ]
     },
     "metadata": {},
     "output_type": "display_data"
    }
   ],
   "source": [
    "from IPython.core.display import display, HTML\n",
    "display(HTML(\"<style>.container { width:90% !important; }</style>\"))"
   ]
  }
 ],
 "metadata": {
  "kernelspec": {
   "display_name": "Python 3",
   "language": "python",
   "name": "python3"
  },
  "language_info": {
   "codemirror_mode": {
    "name": "ipython",
    "version": 3
   },
   "file_extension": ".py",
   "mimetype": "text/x-python",
   "name": "python",
   "nbconvert_exporter": "python",
   "pygments_lexer": "ipython3",
   "version": "3.6.9"
  }
 },
 "nbformat": 4,
 "nbformat_minor": 2
}
